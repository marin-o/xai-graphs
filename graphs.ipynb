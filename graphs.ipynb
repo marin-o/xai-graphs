{
 "cells": [
  {
   "cell_type": "markdown",
   "id": "6e69131d-3542-4c5e-92ef-e65ee47c6fc7",
   "metadata": {},
   "source": [
    "# Data preprocessing"
   ]
  },
  {
   "cell_type": "code",
   "id": "5355c93f-acb8-47c7-8616-eb1ba37db1c2",
   "metadata": {
    "ExecuteTime": {
     "end_time": "2024-07-10T14:54:05.126192Z",
     "start_time": "2024-07-10T14:54:04.100451Z"
    }
   },
   "source": [
    "import pandas as pd\n",
    "import networkx as nx\n",
    "import matplotlib.pyplot as plt \n",
    "import seaborn as sns\n",
    "from pandas.api.types import union_categoricals"
   ],
   "outputs": [],
   "execution_count": 1
  },
  {
   "cell_type": "markdown",
   "id": "a14dab81-4e07-4556-a992-28ad0ffab13a",
   "metadata": {},
   "source": [
    "### Read dataset"
   ]
  },
  {
   "cell_type": "code",
   "id": "2e689469-e0f0-43e1-9ca7-e301a6a6b0e2",
   "metadata": {
    "ExecuteTime": {
     "end_time": "2024-07-10T14:54:05.866349Z",
     "start_time": "2024-07-10T14:54:05.127189Z"
    }
   },
   "source": "data = pd.read_csv('data/processed_data/processed_data_2015_onward.csv')",
   "outputs": [],
   "execution_count": 2
  },
  {
   "cell_type": "code",
   "id": "8f80190d-606b-4205-a953-17aae6a807d3",
   "metadata": {
    "ExecuteTime": {
     "end_time": "2024-07-10T14:54:05.909770Z",
     "start_time": "2024-07-10T14:54:05.866349Z"
    }
   },
   "source": [
    "data.head(5)"
   ],
   "outputs": [
    {
     "data": {
      "text/plain": [
       "    EventDate Actor1CountryCode Actor2CountryCode  GoldsteinScale_Summed  \\\n",
       "0  2015-01-31               AFG               PAK                    8.5   \n",
       "1  2015-01-31               AFG               USA                   25.4   \n",
       "2  2015-01-31               AFR               BDI                   -2.0   \n",
       "3  2015-01-31               AFR               USA                    2.8   \n",
       "4  2015-01-31               AFR               ZAF                  -30.0   \n",
       "\n",
       "   AvgTone_Summed  NumMentions_averaged  NumArticles_averaged  \n",
       "0        2.205358              4.125000              4.125000  \n",
       "1      -25.458712              7.933333              7.933333  \n",
       "2        0.706714              5.000000              5.000000  \n",
       "3        5.889282             10.000000             10.000000  \n",
       "4      -17.795758              4.000000              4.000000  "
      ],
      "text/html": [
       "<div>\n",
       "<style scoped>\n",
       "    .dataframe tbody tr th:only-of-type {\n",
       "        vertical-align: middle;\n",
       "    }\n",
       "\n",
       "    .dataframe tbody tr th {\n",
       "        vertical-align: top;\n",
       "    }\n",
       "\n",
       "    .dataframe thead th {\n",
       "        text-align: right;\n",
       "    }\n",
       "</style>\n",
       "<table border=\"1\" class=\"dataframe\">\n",
       "  <thead>\n",
       "    <tr style=\"text-align: right;\">\n",
       "      <th></th>\n",
       "      <th>EventDate</th>\n",
       "      <th>Actor1CountryCode</th>\n",
       "      <th>Actor2CountryCode</th>\n",
       "      <th>GoldsteinScale_Summed</th>\n",
       "      <th>AvgTone_Summed</th>\n",
       "      <th>NumMentions_averaged</th>\n",
       "      <th>NumArticles_averaged</th>\n",
       "    </tr>\n",
       "  </thead>\n",
       "  <tbody>\n",
       "    <tr>\n",
       "      <th>0</th>\n",
       "      <td>2015-01-31</td>\n",
       "      <td>AFG</td>\n",
       "      <td>PAK</td>\n",
       "      <td>8.5</td>\n",
       "      <td>2.205358</td>\n",
       "      <td>4.125000</td>\n",
       "      <td>4.125000</td>\n",
       "    </tr>\n",
       "    <tr>\n",
       "      <th>1</th>\n",
       "      <td>2015-01-31</td>\n",
       "      <td>AFG</td>\n",
       "      <td>USA</td>\n",
       "      <td>25.4</td>\n",
       "      <td>-25.458712</td>\n",
       "      <td>7.933333</td>\n",
       "      <td>7.933333</td>\n",
       "    </tr>\n",
       "    <tr>\n",
       "      <th>2</th>\n",
       "      <td>2015-01-31</td>\n",
       "      <td>AFR</td>\n",
       "      <td>BDI</td>\n",
       "      <td>-2.0</td>\n",
       "      <td>0.706714</td>\n",
       "      <td>5.000000</td>\n",
       "      <td>5.000000</td>\n",
       "    </tr>\n",
       "    <tr>\n",
       "      <th>3</th>\n",
       "      <td>2015-01-31</td>\n",
       "      <td>AFR</td>\n",
       "      <td>USA</td>\n",
       "      <td>2.8</td>\n",
       "      <td>5.889282</td>\n",
       "      <td>10.000000</td>\n",
       "      <td>10.000000</td>\n",
       "    </tr>\n",
       "    <tr>\n",
       "      <th>4</th>\n",
       "      <td>2015-01-31</td>\n",
       "      <td>AFR</td>\n",
       "      <td>ZAF</td>\n",
       "      <td>-30.0</td>\n",
       "      <td>-17.795758</td>\n",
       "      <td>4.000000</td>\n",
       "      <td>4.000000</td>\n",
       "    </tr>\n",
       "  </tbody>\n",
       "</table>\n",
       "</div>"
      ]
     },
     "execution_count": 3,
     "metadata": {},
     "output_type": "execute_result"
    }
   ],
   "execution_count": 3
  },
  {
   "cell_type": "markdown",
   "id": "78d72db0-d884-42fa-99e9-9e9dc451d4fd",
   "metadata": {},
   "source": [
    "### Alphabetical order transofrmation"
   ]
  },
  {
   "cell_type": "code",
   "id": "3d52e5f7-3926-46dc-a0ee-80ce97c5049b",
   "metadata": {
    "ExecuteTime": {
     "end_time": "2024-07-10T14:54:05.912515Z",
     "start_time": "2024-07-10T14:54:05.909770Z"
    }
   },
   "source": [
    "# Remove tuples that contain the same two countries but in different order by averaging the values from both tuples (ex. AFG -PAK and PAK - AFG)"
   ],
   "outputs": [],
   "execution_count": 4
  },
  {
   "cell_type": "code",
   "id": "4c6c7a12-404a-4ea1-b021-26a6e4f2d398",
   "metadata": {
    "jupyter": {
     "is_executing": true
    },
    "ExecuteTime": {
     "start_time": "2024-07-10T14:54:05.912515Z"
    }
   },
   "source": [
    "for i in range(data.shape[0]):\n",
    "    if data.iloc[i, 2] < data.iloc[i, 1]:\n",
    "        c1 = data.iloc[i, 2]\n",
    "        data.iloc[i, 2] = data.iloc[i, 1]\n",
    "        data.iloc[i, 1] = c1"
   ],
   "outputs": [],
   "execution_count": null
  },
  {
   "cell_type": "code",
   "id": "31c3d79d-1a97-4a54-b303-bb91c091a284",
   "metadata": {
    "jupyter": {
     "is_executing": true
    }
   },
   "source": [
    "data = data.groupby(['EventDate', 'Actor1CountryCode',\t'Actor2CountryCode'])[['GoldsteinScale_Summed',\t'AvgTone_Summed', 'NumMentions_averaged', 'NumArticles_averaged']].mean().reset_index()"
   ],
   "outputs": [],
   "execution_count": null
  },
  {
   "cell_type": "code",
   "id": "2b58a4bf-e28c-46e0-a544-71fe21e9aa24",
   "metadata": {
    "jupyter": {
     "is_executing": true
    }
   },
   "source": [
    "data.head(5)"
   ],
   "outputs": [],
   "execution_count": null
  },
  {
   "cell_type": "markdown",
   "id": "d8949e48-7e05-4567-8d45-c5d992975a20",
   "metadata": {},
   "source": [
    "### Familiarization"
   ]
  },
  {
   "cell_type": "code",
   "id": "78bf066f-b09a-426c-9c0b-ebce0f111357",
   "metadata": {
    "jupyter": {
     "is_executing": true
    }
   },
   "source": [
    "data.info()"
   ],
   "outputs": [],
   "execution_count": null
  },
  {
   "cell_type": "code",
   "id": "230ffcc5-ed9d-4d3c-968b-b0f3c42edb47",
   "metadata": {
    "jupyter": {
     "is_executing": true
    }
   },
   "source": [
    "data.describe()"
   ],
   "outputs": [],
   "execution_count": null
  },
  {
   "cell_type": "code",
   "id": "912f5549-b077-497e-bc09-497d73044720",
   "metadata": {
    "jupyter": {
     "is_executing": true
    }
   },
   "source": [
    "data.shape"
   ],
   "outputs": [],
   "execution_count": null
  },
  {
   "cell_type": "markdown",
   "id": "6eddd1f2-c915-4a57-a0e4-3296224566f2",
   "metadata": {},
   "source": [
    "# Graph building"
   ]
  },
  {
   "cell_type": "code",
   "id": "d55133ed-0232-4db2-aee0-2c5984fee32f",
   "metadata": {
    "jupyter": {
     "is_executing": true
    }
   },
   "source": [
    "# extract nodes from data - the unique country codes\n",
    "a1 = pd.Categorical(data['Actor1CountryCode'])\n",
    "a2 = pd.Categorical(data['Actor2CountryCode'])\n",
    "nodes = union_categoricals([a1, a2]).categories.to_list()\n",
    "nodes"
   ],
   "outputs": [],
   "execution_count": null
  },
  {
   "cell_type": "code",
   "id": "97ff96c4-9c35-42cf-bf86-b896b990529d",
   "metadata": {
    "jupyter": {
     "is_executing": true
    }
   },
   "source": [
    "g = nx.MultiGraph()"
   ],
   "outputs": [],
   "execution_count": null
  },
  {
   "cell_type": "code",
   "id": "285e296c-bfea-42c0-b4f7-26496be116bd",
   "metadata": {
    "jupyter": {
     "is_executing": true
    }
   },
   "source": [
    "g.nodes"
   ],
   "outputs": [],
   "execution_count": null
  },
  {
   "cell_type": "code",
   "id": "7c655b8c-1088-4d26-8425-5a3ba600ee2b",
   "metadata": {
    "jupyter": {
     "is_executing": true
    }
   },
   "source": [
    "g.edges"
   ],
   "outputs": [],
   "execution_count": null
  },
  {
   "cell_type": "code",
   "id": "c116fa54-1d6b-4fe2-a0c1-712a97b57f32",
   "metadata": {
    "jupyter": {
     "is_executing": true
    }
   },
   "source": [
    "for i in range(data.shape[0]):\n",
    "    if data.iloc[i,0] == '2015-01-31':\n",
    "        g.add_edge(data.iloc[i,1], data.iloc[i,2], data.iloc[i,3])\n",
    "        g.add_edge(data.iloc[i,1], data.iloc[i,2], data.iloc[i,4])\n",
    "        g.add_edge(data.iloc[i,1], data.iloc[i,2], data.iloc[i,5])\n",
    "        g.add_edge(data.iloc[i,1], data.iloc[i,2], data.iloc[i,6])\n",
    "    else:\n",
    "        break "
   ],
   "outputs": [],
   "execution_count": null
  },
  {
   "cell_type": "code",
   "id": "6c4dddf1-1d84-4291-8b17-1d44eb8ef838",
   "metadata": {
    "jupyter": {
     "is_executing": true
    }
   },
   "source": [
    "g.edges"
   ],
   "outputs": [],
   "execution_count": null
  },
  {
   "cell_type": "code",
   "id": "995efe6f-fff7-44bf-b31b-08caf95259d0",
   "metadata": {
    "jupyter": {
     "is_executing": true
    }
   },
   "source": [
    "for (u,v,d) in g.edges:\n",
    "    print((u,v,d))"
   ],
   "outputs": [],
   "execution_count": null
  },
  {
   "cell_type": "code",
   "id": "a490153e-3bb5-4e25-b57f-0b7a7c071247",
   "metadata": {
    "jupyter": {
     "is_executing": true
    }
   },
   "source": [
    "elarge=[(u,v) for (u,v,d) in g.edges if d >0.5]\n",
    "esmall=[(u,v) for (u,v,d) in g.edges if d <=0.5]\n",
    "\n",
    "plt.figure(figsize=(30, 50))\n",
    "pos=nx.spring_layout(g) # positions for all nodes\n",
    "\n",
    "# nodes\n",
    "nx.draw_networkx_nodes(g,pos,node_size=300)\n",
    "\n",
    "# edges\n",
    "nx.draw_networkx_edges(g,pos,edgelist=elarge,\n",
    "                    width=6)\n",
    "nx.draw_networkx_edges(g,pos,edgelist=esmall,\n",
    "                    width=6,alpha=0.5,edge_color='b',style='dashed')\n",
    "\n",
    "# labels\n",
    "nx.draw_networkx_labels(g,pos,font_size=7,font_family='sans-serif')\n",
    "\n",
    "plt.axis('off')\n",
    "plt.title('January 2015')\n",
    "plt.savefig(\"weighted_graph.png\") # save as png\n",
    "plt.show() # display"
   ],
   "outputs": [],
   "execution_count": null
  },
  {
   "cell_type": "markdown",
   "id": "34bb4897-2188-4e71-bd2d-3b5da276ff33",
   "metadata": {},
   "source": [
    "### Building graph with attributes on edges"
   ]
  },
  {
   "cell_type": "code",
   "id": "aa31002b-bb76-4124-89e4-41fcbe5dac77",
   "metadata": {
    "jupyter": {
     "is_executing": true
    }
   },
   "source": [
    "g = nx.MultiGraph()"
   ],
   "outputs": [],
   "execution_count": null
  },
  {
   "cell_type": "code",
   "id": "b7ec0f1a-7aba-44fd-809e-8023a3fd09bb",
   "metadata": {
    "jupyter": {
     "is_executing": true
    }
   },
   "source": [
    "for i in range(data.shape[0]):\n",
    "    if data.iloc[i,0] == '2015-01-31':\n",
    "        g.add_edge(data.iloc[i,1], data.iloc[i,2], glt_sc = data.iloc[i,3], avg_tone = data.iloc[i,4], num_mentions= data.iloc[i,5], num_articles= data.iloc[i,6])\n",
    "    else:\n",
    "        break "
   ],
   "outputs": [],
   "execution_count": null
  },
  {
   "cell_type": "code",
   "id": "89881344-1c0c-4acc-bcca-87f2f0ae7b58",
   "metadata": {
    "jupyter": {
     "is_executing": true
    }
   },
   "source": [
    "g.edges()"
   ],
   "outputs": [],
   "execution_count": null
  },
  {
   "cell_type": "code",
   "id": "3dce582e-4841-4495-b748-4620ddbe2305",
   "metadata": {
    "jupyter": {
     "is_executing": true
    }
   },
   "source": [
    "for (u,v,d) in g.edges(data=True):\n",
    "    print((u,v,d))"
   ],
   "outputs": [],
   "execution_count": null
  },
  {
   "cell_type": "code",
   "id": "c455b6b1-6e53-40a8-9b92-ffd601bdfb88",
   "metadata": {
    "jupyter": {
     "is_executing": true
    }
   },
   "source": [],
   "outputs": [],
   "execution_count": null
  }
 ],
 "metadata": {
  "kernelspec": {
   "display_name": "Python 3 (ipykernel)",
   "language": "python",
   "name": "python3"
  },
  "language_info": {
   "codemirror_mode": {
    "name": "ipython",
    "version": 3
   },
   "file_extension": ".py",
   "mimetype": "text/x-python",
   "name": "python",
   "nbconvert_exporter": "python",
   "pygments_lexer": "ipython3",
   "version": "3.11.5"
  }
 },
 "nbformat": 4,
 "nbformat_minor": 5
}
