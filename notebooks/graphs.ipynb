{
 "cells": [
  {
   "cell_type": "markdown",
   "id": "6e69131d-3542-4c5e-92ef-e65ee47c6fc7",
   "metadata": {},
   "source": [
    "# Data preprocessing"
   ]
  },
  {
   "cell_type": "code",
   "id": "5355c93f-acb8-47c7-8616-eb1ba37db1c2",
   "metadata": {
    "ExecuteTime": {
     "end_time": "2024-07-10T14:54:05.126192Z",
     "start_time": "2024-07-10T14:54:04.100451Z"
    }
   },
   "source": [
    "import pandas as pd\n",
    "import networkx as nx\n",
    "import matplotlib.pyplot as plt \n",
    "import seaborn as sns\n",
    "from pandas.api.types import union_categoricals"
   ],
   "outputs": [],
   "execution_count": 1
  },
  {
   "cell_type": "markdown",
   "id": "a14dab81-4e07-4556-a992-28ad0ffab13a",
   "metadata": {},
   "source": [
    "### Read dataset"
   ]
  },
  {
   "cell_type": "code",
   "id": "2e689469-e0f0-43e1-9ca7-e301a6a6b0e2",
   "metadata": {
    "ExecuteTime": {
     "end_time": "2024-07-10T14:54:05.866349Z",
     "start_time": "2024-07-10T14:54:05.127189Z"
    }
   },
   "source": "data = pd.read_csv('../data/processed_data/processed_data_2015_onward.csv')",
   "outputs": [],
   "execution_count": 2
  },
  {
   "cell_type": "code",
   "id": "8f80190d-606b-4205-a953-17aae6a807d3",
   "metadata": {
    "ExecuteTime": {
     "end_time": "2024-07-10T14:54:05.909770Z",
     "start_time": "2024-07-10T14:54:05.866349Z"
    }
   },
   "source": [
    "data.head(5)"
   ],
   "outputs": [
    {
     "data": {
      "text/plain": [
       "    EventDate Actor1CountryCode Actor2CountryCode  GoldsteinScale_Summed  \\\n",
       "0  2015-01-31               AFG               PAK                    8.5   \n",
       "1  2015-01-31               AFG               USA                   25.4   \n",
       "2  2015-01-31               AFR               BDI                   -2.0   \n",
       "3  2015-01-31               AFR               USA                    2.8   \n",
       "4  2015-01-31               AFR               ZAF                  -30.0   \n",
       "\n",
       "   AvgTone_Summed  NumMentions_averaged  NumArticles_averaged  \n",
       "0        2.205358              4.125000              4.125000  \n",
       "1      -25.458712              7.933333              7.933333  \n",
       "2        0.706714              5.000000              5.000000  \n",
       "3        5.889282             10.000000             10.000000  \n",
       "4      -17.795758              4.000000              4.000000  "
      ],
      "text/html": [
       "<div>\n",
       "<style scoped>\n",
       "    .dataframe tbody tr th:only-of-type {\n",
       "        vertical-align: middle;\n",
       "    }\n",
       "\n",
       "    .dataframe tbody tr th {\n",
       "        vertical-align: top;\n",
       "    }\n",
       "\n",
       "    .dataframe thead th {\n",
       "        text-align: right;\n",
       "    }\n",
       "</style>\n",
       "<table border=\"1\" class=\"dataframe\">\n",
       "  <thead>\n",
       "    <tr style=\"text-align: right;\">\n",
       "      <th></th>\n",
       "      <th>EventDate</th>\n",
       "      <th>Actor1CountryCode</th>\n",
       "      <th>Actor2CountryCode</th>\n",
       "      <th>GoldsteinScale_Summed</th>\n",
       "      <th>AvgTone_Summed</th>\n",
       "      <th>NumMentions_averaged</th>\n",
       "      <th>NumArticles_averaged</th>\n",
       "    </tr>\n",
       "  </thead>\n",
       "  <tbody>\n",
       "    <tr>\n",
       "      <th>0</th>\n",
       "      <td>2015-01-31</td>\n",
       "      <td>AFG</td>\n",
       "      <td>PAK</td>\n",
       "      <td>8.5</td>\n",
       "      <td>2.205358</td>\n",
       "      <td>4.125000</td>\n",
       "      <td>4.125000</td>\n",
       "    </tr>\n",
       "    <tr>\n",
       "      <th>1</th>\n",
       "      <td>2015-01-31</td>\n",
       "      <td>AFG</td>\n",
       "      <td>USA</td>\n",
       "      <td>25.4</td>\n",
       "      <td>-25.458712</td>\n",
       "      <td>7.933333</td>\n",
       "      <td>7.933333</td>\n",
       "    </tr>\n",
       "    <tr>\n",
       "      <th>2</th>\n",
       "      <td>2015-01-31</td>\n",
       "      <td>AFR</td>\n",
       "      <td>BDI</td>\n",
       "      <td>-2.0</td>\n",
       "      <td>0.706714</td>\n",
       "      <td>5.000000</td>\n",
       "      <td>5.000000</td>\n",
       "    </tr>\n",
       "    <tr>\n",
       "      <th>3</th>\n",
       "      <td>2015-01-31</td>\n",
       "      <td>AFR</td>\n",
       "      <td>USA</td>\n",
       "      <td>2.8</td>\n",
       "      <td>5.889282</td>\n",
       "      <td>10.000000</td>\n",
       "      <td>10.000000</td>\n",
       "    </tr>\n",
       "    <tr>\n",
       "      <th>4</th>\n",
       "      <td>2015-01-31</td>\n",
       "      <td>AFR</td>\n",
       "      <td>ZAF</td>\n",
       "      <td>-30.0</td>\n",
       "      <td>-17.795758</td>\n",
       "      <td>4.000000</td>\n",
       "      <td>4.000000</td>\n",
       "    </tr>\n",
       "  </tbody>\n",
       "</table>\n",
       "</div>"
      ]
     },
     "execution_count": 3,
     "metadata": {},
     "output_type": "execute_result"
    }
   ],
   "execution_count": 3
  },
  {
   "cell_type": "markdown",
   "id": "78d72db0-d884-42fa-99e9-9e9dc451d4fd",
   "metadata": {},
   "source": [
    "### Alphabetical order transofrmation"
   ]
  },
  {
   "cell_type": "code",
   "id": "3d52e5f7-3926-46dc-a0ee-80ce97c5049b",
   "metadata": {
    "ExecuteTime": {
     "end_time": "2024-07-10T14:54:05.912515Z",
     "start_time": "2024-07-10T14:54:05.909770Z"
    }
   },
   "source": [
    "# Remove tuples that contain the same two countries but in different order by averaging the values from both tuples (ex. AFG -PAK and PAK - AFG)"
   ],
   "outputs": [],
   "execution_count": 4
  },
  {
   "cell_type": "code",
   "id": "4c6c7a12-404a-4ea1-b021-26a6e4f2d398",
   "metadata": {
    "ExecuteTime": {
     "end_time": "2024-07-10T14:55:35.675341Z",
     "start_time": "2024-07-10T14:54:05.912515Z"
    }
   },
   "source": [
    "for i in range(data.shape[0]):\n",
    "    if data.iloc[i, 2] < data.iloc[i, 1]:\n",
    "        c1 = data.iloc[i, 2]\n",
    "        data.iloc[i, 2] = data.iloc[i, 1]\n",
    "        data.iloc[i, 1] = c1"
   ],
   "outputs": [
    {
     "ename": "KeyboardInterrupt",
     "evalue": "",
     "output_type": "error",
     "traceback": [
      "\u001B[1;31m---------------------------------------------------------------------------\u001B[0m",
      "\u001B[1;31mKeyboardInterrupt\u001B[0m                         Traceback (most recent call last)",
      "Cell \u001B[1;32mIn[5], line 4\u001B[0m\n\u001B[0;32m      2\u001B[0m \u001B[38;5;28;01mif\u001B[39;00m data\u001B[38;5;241m.\u001B[39miloc[i, \u001B[38;5;241m2\u001B[39m] \u001B[38;5;241m<\u001B[39m data\u001B[38;5;241m.\u001B[39miloc[i, \u001B[38;5;241m1\u001B[39m]:\n\u001B[0;32m      3\u001B[0m     c1 \u001B[38;5;241m=\u001B[39m data\u001B[38;5;241m.\u001B[39miloc[i, \u001B[38;5;241m2\u001B[39m]\n\u001B[1;32m----> 4\u001B[0m     \u001B[43mdata\u001B[49m\u001B[38;5;241;43m.\u001B[39;49m\u001B[43miloc\u001B[49m\u001B[43m[\u001B[49m\u001B[43mi\u001B[49m\u001B[43m,\u001B[49m\u001B[43m \u001B[49m\u001B[38;5;241;43m2\u001B[39;49m\u001B[43m]\u001B[49m \u001B[38;5;241m=\u001B[39m data\u001B[38;5;241m.\u001B[39miloc[i, \u001B[38;5;241m1\u001B[39m]\n\u001B[0;32m      5\u001B[0m     data\u001B[38;5;241m.\u001B[39miloc[i, \u001B[38;5;241m1\u001B[39m] \u001B[38;5;241m=\u001B[39m c1\n",
      "File \u001B[1;32mZ:\\Users\\onira\\Documents\\_FINKI\\VNP PROJECT\\xai-graphs\\.venv\\Lib\\site-packages\\pandas\\core\\indexing.py:911\u001B[0m, in \u001B[0;36m_LocationIndexer.__setitem__\u001B[1;34m(self, key, value)\u001B[0m\n\u001B[0;32m    908\u001B[0m \u001B[38;5;28mself\u001B[39m\u001B[38;5;241m.\u001B[39m_has_valid_setitem_indexer(key)\n\u001B[0;32m    910\u001B[0m iloc \u001B[38;5;241m=\u001B[39m \u001B[38;5;28mself\u001B[39m \u001B[38;5;28;01mif\u001B[39;00m \u001B[38;5;28mself\u001B[39m\u001B[38;5;241m.\u001B[39mname \u001B[38;5;241m==\u001B[39m \u001B[38;5;124m\"\u001B[39m\u001B[38;5;124miloc\u001B[39m\u001B[38;5;124m\"\u001B[39m \u001B[38;5;28;01melse\u001B[39;00m \u001B[38;5;28mself\u001B[39m\u001B[38;5;241m.\u001B[39mobj\u001B[38;5;241m.\u001B[39miloc\n\u001B[1;32m--> 911\u001B[0m \u001B[43miloc\u001B[49m\u001B[38;5;241;43m.\u001B[39;49m\u001B[43m_setitem_with_indexer\u001B[49m\u001B[43m(\u001B[49m\u001B[43mindexer\u001B[49m\u001B[43m,\u001B[49m\u001B[43m \u001B[49m\u001B[43mvalue\u001B[49m\u001B[43m,\u001B[49m\u001B[43m \u001B[49m\u001B[38;5;28;43mself\u001B[39;49m\u001B[38;5;241;43m.\u001B[39;49m\u001B[43mname\u001B[49m\u001B[43m)\u001B[49m\n",
      "File \u001B[1;32mZ:\\Users\\onira\\Documents\\_FINKI\\VNP PROJECT\\xai-graphs\\.venv\\Lib\\site-packages\\pandas\\core\\indexing.py:1942\u001B[0m, in \u001B[0;36m_iLocIndexer._setitem_with_indexer\u001B[1;34m(self, indexer, value, name)\u001B[0m\n\u001B[0;32m   1939\u001B[0m \u001B[38;5;66;03m# align and set the values\u001B[39;00m\n\u001B[0;32m   1940\u001B[0m \u001B[38;5;28;01mif\u001B[39;00m take_split_path:\n\u001B[0;32m   1941\u001B[0m     \u001B[38;5;66;03m# We have to operate column-wise\u001B[39;00m\n\u001B[1;32m-> 1942\u001B[0m     \u001B[38;5;28;43mself\u001B[39;49m\u001B[38;5;241;43m.\u001B[39;49m\u001B[43m_setitem_with_indexer_split_path\u001B[49m\u001B[43m(\u001B[49m\u001B[43mindexer\u001B[49m\u001B[43m,\u001B[49m\u001B[43m \u001B[49m\u001B[43mvalue\u001B[49m\u001B[43m,\u001B[49m\u001B[43m \u001B[49m\u001B[43mname\u001B[49m\u001B[43m)\u001B[49m\n\u001B[0;32m   1943\u001B[0m \u001B[38;5;28;01melse\u001B[39;00m:\n\u001B[0;32m   1944\u001B[0m     \u001B[38;5;28mself\u001B[39m\u001B[38;5;241m.\u001B[39m_setitem_single_block(indexer, value, name)\n",
      "File \u001B[1;32mZ:\\Users\\onira\\Documents\\_FINKI\\VNP PROJECT\\xai-graphs\\.venv\\Lib\\site-packages\\pandas\\core\\indexing.py:2035\u001B[0m, in \u001B[0;36m_iLocIndexer._setitem_with_indexer_split_path\u001B[1;34m(self, indexer, value, name)\u001B[0m\n\u001B[0;32m   2032\u001B[0m \u001B[38;5;28;01melse\u001B[39;00m:\n\u001B[0;32m   2033\u001B[0m     \u001B[38;5;66;03m# scalar value\u001B[39;00m\n\u001B[0;32m   2034\u001B[0m     \u001B[38;5;28;01mfor\u001B[39;00m loc \u001B[38;5;129;01min\u001B[39;00m ilocs:\n\u001B[1;32m-> 2035\u001B[0m         \u001B[38;5;28;43mself\u001B[39;49m\u001B[38;5;241;43m.\u001B[39;49m\u001B[43m_setitem_single_column\u001B[49m\u001B[43m(\u001B[49m\u001B[43mloc\u001B[49m\u001B[43m,\u001B[49m\u001B[43m \u001B[49m\u001B[43mvalue\u001B[49m\u001B[43m,\u001B[49m\u001B[43m \u001B[49m\u001B[43mpi\u001B[49m\u001B[43m)\u001B[49m\n",
      "File \u001B[1;32mZ:\\Users\\onira\\Documents\\_FINKI\\VNP PROJECT\\xai-graphs\\.venv\\Lib\\site-packages\\pandas\\core\\indexing.py:2175\u001B[0m, in \u001B[0;36m_iLocIndexer._setitem_single_column\u001B[1;34m(self, loc, value, plane_indexer)\u001B[0m\n\u001B[0;32m   2165\u001B[0m     \u001B[38;5;28;01mif\u001B[39;00m dtype \u001B[38;5;241m==\u001B[39m np\u001B[38;5;241m.\u001B[39mvoid:\n\u001B[0;32m   2166\u001B[0m         \u001B[38;5;66;03m# This means we're expanding, with multiple columns, e.g.\u001B[39;00m\n\u001B[0;32m   2167\u001B[0m         \u001B[38;5;66;03m#     df = pd.DataFrame({'A': [1,2,3], 'B': [4,5,6]})\u001B[39;00m\n\u001B[1;32m   (...)\u001B[0m\n\u001B[0;32m   2170\u001B[0m         \u001B[38;5;66;03m# Here, we replace those temporary `np.void` columns with\u001B[39;00m\n\u001B[0;32m   2171\u001B[0m         \u001B[38;5;66;03m# columns of the appropriate dtype, based on `value`.\u001B[39;00m\n\u001B[0;32m   2172\u001B[0m         \u001B[38;5;28mself\u001B[39m\u001B[38;5;241m.\u001B[39mobj\u001B[38;5;241m.\u001B[39miloc[:, loc] \u001B[38;5;241m=\u001B[39m construct_1d_array_from_inferred_fill_value(\n\u001B[0;32m   2173\u001B[0m             value, \u001B[38;5;28mlen\u001B[39m(\u001B[38;5;28mself\u001B[39m\u001B[38;5;241m.\u001B[39mobj)\n\u001B[0;32m   2174\u001B[0m         )\n\u001B[1;32m-> 2175\u001B[0m     \u001B[38;5;28;43mself\u001B[39;49m\u001B[38;5;241;43m.\u001B[39;49m\u001B[43mobj\u001B[49m\u001B[38;5;241;43m.\u001B[39;49m\u001B[43m_mgr\u001B[49m\u001B[38;5;241;43m.\u001B[39;49m\u001B[43mcolumn_setitem\u001B[49m\u001B[43m(\u001B[49m\u001B[43mloc\u001B[49m\u001B[43m,\u001B[49m\u001B[43m \u001B[49m\u001B[43mplane_indexer\u001B[49m\u001B[43m,\u001B[49m\u001B[43m \u001B[49m\u001B[43mvalue\u001B[49m\u001B[43m)\u001B[49m\n\u001B[0;32m   2177\u001B[0m \u001B[38;5;28mself\u001B[39m\u001B[38;5;241m.\u001B[39mobj\u001B[38;5;241m.\u001B[39m_clear_item_cache()\n",
      "File \u001B[1;32mZ:\\Users\\onira\\Documents\\_FINKI\\VNP PROJECT\\xai-graphs\\.venv\\Lib\\site-packages\\pandas\\core\\internals\\managers.py:1338\u001B[0m, in \u001B[0;36mBlockManager.column_setitem\u001B[1;34m(self, loc, idx, value, inplace_only)\u001B[0m\n\u001B[0;32m   1336\u001B[0m \u001B[38;5;28;01melse\u001B[39;00m:\n\u001B[0;32m   1337\u001B[0m     new_mgr \u001B[38;5;241m=\u001B[39m col_mgr\u001B[38;5;241m.\u001B[39msetitem((idx,), value)\n\u001B[1;32m-> 1338\u001B[0m     \u001B[38;5;28;43mself\u001B[39;49m\u001B[38;5;241;43m.\u001B[39;49m\u001B[43miset\u001B[49m\u001B[43m(\u001B[49m\u001B[43mloc\u001B[49m\u001B[43m,\u001B[49m\u001B[43m \u001B[49m\u001B[43mnew_mgr\u001B[49m\u001B[38;5;241;43m.\u001B[39;49m\u001B[43m_block\u001B[49m\u001B[38;5;241;43m.\u001B[39;49m\u001B[43mvalues\u001B[49m\u001B[43m,\u001B[49m\u001B[43m \u001B[49m\u001B[43minplace\u001B[49m\u001B[38;5;241;43m=\u001B[39;49m\u001B[38;5;28;43;01mTrue\u001B[39;49;00m\u001B[43m)\u001B[49m\n\u001B[0;32m   1340\u001B[0m \u001B[38;5;28;01mif\u001B[39;00m needs_to_warn:\n\u001B[0;32m   1341\u001B[0m     warnings\u001B[38;5;241m.\u001B[39mwarn(\n\u001B[0;32m   1342\u001B[0m         COW_WARNING_GENERAL_MSG,\n\u001B[0;32m   1343\u001B[0m         \u001B[38;5;167;01mFutureWarning\u001B[39;00m,\n\u001B[0;32m   1344\u001B[0m         stacklevel\u001B[38;5;241m=\u001B[39mfind_stack_level(),\n\u001B[0;32m   1345\u001B[0m     )\n",
      "File \u001B[1;32mZ:\\Users\\onira\\Documents\\_FINKI\\VNP PROJECT\\xai-graphs\\.venv\\Lib\\site-packages\\pandas\\core\\internals\\managers.py:1149\u001B[0m, in \u001B[0;36mBlockManager.iset\u001B[1;34m(self, loc, value, inplace, refs)\u001B[0m\n\u001B[0;32m   1147\u001B[0m     \u001B[38;5;28;01melse\u001B[39;00m:\n\u001B[0;32m   1148\u001B[0m         blk\u001B[38;5;241m.\u001B[39mset_inplace(blk_locs, value_getitem(val_locs))\n\u001B[1;32m-> 1149\u001B[0m         \u001B[38;5;28;01mcontinue\u001B[39;00m\n\u001B[0;32m   1150\u001B[0m \u001B[38;5;28;01melse\u001B[39;00m:\n\u001B[0;32m   1151\u001B[0m     unfit_mgr_locs\u001B[38;5;241m.\u001B[39mappend(blk\u001B[38;5;241m.\u001B[39mmgr_locs\u001B[38;5;241m.\u001B[39mas_array[blk_locs])\n",
      "\u001B[1;31mKeyboardInterrupt\u001B[0m: "
     ]
    }
   ],
   "execution_count": 5
  },
  {
   "cell_type": "code",
   "id": "31c3d79d-1a97-4a54-b303-bb91c091a284",
   "metadata": {},
   "source": [
    "data = data.groupby(['EventDate', 'Actor1CountryCode',\t'Actor2CountryCode'])[['GoldsteinScale_Summed',\t'AvgTone_Summed', 'NumMentions_averaged', 'NumArticles_averaged']].mean().reset_index()"
   ],
   "outputs": [],
   "execution_count": null
  },
  {
   "cell_type": "code",
   "id": "2b58a4bf-e28c-46e0-a544-71fe21e9aa24",
   "metadata": {},
   "source": [
    "data.head(5)"
   ],
   "outputs": [],
   "execution_count": null
  },
  {
   "cell_type": "markdown",
   "id": "d8949e48-7e05-4567-8d45-c5d992975a20",
   "metadata": {},
   "source": [
    "### Familiarization"
   ]
  },
  {
   "cell_type": "code",
   "id": "78bf066f-b09a-426c-9c0b-ebce0f111357",
   "metadata": {},
   "source": [
    "data.info()"
   ],
   "outputs": [],
   "execution_count": null
  },
  {
   "cell_type": "code",
   "id": "230ffcc5-ed9d-4d3c-968b-b0f3c42edb47",
   "metadata": {},
   "source": [
    "data.describe()"
   ],
   "outputs": [],
   "execution_count": null
  },
  {
   "cell_type": "code",
   "id": "912f5549-b077-497e-bc09-497d73044720",
   "metadata": {},
   "source": [
    "data.shape"
   ],
   "outputs": [],
   "execution_count": null
  },
  {
   "cell_type": "markdown",
   "id": "6eddd1f2-c915-4a57-a0e4-3296224566f2",
   "metadata": {},
   "source": [
    "# Graph building"
   ]
  },
  {
   "cell_type": "code",
   "id": "d55133ed-0232-4db2-aee0-2c5984fee32f",
   "metadata": {},
   "source": [
    "# extract nodes from data - the unique country codes\n",
    "a1 = pd.Categorical(data['Actor1CountryCode'])\n",
    "a2 = pd.Categorical(data['Actor2CountryCode'])\n",
    "nodes = union_categoricals([a1, a2]).categories.to_list()\n",
    "nodes"
   ],
   "outputs": [],
   "execution_count": null
  },
  {
   "cell_type": "code",
   "id": "97ff96c4-9c35-42cf-bf86-b896b990529d",
   "metadata": {},
   "source": [
    "g = nx.MultiGraph()"
   ],
   "outputs": [],
   "execution_count": null
  },
  {
   "cell_type": "code",
   "id": "285e296c-bfea-42c0-b4f7-26496be116bd",
   "metadata": {},
   "source": [
    "g.nodes"
   ],
   "outputs": [],
   "execution_count": null
  },
  {
   "cell_type": "code",
   "id": "7c655b8c-1088-4d26-8425-5a3ba600ee2b",
   "metadata": {},
   "source": [
    "g.edges"
   ],
   "outputs": [],
   "execution_count": null
  },
  {
   "cell_type": "code",
   "id": "c116fa54-1d6b-4fe2-a0c1-712a97b57f32",
   "metadata": {},
   "source": [
    "for i in range(data.shape[0]):\n",
    "    if data.iloc[i,0] == '2015-01-31':\n",
    "        g.add_edge(data.iloc[i,1], data.iloc[i,2], data.iloc[i,3])\n",
    "        g.add_edge(data.iloc[i,1], data.iloc[i,2], data.iloc[i,4])\n",
    "        g.add_edge(data.iloc[i,1], data.iloc[i,2], data.iloc[i,5])\n",
    "        g.add_edge(data.iloc[i,1], data.iloc[i,2], data.iloc[i,6])\n",
    "    else:\n",
    "        break "
   ],
   "outputs": [],
   "execution_count": null
  },
  {
   "cell_type": "code",
   "id": "6c4dddf1-1d84-4291-8b17-1d44eb8ef838",
   "metadata": {},
   "source": [
    "g.edges"
   ],
   "outputs": [],
   "execution_count": null
  },
  {
   "cell_type": "code",
   "id": "995efe6f-fff7-44bf-b31b-08caf95259d0",
   "metadata": {},
   "source": [
    "for (u,v,d) in g.edges:\n",
    "    print((u,v,d))"
   ],
   "outputs": [],
   "execution_count": null
  },
  {
   "cell_type": "code",
   "id": "a490153e-3bb5-4e25-b57f-0b7a7c071247",
   "metadata": {},
   "source": [
    "elarge=[(u,v) for (u,v,d) in g.edges if d >0.5]\n",
    "esmall=[(u,v) for (u,v,d) in g.edges if d <=0.5]\n",
    "\n",
    "plt.figure(figsize=(30, 50))\n",
    "pos=nx.spring_layout(g) # positions for all nodes\n",
    "\n",
    "# nodes\n",
    "nx.draw_networkx_nodes(g,pos,node_size=300)\n",
    "\n",
    "# edges\n",
    "nx.draw_networkx_edges(g,pos,edgelist=elarge,\n",
    "                    width=6)\n",
    "nx.draw_networkx_edges(g,pos,edgelist=esmall,\n",
    "                    width=6,alpha=0.5,edge_color='b',style='dashed')\n",
    "\n",
    "# labels\n",
    "nx.draw_networkx_labels(g,pos,font_size=7,font_family='sans-serif')\n",
    "\n",
    "plt.axis('off')\n",
    "plt.title('January 2015')\n",
    "plt.savefig(\"weighted_graph.png\") # save as png\n",
    "plt.show() # display"
   ],
   "outputs": [],
   "execution_count": null
  },
  {
   "cell_type": "markdown",
   "id": "34bb4897-2188-4e71-bd2d-3b5da276ff33",
   "metadata": {},
   "source": [
    "### Building graph with attributes on edges"
   ]
  },
  {
   "cell_type": "code",
   "id": "aa31002b-bb76-4124-89e4-41fcbe5dac77",
   "metadata": {},
   "source": [
    "g = nx.MultiGraph()"
   ],
   "outputs": [],
   "execution_count": null
  },
  {
   "cell_type": "code",
   "id": "b7ec0f1a-7aba-44fd-809e-8023a3fd09bb",
   "metadata": {},
   "source": [
    "for i in range(data.shape[0]):\n",
    "    if data.iloc[i,0] == '2015-01-31':\n",
    "        g.add_edge(data.iloc[i,1], data.iloc[i,2], glt_sc = data.iloc[i,3], avg_tone = data.iloc[i,4], num_mentions= data.iloc[i,5], num_articles= data.iloc[i,6])\n",
    "    else:\n",
    "        break "
   ],
   "outputs": [],
   "execution_count": null
  },
  {
   "cell_type": "code",
   "id": "89881344-1c0c-4acc-bcca-87f2f0ae7b58",
   "metadata": {},
   "source": [
    "g.edges()"
   ],
   "outputs": [],
   "execution_count": null
  },
  {
   "cell_type": "code",
   "id": "3dce582e-4841-4495-b748-4620ddbe2305",
   "metadata": {},
   "source": [
    "for (u,v,d) in g.edges(data=True):\n",
    "    print((u,v,d))"
   ],
   "outputs": [],
   "execution_count": null
  },
  {
   "cell_type": "code",
   "id": "c455b6b1-6e53-40a8-9b92-ffd601bdfb88",
   "metadata": {},
   "source": [],
   "outputs": [],
   "execution_count": null
  }
 ],
 "metadata": {
  "kernelspec": {
   "display_name": "Python 3 (ipykernel)",
   "language": "python",
   "name": "python3"
  },
  "language_info": {
   "codemirror_mode": {
    "name": "ipython",
    "version": 3
   },
   "file_extension": ".py",
   "mimetype": "text/x-python",
   "name": "python",
   "nbconvert_exporter": "python",
   "pygments_lexer": "ipython3",
   "version": "3.11.5"
  }
 },
 "nbformat": 4,
 "nbformat_minor": 5
}
