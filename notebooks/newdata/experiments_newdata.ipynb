{
 "cells": [
  {
   "cell_type": "markdown",
   "id": "5ef13fa2ba7b1608",
   "metadata": {},
   "source": [
    "# Imports"
   ]
  },
  {
   "cell_type": "code",
   "execution_count": 1,
   "id": "fb8a58a6735db966",
   "metadata": {
    "ExecuteTime": {
     "end_time": "2025-05-18T13:55:01.282650Z",
     "start_time": "2025-05-18T13:54:36.594645Z"
    }
   },
   "outputs": [],
   "source": [
    "import os\n",
    "import sys\n",
    "from collections import defaultdict\n",
    "import networkx as nx\n",
    "from node2vec import Node2Vec\n",
    "import pickle\n",
    "import pandas as pd\n",
    "import numpy as np\n",
    "from sklearn.metrics import recall_score, accuracy_score, f1_score, r2_score, confusion_matrix, classification_report, ConfusionMatrixDisplay\n",
    "import seaborn as sns\n",
    "from sklearn.linear_model import LogisticRegression, LinearRegression\n",
    "from sklearn.ensemble import RandomForestClassifier, RandomForestRegressor\n",
    "from sklearn.model_selection import train_test_split\n",
    "from sklearn.preprocessing import MinMaxScaler\n",
    "from sklearn.neural_network import MLPRegressor\n",
    "import matplotlib.pyplot as plt\n",
    "from sklearn.svm import SVC\n",
    "import tensorflow as tf\n",
    "from tensorflow.keras import layers, models\n",
    "from sklearn.utils import resample\n"
   ]
  },
  {
   "cell_type": "code",
   "execution_count": 2,
   "id": "106826fa",
   "metadata": {
    "ExecuteTime": {
     "end_time": "2025-05-18T17:19:00.646216Z",
     "start_time": "2025-05-18T17:19:00.617221Z"
    }
   },
   "outputs": [],
   "source": [
    "# Get the absolute path to the parent directory containing the mj module\n",
    "parent_directory = os.path.abspath(os.path.join(os.getcwd(), '..', '..'))\n",
    "sys.path.insert(0, parent_directory)\n",
    "\n",
    "# Import mj as a module first\n",
    "import mj\n",
    "from mj import utils\n",
    "import importlib\n",
    "\n",
    "# Then reload both the package and the module\n",
    "importlib.reload(mj)\n",
    "importlib.reload(mj.utils)\n",
    "importlib.reload(utils)\n",
    "\n",
    "# Now you can import from mj.utils\n",
    "from mj.utils import NODE2VEC_SEED\n"
   ]
  },
  {
   "cell_type": "code",
   "execution_count": 3,
   "id": "e6fed849b84c6ca8",
   "metadata": {
    "ExecuteTime": {
     "end_time": "2025-05-18T17:19:02.288217Z",
     "start_time": "2025-05-18T17:19:02.264218Z"
    }
   },
   "outputs": [],
   "source": [
    "from mj import utils"
   ]
  },
  {
   "cell_type": "markdown",
   "id": "21893358c9c3b49b",
   "metadata": {},
   "source": [
    "### Functions"
   ]
  },
  {
   "cell_type": "code",
   "execution_count": 4,
   "id": "5f9bd7c9d9cb881e",
   "metadata": {
    "ExecuteTime": {
     "end_time": "2025-05-18T13:56:30.684985Z",
     "start_time": "2025-05-18T13:56:30.669713Z"
    }
   },
   "outputs": [],
   "source": [
    "def load_graphs(m):\n",
    "    gr = []\n",
    "    for month in m:\n",
    "        with open(f'../../data/graphs/{month}.pkl', 'rb') as f:\n",
    "            g = pickle.load(f)\n",
    "            gr.append(g)\n",
    "    return gr"
   ]
  },
  {
   "cell_type": "code",
   "execution_count": 5,
   "id": "1e163e743d725d51",
   "metadata": {
    "ExecuteTime": {
     "end_time": "2025-05-18T13:56:31.750115Z",
     "start_time": "2025-05-18T13:56:31.726594Z"
    }
   },
   "outputs": [],
   "source": [
    "def create_nv_models(graphs, w_length, n_walks, dim=64):\n",
    "    if len(graphs) != 4:\n",
    "        raise ValueError('There must be exactly 4 graphs')\n",
    "    j_nv = Node2Vec(graphs[0], dimensions=dim, walk_length=w_length, num_walks=n_walks, seed=NODE2VEC_SEED)\n",
    "    j_model = j_nv.fit(window=10, min_count=1, batch_words=4)\n",
    "    f_nv = Node2Vec(graphs[1], dimensions=dim, walk_length=w_length, num_walks=n_walks, seed=NODE2VEC_SEED)\n",
    "    f_model = f_nv.fit(window=10, min_count=1, batch_words=4)\n",
    "    m_nv = Node2Vec(graphs[2], dimensions=dim, walk_length=w_length, num_walks=n_walks, seed=NODE2VEC_SEED)\n",
    "    m_model = m_nv.fit(window=10, min_count=1, batch_words=4)\n",
    "    a_nv = Node2Vec(graphs[3], dimensions=dim, walk_length=w_length, num_walks=n_walks, seed=NODE2VEC_SEED)\n",
    "    a_model = a_nv.fit(window=10, min_count=1, batch_words=4)\n",
    "    return j_nv, f_nv, m_nv, a_nv, j_model, f_model, m_model, a_model"
   ]
  },
  {
   "cell_type": "code",
   "execution_count": 6,
   "id": "5ec00ec3f7f43b92",
   "metadata": {
    "ExecuteTime": {
     "end_time": "2025-05-18T13:56:33.252958Z",
     "start_time": "2025-05-18T13:56:33.241549Z"
    }
   },
   "outputs": [],
   "source": [
    "def cosine_similarity(vec1, vec2):\n",
    "    dot_product = np.dot(vec1, vec2)\n",
    "    norm_vec1 = np.linalg.norm(vec1)\n",
    "    norm_vec2 = np.linalg.norm(vec2)\n",
    "    return dot_product / (norm_vec1 * norm_vec2)"
   ]
  },
  {
   "cell_type": "markdown",
   "id": "e87b665b9ca6e772",
   "metadata": {},
   "source": [
    "# Experiment 1: Dot products"
   ]
  },
  {
   "cell_type": "code",
   "execution_count": null,
   "id": "6f806bd2acb1091e",
   "metadata": {
    "ExecuteTime": {
     "end_time": "2024-09-16T18:32:03.052132Z",
     "start_time": "2024-09-16T18:32:03.017660Z"
    }
   },
   "outputs": [],
   "source": [
    "months = ['israel_palestine_train_graph_2023-07-31', 'israel_palestine_train_graph_2023-08-31', 'israel_palestine_train_graph_2023-09-30', 'israel_palestine_train_graph_2023-10-31']\n",
    "graphs = load_graphs(months)"
   ]
  },
  {
   "cell_type": "code",
   "execution_count": 58,
   "id": "7d7bdc1f4d047551",
   "metadata": {
    "ExecuteTime": {
     "end_time": "2024-09-16T19:20:42.476996Z",
     "start_time": "2024-09-16T19:19:09.643633Z"
    }
   },
   "outputs": [
    {
     "data": {
      "application/vnd.jupyter.widget-view+json": {
       "model_id": "765bc057fce649fa9d2685af2c6457ff",
       "version_major": 2,
       "version_minor": 0
      },
      "text/plain": [
       "Computing transition probabilities:   0%|          | 0/222 [00:00<?, ?it/s]"
      ]
     },
     "metadata": {},
     "output_type": "display_data"
    },
    {
     "name": "stderr",
     "output_type": "stream",
     "text": [
      "Generating walks (CPU: 1): 100%|██████████| 100/100 [00:02<00:00, 35.30it/s]\n"
     ]
    },
    {
     "data": {
      "application/vnd.jupyter.widget-view+json": {
       "model_id": "4ca1f837c60b4542ab5a75ef03244a07",
       "version_major": 2,
       "version_minor": 0
      },
      "text/plain": [
       "Computing transition probabilities:   0%|          | 0/222 [00:00<?, ?it/s]"
      ]
     },
     "metadata": {},
     "output_type": "display_data"
    },
    {
     "name": "stderr",
     "output_type": "stream",
     "text": [
      "Generating walks (CPU: 1): 100%|██████████| 100/100 [00:02<00:00, 37.77it/s]\n"
     ]
    },
    {
     "data": {
      "application/vnd.jupyter.widget-view+json": {
       "model_id": "5f272c700c2743869cf52761bbe9fb2d",
       "version_major": 2,
       "version_minor": 0
      },
      "text/plain": [
       "Computing transition probabilities:   0%|          | 0/222 [00:00<?, ?it/s]"
      ]
     },
     "metadata": {},
     "output_type": "display_data"
    },
    {
     "name": "stderr",
     "output_type": "stream",
     "text": [
      "Generating walks (CPU: 1): 100%|██████████| 100/100 [00:02<00:00, 35.80it/s]\n"
     ]
    },
    {
     "data": {
      "application/vnd.jupyter.widget-view+json": {
       "model_id": "6ca9e366e1d1479492c657df8e02e0c0",
       "version_major": 2,
       "version_minor": 0
      },
      "text/plain": [
       "Computing transition probabilities:   0%|          | 0/222 [00:00<?, ?it/s]"
      ]
     },
     "metadata": {},
     "output_type": "display_data"
    },
    {
     "name": "stderr",
     "output_type": "stream",
     "text": [
      "Generating walks (CPU: 1): 100%|██████████| 100/100 [00:02<00:00, 35.77it/s]\n"
     ]
    }
   ],
   "source": [
    "j_nv, f_nv, m_nv, a_nv, j_model, f_model, m_model, a_model = create_nv_models(graphs, 30, 100)\n",
    "n_vecs = [j_nv, f_nv, m_nv, a_nv]\n",
    "nv_models = [j_model, f_model, m_model, a_model]"
   ]
  },
  {
   "cell_type": "code",
   "execution_count": 59,
   "id": "df08404df7a356ea",
   "metadata": {
    "ExecuteTime": {
     "end_time": "2024-09-16T19:22:58.759773Z",
     "start_time": "2024-09-16T19:22:58.627768Z"
    }
   },
   "outputs": [],
   "source": [
    "avg_vectors = dict()\n",
    "for node in graphs[3].nodes:\n",
    "    avg_vector = []\n",
    "    for i in range(64):\n",
    "        avg_vector.append((j_model.wv[node][i] + f_model.wv[node][i] + m_model.wv[node][i] + a_model.wv[node][i]) / 4)\n",
    "    avg_vectors[node] = avg_vector"
   ]
  },
  {
   "cell_type": "code",
   "execution_count": 60,
   "id": "974c20dcad81f302",
   "metadata": {
    "ExecuteTime": {
     "end_time": "2024-09-16T19:23:31.199900Z",
     "start_time": "2024-09-16T19:23:31.168645Z"
    }
   },
   "outputs": [
    {
     "data": {
      "text/plain": [
       "64"
      ]
     },
     "execution_count": 60,
     "metadata": {},
     "output_type": "execute_result"
    }
   ],
   "source": [
    "len(j_model.wv['USA'])"
   ]
  },
  {
   "cell_type": "markdown",
   "id": "69cde3681a29c9a7",
   "metadata": {},
   "source": [
    "### Scalar product of two vectors for link prediction"
   ]
  },
  {
   "cell_type": "code",
   "execution_count": 61,
   "id": "6bb56bd5d22ba0a3",
   "metadata": {
    "ExecuteTime": {
     "end_time": "2024-09-16T19:24:49.734214Z",
     "start_time": "2024-09-16T19:24:49.002859Z"
    }
   },
   "outputs": [],
   "source": [
    "dot_products = dict()\n",
    "for node1 in avg_vectors:\n",
    "    for node2 in avg_vectors:\n",
    "        if node1 != node2:\n",
    "            vector1 = np.array(avg_vectors[node1])\n",
    "            vector2 = np.array(avg_vectors[node2])\n",
    "            n_sorted = sorted([node1, node2])\n",
    "            dot_products[f'{n_sorted[0]}-{n_sorted[1]}'] = np.dot(vector1, vector2)"
   ]
  },
  {
   "cell_type": "code",
   "execution_count": 62,
   "id": "ae41289dedf9066",
   "metadata": {
    "ExecuteTime": {
     "end_time": "2024-09-16T19:25:38.688038Z",
     "start_time": "2024-09-16T19:25:37.260608Z"
    }
   },
   "outputs": [
    {
     "data": {
      "text/plain": [
       "<seaborn.axisgrid.FacetGrid at 0x27fd3be1ed0>"
      ]
     },
     "execution_count": 62,
     "metadata": {},
     "output_type": "execute_result"
    },
    {
     "data": {
      "image/png": "[encoded data removed]",
      "text/plain": [
       "<Figure size 500x500 with 1 Axes>"
      ]
     },
     "metadata": {},
     "output_type": "display_data"
    }
   ],
   "source": [
    "sns.displot(pd.DataFrame({'values':dot_products.values()}), x='values')"
   ]
  },
  {
   "cell_type": "code",
   "execution_count": 66,
   "id": "bdd8fc9e3415fa4b",
   "metadata": {
    "ExecuteTime": {
     "end_time": "2024-09-16T19:28:35.330401Z",
     "start_time": "2024-09-16T19:28:35.299177Z"
    }
   },
   "outputs": [],
   "source": [
    "with open(f'../../data/graphs/israel_palestine_test_graph_2023-11-30.pkl', 'rb') as f: \n",
    "        target_graph = pickle.load(f)"
   ]
  },
  {
   "cell_type": "code",
   "execution_count": 67,
   "id": "359fe494b069c6de",
   "metadata": {
    "ExecuteTime": {
     "end_time": "2024-09-16T19:54:52.471860Z",
     "start_time": "2024-09-16T19:54:52.392443Z"
    }
   },
   "outputs": [],
   "source": [
    "nodes = target_graph.nodes\n",
    "ds_dict = dict() # dataset dictionary \n",
    "for node1 in nodes:\n",
    "    for node2 in nodes:\n",
    "        if node1 != node2:\n",
    "            n_sorted = sorted([node1, node2])            \n",
    "            ds_dict[f'{n_sorted[0]}-{n_sorted[1]}'] = (0, dot_products[f'{n_sorted[0]}-{n_sorted[1]}'])\n",
    "for el in target_graph.edges(data=True):\n",
    "    if el[2]['weight'] >= 0:\n",
    "        node1 = el[0]\n",
    "        node2 = el[1]\n",
    "        n_sorted = sorted([node1, node2])            \n",
    "        ds_dict[f'{n_sorted[0]}-{n_sorted[1]}'] = (1, dot_products[f'{n_sorted[0]}-{n_sorted[1]}'])"
   ]
  },
  {
   "cell_type": "code",
   "execution_count": 68,
   "id": "6eff793edae8981d",
   "metadata": {
    "ExecuteTime": {
     "end_time": "2024-09-16T19:54:52.937978Z",
     "start_time": "2024-09-16T19:54:52.916056Z"
    }
   },
   "outputs": [
    {
     "name": "stdout",
     "output_type": "stream",
     "text": [
      "1564 22967\n"
     ]
    }
   ],
   "source": [
    "num_t = len([el for el in ds_dict.values() if el[0] == 1])\n",
    "num_f = len([el for el in ds_dict.values() if el[0] == 0])\n",
    "print(num_t, num_f)"
   ]
  },
  {
   "cell_type": "markdown",
   "id": "979644bc977ca45f",
   "metadata": {},
   "source": [
    "##### The dataset is not balanced, and therefore, we must use downsampling, so that our trained model can be more accurate"
   ]
  },
  {
   "cell_type": "code",
   "execution_count": 69,
   "id": "c34f68df309e46c9",
   "metadata": {
    "ExecuteTime": {
     "end_time": "2024-09-16T19:54:54.831658Z",
     "start_time": "2024-09-16T19:54:54.784784Z"
    }
   },
   "outputs": [],
   "source": [
    "X = [el[1] for el in ds_dict.values()]\n",
    "y = [el[0] for el in ds_dict.values()]\n",
    "data = pd.DataFrame({'X': X, 'y': y})\n",
    "\n",
    "majority_class = data[data['y'] == 0]  \n",
    "minority_class = data[data['y'] == 1]  \n",
    "\n",
    "majority_undersampled = resample(majority_class, \n",
    "                                 replace=False,  \n",
    "                                 n_samples=len(minority_class),  \n",
    "                                 random_state=42)\n",
    "\n",
    "balanced_data = pd.concat([majority_undersampled, minority_class])\n",
    "balanced_X = np.array(balanced_data['X'].tolist())\n",
    "balanced_y = np.array(balanced_data['y'])\n",
    "X_train, X_test, y_train, y_test = train_test_split(balanced_X, balanced_y, test_size=0.3, random_state=42)"
   ]
  },
  {
   "cell_type": "code",
   "execution_count": 70,
   "id": "85e492ea2f64c640",
   "metadata": {
    "ExecuteTime": {
     "end_time": "2024-09-16T19:54:55.918872Z",
     "start_time": "2024-09-16T19:54:55.903249Z"
    }
   },
   "outputs": [
    {
     "data": {
      "text/plain": [
       "True"
      ]
     },
     "execution_count": 70,
     "metadata": {},
     "output_type": "execute_result"
    }
   ],
   "source": [
    "len(X_train) == len(y_train)"
   ]
  },
  {
   "cell_type": "code",
   "execution_count": 71,
   "id": "a6db2da55eecefd4",
   "metadata": {
    "ExecuteTime": {
     "end_time": "2024-09-16T19:56:58.251196Z",
     "start_time": "2024-09-16T19:56:58.188690Z"
    }
   },
   "outputs": [
    {
     "name": "stdout",
     "output_type": "stream",
     "text": [
      "Accuracy 0.5463258785942492\n",
      "Recall 0.5856832971800434\n",
      "F1-score 0.5590062111801242\n",
      "Classification metrics:\n",
      "              precision    recall  f1-score   support\n",
      "\n",
      "           0       0.56      0.51      0.53       478\n",
      "           1       0.53      0.59      0.56       461\n",
      "\n",
      "    accuracy                           0.55       939\n",
      "   macro avg       0.55      0.55      0.55       939\n",
      "weighted avg       0.55      0.55      0.55       939\n",
      "\n"
     ]
    }
   ],
   "source": [
    "model = LogisticRegression()\n",
    "model.fit(X_train.reshape(-1,1), y_train)\n",
    "predictions = model.predict(X_test.reshape(-1,1))\n",
    "print('Accuracy', accuracy_score(y_test, predictions))\n",
    "print('Recall', recall_score(y_test, predictions))\n",
    "print('F1-score', f1_score(y_test, predictions))\n",
    "print(\"Classification metrics:\")\n",
    "print(classification_report(y_test, predictions))"
   ]
  },
  {
   "cell_type": "markdown",
   "id": "afab148a4fd7412b",
   "metadata": {},
   "source": []
  },
  {
   "cell_type": "markdown",
   "id": "4e9b7498",
   "metadata": {},
   "source": [
    "### Testing exp 1 function"
   ]
  },
  {
   "cell_type": "code",
   "execution_count": 73,
   "id": "2c4ec4b2",
   "metadata": {},
   "outputs": [
    {
     "data": {
      "application/vnd.jupyter.widget-view+json": {
       "model_id": "fa5acd2c667445bf8118e6712f1bc618",
       "version_major": 2,
       "version_minor": 0
      },
      "text/plain": [
       "Computing transition probabilities:   0%|          | 0/222 [00:00<?, ?it/s]"
      ]
     },
     "metadata": {},
     "output_type": "display_data"
    },
    {
     "name": "stdout",
     "output_type": "stream",
     "text": [
      "Processing graph for date: 2023-07-31\n"
     ]
    },
    {
     "data": {
      "application/vnd.jupyter.widget-view+json": {
       "model_id": "d995388e22304a58ab3715bf59f074ab",
       "version_major": 2,
       "version_minor": 0
      },
      "text/plain": [
       "Computing transition probabilities:   0%|          | 0/222 [00:00<?, ?it/s]"
      ]
     },
     "metadata": {},
     "output_type": "display_data"
    },
    {
     "name": "stdout",
     "output_type": "stream",
     "text": [
      "Processing graph for date: 2023-08-31\n"
     ]
    },
    {
     "data": {
      "application/vnd.jupyter.widget-view+json": {
       "model_id": "308ff96889a340678ad4292ee89d7411",
       "version_major": 2,
       "version_minor": 0
      },
      "text/plain": [
       "Computing transition probabilities:   0%|          | 0/222 [00:00<?, ?it/s]"
      ]
     },
     "metadata": {},
     "output_type": "display_data"
    },
    {
     "name": "stdout",
     "output_type": "stream",
     "text": [
      "Processing graph for date: 2023-09-30\n"
     ]
    },
    {
     "data": {
      "application/vnd.jupyter.widget-view+json": {
       "model_id": "1e0219e568df4649a4ff201c52a0a558",
       "version_major": 2,
       "version_minor": 0
      },
      "text/plain": [
       "Computing transition probabilities:   0%|          | 0/222 [00:00<?, ?it/s]"
      ]
     },
     "metadata": {},
     "output_type": "display_data"
    },
    {
     "name": "stdout",
     "output_type": "stream",
     "text": [
      "Processing graph for date: 2023-10-31\n"
     ]
    },
    {
     "data": {
      "application/vnd.jupyter.widget-view+json": {
       "model_id": "727803217d434843823344e675cfbd6a",
       "version_major": 2,
       "version_minor": 0
      },
      "text/plain": [
       "Computing transition probabilities:   0%|          | 0/222 [00:00<?, ?it/s]"
      ]
     },
     "metadata": {},
     "output_type": "display_data"
    },
    {
     "name": "stdout",
     "output_type": "stream",
     "text": [
      "Processing graph for date: 2023-11-30\n"
     ]
    },
    {
     "data": {
      "application/vnd.jupyter.widget-view+json": {
       "model_id": "4bd81c2e4fb84ba29b16291e47265d20",
       "version_major": 2,
       "version_minor": 0
      },
      "text/plain": [
       "Computing transition probabilities:   0%|          | 0/222 [00:00<?, ?it/s]"
      ]
     },
     "metadata": {},
     "output_type": "display_data"
    },
    {
     "name": "stdout",
     "output_type": "stream",
     "text": [
      "Processing graph for date: 2024-09-30\n"
     ]
    },
    {
     "data": {
      "application/vnd.jupyter.widget-view+json": {
       "model_id": "98fac20e8dd94bed85a5b2f1711871d5",
       "version_major": 2,
       "version_minor": 0
      },
      "text/plain": [
       "Computing transition probabilities:   0%|          | 0/222 [00:00<?, ?it/s]"
      ]
     },
     "metadata": {},
     "output_type": "display_data"
    },
    {
     "name": "stdout",
     "output_type": "stream",
     "text": [
      "Processing graph for date: 2024-10-31\n"
     ]
    },
    {
     "data": {
      "application/vnd.jupyter.widget-view+json": {
       "model_id": "d24a1fb1d7aa4c97a2c19fc143ac05a0",
       "version_major": 2,
       "version_minor": 0
      },
      "text/plain": [
       "Computing transition probabilities:   0%|          | 0/222 [00:00<?, ?it/s]"
      ]
     },
     "metadata": {},
     "output_type": "display_data"
    },
    {
     "name": "stdout",
     "output_type": "stream",
     "text": [
      "Processing graph for date: 2024-11-30\n"
     ]
    },
    {
     "data": {
      "application/vnd.jupyter.widget-view+json": {
       "model_id": "cf7bcf303d0e407ba9eaef90e5018243",
       "version_major": 2,
       "version_minor": 0
      },
      "text/plain": [
       "Computing transition probabilities:   0%|          | 0/222 [00:00<?, ?it/s]"
      ]
     },
     "metadata": {},
     "output_type": "display_data"
    },
    {
     "name": "stdout",
     "output_type": "stream",
     "text": [
      "Processing graph for date: 2024-12-31\n"
     ]
    },
    {
     "data": {
      "application/vnd.jupyter.widget-view+json": {
       "model_id": "b57082aa2bac46e2825f81362ae044a7",
       "version_major": 2,
       "version_minor": 0
      },
      "text/plain": [
       "Computing transition probabilities:   0%|          | 0/222 [00:00<?, ?it/s]"
      ]
     },
     "metadata": {},
     "output_type": "display_data"
    },
    {
     "name": "stdout",
     "output_type": "stream",
     "text": [
      "Processing graph for date: 2025-01-31\n"
     ]
    }
   ],
   "source": [
    "graph_model_data = utils.create_train_test_objects('israel_palestine', num_walks=30, walk_length=100, dimensions=64)"
   ]
  },
  {
   "cell_type": "code",
   "execution_count": 74,
   "id": "ca9fc7b7",
   "metadata": {},
   "outputs": [
    {
     "data": {
      "text/plain": [
       "dict_keys(['2023-07-31', '2023-08-31', '2023-09-30', '2023-10-31', '2023-11-30', '2024-09-30', '2024-10-31', '2024-11-30', '2024-12-31', '2025-01-31'])"
      ]
     },
     "execution_count": 74,
     "metadata": {},
     "output_type": "execute_result"
    }
   ],
   "source": [
    "graph_model_data.keys()"
   ]
  },
  {
   "cell_type": "code",
   "execution_count": 75,
   "id": "fb90c477",
   "metadata": {},
   "outputs": [],
   "source": [
    "target_graphs = []\n",
    "target_graphs.append(graph_model_data['2023-11-30']['graph'])\n",
    "target_graphs.append(graph_model_data['2025-01-31']['graph'])"
   ]
  },
  {
   "cell_type": "code",
   "execution_count": 76,
   "id": "fcdf5e73",
   "metadata": {},
   "outputs": [
    {
     "data": {
      "text/plain": [
       "1880"
      ]
     },
     "execution_count": 76,
     "metadata": {},
     "output_type": "execute_result"
    }
   ],
   "source": [
    "len(target_graphs[1].edges)"
   ]
  },
  {
   "cell_type": "code",
   "execution_count": null,
   "id": "87cd2ccc",
   "metadata": {},
   "outputs": [],
   "source": [
    "nv_models = []\n",
    "# Extract models from the first 4 months in graph_model_data\n",
    "keys = list(graph_model_data.keys())[:4]\n",
    "nv_models_list = []\n",
    "for key in keys:\n",
    "    nv_models_list.append(graph_model_data[key]['word2vec'])\n",
    "nv_models.append(nv_models_list)\n",
    "\n",
    "keys = list(graph_model_data.keys())[5:9]\n",
    "nv_models_list = []\n",
    "for key in keys:\n",
    "    nv_models_list.append(graph_model_data[key]['word2vec'])\n",
    "nv_models.append(nv_models_list)"
   ]
  },
  {
   "cell_type": "code",
   "execution_count": 78,
   "id": "eb75414c",
   "metadata": {},
   "outputs": [
    {
     "data": {
      "text/plain": [
       "[[<gensim.models.word2vec.Word2Vec at 0x27fdab074c0>,\n",
       "  <gensim.models.word2vec.Word2Vec at 0x27fda80ec80>,\n",
       "  <gensim.models.word2vec.Word2Vec at 0x27fdbccf250>,\n",
       "  <gensim.models.word2vec.Word2Vec at 0x27fd955c100>],\n",
       " [<gensim.models.word2vec.Word2Vec at 0x27fda80e440>,\n",
       "  <gensim.models.word2vec.Word2Vec at 0x27fd950cb50>,\n",
       "  <gensim.models.word2vec.Word2Vec at 0x27fdba49ab0>,\n",
       "  <gensim.models.word2vec.Word2Vec at 0x27fddb09ae0>]]"
      ]
     },
     "execution_count": 78,
     "metadata": {},
     "output_type": "execute_result"
    }
   ],
   "source": [
    "nv_models"
   ]
  },
  {
   "cell_type": "code",
   "execution_count": 79,
   "id": "d6031b02",
   "metadata": {},
   "outputs": [
    {
     "name": "stdout",
     "output_type": "stream",
     "text": [
      "Majority class size: 22967,\n",
      "Minority class size: 1564\n",
      "Majority class size: 23141,\n",
      "Minority class size: 1390\n"
     ]
    },
    {
     "data": {
      "text/plain": [
       "{'mean_acc': 0.5924189037516789,\n",
       " 'mean_prec': 0.5675479294206256,\n",
       " 'mean_rec': 0.7810783087085319,\n",
       " 'mean_f1': 0.6558489809869923,\n",
       " 'all_metrics': [[0.5895140664961637, 0.5953237410071942],\n",
       "  [0.5720906282183316, 0.5630052306229196],\n",
       "  [0.7103580562659847, 0.8517985611510791],\n",
       "  [0.6337706788362807, 0.677927283137704]]}"
      ]
     },
     "execution_count": 79,
     "metadata": {},
     "output_type": "execute_result"
    }
   ],
   "source": [
    "utils.summary_evaluation_for_month_groups_ex_1(\n",
    "    model=model,\n",
    "    target_graphs=target_graphs,\n",
    "    nv_models=nv_models\n",
    ")"
   ]
  },
  {
   "cell_type": "markdown",
   "id": "a6a356ad822b4c81",
   "metadata": {},
   "source": [
    "### Test with other months"
   ]
  },
  {
   "cell_type": "code",
   "execution_count": 25,
   "id": "6f38dd83db93aab8",
   "metadata": {
    "ExecuteTime": {
     "end_time": "2024-09-16T21:06:26.989907Z",
     "start_time": "2024-09-16T21:04:52.640175Z"
    }
   },
   "outputs": [
    {
     "data": {
      "application/vnd.jupyter.widget-view+json": {
       "model_id": "d32eff2491e840baa8dbb869087b77c6",
       "version_major": 2,
       "version_minor": 0
      },
      "text/plain": [
       "Computing transition probabilities:   0%|          | 0/222 [00:00<?, ?it/s]"
      ]
     },
     "metadata": {},
     "output_type": "display_data"
    },
    {
     "name": "stderr",
     "output_type": "stream",
     "text": [
      "Generating walks (CPU: 1): 100%|██████████| 100/100 [00:02<00:00, 35.23it/s]\n"
     ]
    },
    {
     "data": {
      "application/vnd.jupyter.widget-view+json": {
       "model_id": "109ba99dafa04f63abea5b6a46a1671a",
       "version_major": 2,
       "version_minor": 0
      },
      "text/plain": [
       "Computing transition probabilities:   0%|          | 0/222 [00:00<?, ?it/s]"
      ]
     },
     "metadata": {},
     "output_type": "display_data"
    },
    {
     "name": "stderr",
     "output_type": "stream",
     "text": [
      "Generating walks (CPU: 1): 100%|██████████| 100/100 [00:02<00:00, 34.65it/s]\n"
     ]
    },
    {
     "data": {
      "application/vnd.jupyter.widget-view+json": {
       "model_id": "301b73882a1244d187992c70812966ba",
       "version_major": 2,
       "version_minor": 0
      },
      "text/plain": [
       "Computing transition probabilities:   0%|          | 0/222 [00:00<?, ?it/s]"
      ]
     },
     "metadata": {},
     "output_type": "display_data"
    },
    {
     "name": "stderr",
     "output_type": "stream",
     "text": [
      "Generating walks (CPU: 1): 100%|██████████| 100/100 [00:02<00:00, 35.89it/s]\n"
     ]
    },
    {
     "data": {
      "application/vnd.jupyter.widget-view+json": {
       "model_id": "f8053fb05d464a52b971f7363fe916a1",
       "version_major": 2,
       "version_minor": 0
      },
      "text/plain": [
       "Computing transition probabilities:   0%|          | 0/222 [00:00<?, ?it/s]"
      ]
     },
     "metadata": {},
     "output_type": "display_data"
    },
    {
     "name": "stderr",
     "output_type": "stream",
     "text": [
      "Generating walks (CPU: 1): 100%|██████████| 100/100 [00:02<00:00, 36.36it/s]\n"
     ]
    }
   ],
   "source": [
    "months = ['2018-03-31', '2018-04-30', '2018-05-31', '2018-06-30']\n",
    "graphs = load_graphs(months)\n",
    "j_nv, f_nv, m_nv, a_nv, j_model, f_model, m_model, a_model = create_nv_models(graphs, 30, 100)\n",
    "n_vecs = [j_nv, f_nv, m_nv, a_nv]\n",
    "nv_models = [j_model, f_model, m_model, a_model]"
   ]
  },
  {
   "cell_type": "code",
   "execution_count": 63,
   "id": "20ed0966abc2c0de",
   "metadata": {
    "ExecuteTime": {
     "end_time": "2024-09-16T21:07:42.893445Z",
     "start_time": "2024-09-16T21:07:42.770393Z"
    }
   },
   "outputs": [],
   "source": [
    "avg_vectors = dict()\n",
    "for node in graphs[3].nodes:\n",
    "    avg_vector = []\n",
    "    for i in range(64):\n",
    "        avg_vector.append((j_model.wv[node][i] + f_model.wv[node][i] + m_model.wv[node][i] + a_model.wv[node][i]) / 4)\n",
    "    avg_vectors[node] = avg_vector"
   ]
  },
  {
   "cell_type": "code",
   "execution_count": 64,
   "id": "f98dbe23eeb46eb",
   "metadata": {
    "ExecuteTime": {
     "end_time": "2024-09-16T21:08:01.046440Z",
     "start_time": "2024-09-16T21:08:00.405320Z"
    }
   },
   "outputs": [],
   "source": [
    "dot_products = dict()\n",
    "for node1 in avg_vectors:\n",
    "    for node2 in avg_vectors:\n",
    "        if node1 != node2:\n",
    "            vector1 = np.array(avg_vectors[node1])\n",
    "            vector2 = np.array(avg_vectors[node2])\n",
    "            n_sorted = sorted([node1, node2])\n",
    "            dot_products[f'{n_sorted[0]}-{n_sorted[1]}'] = np.dot(vector1, vector2)"
   ]
  },
  {
   "cell_type": "code",
   "execution_count": 65,
   "id": "d1f22698e914fff3",
   "metadata": {
    "ExecuteTime": {
     "end_time": "2024-09-16T21:08:26.762180Z",
     "start_time": "2024-09-16T21:08:26.658252Z"
    }
   },
   "outputs": [],
   "source": [
    "with open(f'../data/graphs/graph_2015-05-31.pkl', 'rb') as f:\n",
    "    target_graph = pickle.load(f)\n",
    "nodes = target_graph.nodes\n",
    "ds_dict = dict()  # dataset dictionary \n",
    "for node1 in nodes:\n",
    "    for node2 in nodes:\n",
    "        if node1 != node2:\n",
    "            n_sorted = sorted([node1, node2])\n",
    "            ds_dict[f'{n_sorted[0]}-{n_sorted[1]}'] = (0, dot_products[f'{n_sorted[0]}-{n_sorted[1]}'])\n",
    "for el in target_graph.edges(data=True):\n",
    "    if el[2]['weight'] >= 0:\n",
    "        node1 = el[0]\n",
    "        node2 = el[1]\n",
    "        n_sorted = sorted([node1, node2])\n",
    "        ds_dict[f'{n_sorted[0]}-{n_sorted[1]}'] = (1, dot_products[f'{n_sorted[0]}-{n_sorted[1]}'])"
   ]
  },
  {
   "cell_type": "code",
   "execution_count": 68,
   "id": "c3648584fc966d30",
   "metadata": {
    "ExecuteTime": {
     "end_time": "2024-09-16T21:09:50.055637Z",
     "start_time": "2024-09-16T21:09:50.008756Z"
    }
   },
   "outputs": [],
   "source": [
    "X = [el[1] for el in ds_dict.values()]\n",
    "y = [el[0] for el in ds_dict.values()]\n",
    "data = pd.DataFrame({'X': X, 'y': y})\n",
    "\n",
    "majority_class = data[data['y'] == 0]  \n",
    "minority_class = data[data['y'] == 1]  \n",
    "\n",
    "majority_undersampled = resample(majority_class, \n",
    "                                 replace=False,  \n",
    "                                 n_samples=len(minority_class),  \n",
    "                                 random_state=42)\n",
    "\n",
    "balanced_data = pd.concat([majority_undersampled, minority_class])\n",
    "balanced_X = np.array(balanced_data['X'])\n",
    "balanced_y = np.array(balanced_data['y'])"
   ]
  },
  {
   "cell_type": "code",
   "execution_count": 70,
   "id": "7a9187207df446e1",
   "metadata": {
    "ExecuteTime": {
     "end_time": "2024-09-16T21:10:50.025890Z",
     "start_time": "2024-09-16T21:10:49.963392Z"
    }
   },
   "outputs": [
    {
     "name": "stdout",
     "output_type": "stream",
     "text": [
      "Accuracy 0.5928111587982833\n",
      "Recall 0.5198497854077253\n",
      "F1-score 0.5607638888888888\n",
      "Classification metrics:\n",
      "              precision    recall  f1-score   support\n",
      "\n",
      "           0       0.58      0.67      0.62      1864\n",
      "           1       0.61      0.52      0.56      1864\n",
      "\n",
      "    accuracy                           0.59      3728\n",
      "   macro avg       0.59      0.59      0.59      3728\n",
      "weighted avg       0.59      0.59      0.59      3728\n",
      "\n"
     ]
    }
   ],
   "source": [
    "predictions = model.predict(balanced_X.reshape(-1,1))\n",
    "print('Accuracy', accuracy_score(balanced_y, predictions))\n",
    "print('Recall', recall_score(balanced_y, predictions))\n",
    "print('F1-score', f1_score(balanced_y, predictions))\n",
    "print(\"Classification metrics:\")\n",
    "print(classification_report(balanced_y, predictions))"
   ]
  },
  {
   "cell_type": "markdown",
   "id": "5c14d87ab51bf0c4",
   "metadata": {},
   "source": [
    "##### Conclusion for the first experiment: the classification metrics are significantly worse for other sequences of months (~-10)"
   ]
  },
  {
   "cell_type": "markdown",
   "id": "93cb4453de429a2b",
   "metadata": {},
   "source": [
    "# Experiment 2: Lowering random walks and walks length numbers and using the number of occurrences of other countries in the random walks as a scaling factor of the dot product between two countries and then use the mean of the scaled dot products of the four sequential months"
   ]
  },
  {
   "cell_type": "code",
   "execution_count": 7,
   "id": "a19ace1d2b0351b",
   "metadata": {
    "ExecuteTime": {
     "end_time": "2024-09-18T17:11:00.925127Z",
     "start_time": "2024-09-18T17:10:45.762841Z"
    }
   },
   "outputs": [
    {
     "data": {
      "application/vnd.jupyter.widget-view+json": {
       "model_id": "73c727f427864ca0ba889e8b3980181a",
       "version_major": 2,
       "version_minor": 0
      },
      "text/plain": [
       "Computing transition probabilities:   0%|          | 0/222 [00:00<?, ?it/s]"
      ]
     },
     "metadata": {},
     "output_type": "display_data"
    },
    {
     "name": "stderr",
     "output_type": "stream",
     "text": [
      "Generating walks (CPU: 1): 100%|██████████| 5/5 [00:00<00:00, 714.29it/s]\n"
     ]
    },
    {
     "data": {
      "application/vnd.jupyter.widget-view+json": {
       "model_id": "932c317b0304448a9f42f5216e6afcb5",
       "version_major": 2,
       "version_minor": 0
      },
      "text/plain": [
       "Computing transition probabilities:   0%|          | 0/222 [00:00<?, ?it/s]"
      ]
     },
     "metadata": {},
     "output_type": "display_data"
    },
    {
     "name": "stderr",
     "output_type": "stream",
     "text": [
      "Generating walks (CPU: 1): 100%|██████████| 5/5 [00:00<00:00, 312.49it/s]\n"
     ]
    },
    {
     "data": {
      "application/vnd.jupyter.widget-view+json": {
       "model_id": "3edf8ac9a64344b395508a622e0cb7c1",
       "version_major": 2,
       "version_minor": 0
      },
      "text/plain": [
       "Computing transition probabilities:   0%|          | 0/222 [00:00<?, ?it/s]"
      ]
     },
     "metadata": {},
     "output_type": "display_data"
    },
    {
     "name": "stderr",
     "output_type": "stream",
     "text": [
      "Generating walks (CPU: 1): 100%|██████████| 5/5 [00:00<00:00, 208.32it/s]\n"
     ]
    },
    {
     "data": {
      "application/vnd.jupyter.widget-view+json": {
       "model_id": "54ca76ed823f4090a79b753fc9b3e7b9",
       "version_major": 2,
       "version_minor": 0
      },
      "text/plain": [
       "Computing transition probabilities:   0%|          | 0/222 [00:00<?, ?it/s]"
      ]
     },
     "metadata": {},
     "output_type": "display_data"
    },
    {
     "name": "stderr",
     "output_type": "stream",
     "text": [
      "Generating walks (CPU: 1): 100%|██████████| 5/5 [00:00<00:00, 238.10it/s]\n"
     ]
    }
   ],
   "source": [
    "months = ['graph_2015-01-31', 'graph_2015-02-28', 'graph_2015-03-31', 'graph_2015-04-30']\n",
    "graphs = load_graphs(months)\n",
    "j_nv, f_nv, m_nv, a_nv, j_model, f_model, m_model, a_model = create_nv_models(graphs, 5, 5)\n",
    "n_vecs = [j_nv, f_nv, m_nv, a_nv]\n",
    "nv_models = [j_model, f_model, m_model, a_model]"
   ]
  },
  {
   "cell_type": "code",
   "execution_count": 8,
   "id": "1317937b9f50c2f3",
   "metadata": {
    "ExecuteTime": {
     "end_time": "2024-09-18T17:11:03.715892Z",
     "start_time": "2024-09-18T17:11:03.703597Z"
    }
   },
   "outputs": [],
   "source": [
    "nodes = graphs[0].nodes\n",
    "nodes_enc = {node: idx for idx, node in enumerate(nodes)}"
   ]
  },
  {
   "cell_type": "code",
   "execution_count": 9,
   "id": "75735cb69c7fc078",
   "metadata": {
    "ExecuteTime": {
     "end_time": "2024-09-18T17:11:07.341349Z",
     "start_time": "2024-09-18T17:11:06.329341Z"
    }
   },
   "outputs": [],
   "source": [
    "counts = utils.count_occurences(n_vecs, nodes, nodes_enc)"
   ]
  },
  {
   "cell_type": "code",
   "execution_count": 10,
   "id": "b321e7afbaf01365",
   "metadata": {
    "ExecuteTime": {
     "end_time": "2024-09-18T17:11:09.815659Z",
     "start_time": "2024-09-18T17:11:09.774356Z"
    }
   },
   "outputs": [],
   "source": [
    "averaged_counts = utils.average_counts(counts, nodes_enc)\n",
    "for node in nodes_enc:\n",
    "    month_lists = [month[nodes_enc[node]] for month in counts.values()]\n",
    "    averaged_counts[node] = np.mean(month_lists, axis=0)"
   ]
  },
  {
   "cell_type": "code",
   "execution_count": 11,
   "id": "779984af13538ac",
   "metadata": {
    "ExecuteTime": {
     "end_time": "2024-09-18T17:11:19.795379Z",
     "start_time": "2024-09-18T17:11:17.652734Z"
    }
   },
   "outputs": [],
   "source": [
    "dot_products_per_month_weighted = dict()\n",
    "for i, model in enumerate(nv_models):\n",
    "    vectors = dict()\n",
    "    for node in nodes:\n",
    "        vectors[node] = model.wv[node]\n",
    "    dot_products = dict()\n",
    "    for node1 in vectors:\n",
    "        for node2 in vectors:\n",
    "            if node1 != node2:\n",
    "                vector1 = np.array(vectors[node1])\n",
    "                vector2 = np.array(vectors[node2])\n",
    "                n_sorted = sorted([node1, node2])\n",
    "                dot_products[f'{n_sorted[0]}-{n_sorted[1]}'] = (np.dot(vector1, vector2) * max(counts[i][nodes_enc[n_sorted[0]]][nodes_enc[n_sorted[1]]], counts[i][nodes_enc[n_sorted[1]]][nodes_enc[n_sorted[0]]])\n",
    "                                                                        )\n",
    "    dot_products_per_month_weighted[i] = dot_products"
   ]
  },
  {
   "cell_type": "code",
   "execution_count": 12,
   "id": "2391a5c2b1b33743",
   "metadata": {
    "ExecuteTime": {
     "end_time": "2024-09-18T17:11:23.726309Z",
     "start_time": "2024-09-18T17:11:23.637850Z"
    }
   },
   "outputs": [],
   "source": [
    "predictions = dict()\n",
    "for pair in dot_products_per_month_weighted[0]:\n",
    "    prediction = 0\n",
    "    for month in range(len(nv_models)):\n",
    "        prediction += dot_products_per_month_weighted[month][pair]\n",
    "    predictions[pair] = (prediction / len(nv_models))"
   ]
  },
  {
   "cell_type": "code",
   "execution_count": 13,
   "id": "4452a8880216f93c",
   "metadata": {
    "ExecuteTime": {
     "end_time": "2024-09-18T17:11:26.182914Z",
     "start_time": "2024-09-18T17:11:26.169672Z"
    }
   },
   "outputs": [],
   "source": [
    "with open(f'../../data/graphs/graph_2015-05-31.pkl', 'rb') as f:\n",
    "        target_graph = pickle.load(f) # fifth month graph"
   ]
  },
  {
   "cell_type": "code",
   "execution_count": 14,
   "id": "76fa88fd8d51463",
   "metadata": {
    "ExecuteTime": {
     "end_time": "2024-09-18T17:11:28.889376Z",
     "start_time": "2024-09-18T17:11:28.770063Z"
    }
   },
   "outputs": [
    {
     "name": "stdout",
     "output_type": "stream",
     "text": [
      "1864 22667\n"
     ]
    }
   ],
   "source": [
    "nodes = target_graph.nodes\n",
    "ds_dict = dict()  # dataset dictionary \n",
    "for node1 in nodes:\n",
    "    for node2 in nodes:\n",
    "        if node1 != node2:\n",
    "            n_sorted = sorted([node1, node2])\n",
    "            ds_dict[f'{n_sorted[0]}-{n_sorted[1]}'] = (0, predictions[f'{n_sorted[0]}-{n_sorted[1]}'])\n",
    "for el in target_graph.edges(data=True):\n",
    "    if el[2]['weight'] >= 0:\n",
    "        node1 = el[0]\n",
    "        node2 = el[1]\n",
    "        n_sorted = sorted([node1, node2])\n",
    "        ds_dict[f'{n_sorted[0]}-{n_sorted[1]}'] = (1, predictions[f'{n_sorted[0]}-{n_sorted[1]}'])\n",
    "num_t = len([el for el in ds_dict.values() if el[0] == 1])\n",
    "num_f = len([el for el in ds_dict.values() if el[0] == 0])\n",
    "print(num_t, num_f)"
   ]
  },
  {
   "cell_type": "code",
   "execution_count": 18,
   "id": "72e1de2e51dcfbfa",
   "metadata": {
    "ExecuteTime": {
     "end_time": "2024-09-18T17:11:31.723341Z",
     "start_time": "2024-09-18T17:11:31.205825Z"
    }
   },
   "outputs": [
    {
     "name": "stdout",
     "output_type": "stream",
     "text": [
      "Accuracy 0.7533512064343163\n",
      "Recall 0.6954887218045113\n",
      "F1-score 0.7283464566929134\n",
      "Classification metrics:\n",
      "              precision    recall  f1-score   support\n",
      "\n",
      "           0       0.74      0.81      0.77       587\n",
      "           1       0.76      0.70      0.73       532\n",
      "\n",
      "    accuracy                           0.75      1119\n",
      "   macro avg       0.75      0.75      0.75      1119\n",
      "weighted avg       0.75      0.75      0.75      1119\n",
      "\n"
     ]
    }
   ],
   "source": [
    "X = [el[1] for el in ds_dict.values()]\n",
    "y = [el[0] for el in ds_dict.values()]\n",
    "data = pd.DataFrame({'X': X, 'y': y})\n",
    "\n",
    "majority_class = data[data['y'] == 0]\n",
    "minority_class = data[data['y'] == 1]\n",
    "\n",
    "majority_undersampled = resample(majority_class,\n",
    "                                 replace=False,\n",
    "                                 n_samples=len(minority_class),\n",
    "                                 random_state=42)\n",
    "\n",
    "balanced_data = pd.concat([majority_undersampled, minority_class])\n",
    "balanced_X = np.array(balanced_data['X'].tolist())\n",
    "balanced_y = np.array(balanced_data['y'])\n",
    "X_train, X_test, y_train, y_test = train_test_split(balanced_X, balanced_y, test_size=0.3, random_state=42)\n",
    "model_lr = LogisticRegression()\n",
    "model_lr.fit(X_train.reshape(-1, 1), y_train)\n",
    "predictions = model_lr.predict(X_test.reshape(-1, 1))\n",
    "print('Accuracy', accuracy_score(y_test, predictions))\n",
    "print('Recall', recall_score(y_test, predictions))\n",
    "print('F1-score', f1_score(y_test, predictions))\n",
    "print(\"Classification metrics:\")\n",
    "print(classification_report(y_test, predictions))"
   ]
  },
  {
   "cell_type": "code",
   "execution_count": 15,
   "id": "7db9b6d7",
   "metadata": {},
   "outputs": [
    {
     "data": {
      "application/vnd.jupyter.widget-view+json": {
       "model_id": "6b4784635a1442b58219009379570687",
       "version_major": 2,
       "version_minor": 0
      },
      "text/plain": [
       "Computing transition probabilities:   0%|          | 0/222 [00:00<?, ?it/s]"
      ]
     },
     "metadata": {},
     "output_type": "display_data"
    },
    {
     "name": "stdout",
     "output_type": "stream",
     "text": [
      "Processing graph for date: 2023-07-31\n"
     ]
    },
    {
     "data": {
      "application/vnd.jupyter.widget-view+json": {
       "model_id": "05bbbe6861bf4469b1af65a4b771098c",
       "version_major": 2,
       "version_minor": 0
      },
      "text/plain": [
       "Computing transition probabilities:   0%|          | 0/222 [00:00<?, ?it/s]"
      ]
     },
     "metadata": {},
     "output_type": "display_data"
    },
    {
     "name": "stdout",
     "output_type": "stream",
     "text": [
      "Processing graph for date: 2023-08-31\n"
     ]
    },
    {
     "data": {
      "application/vnd.jupyter.widget-view+json": {
       "model_id": "e8ea738b594c459b93ce3ee9d56b3568",
       "version_major": 2,
       "version_minor": 0
      },
      "text/plain": [
       "Computing transition probabilities:   0%|          | 0/222 [00:00<?, ?it/s]"
      ]
     },
     "metadata": {},
     "output_type": "display_data"
    },
    {
     "name": "stdout",
     "output_type": "stream",
     "text": [
      "Processing graph for date: 2023-09-30\n"
     ]
    },
    {
     "data": {
      "application/vnd.jupyter.widget-view+json": {
       "model_id": "14fe7010e7524e88a47fc4ec81aa42cc",
       "version_major": 2,
       "version_minor": 0
      },
      "text/plain": [
       "Computing transition probabilities:   0%|          | 0/222 [00:00<?, ?it/s]"
      ]
     },
     "metadata": {},
     "output_type": "display_data"
    },
    {
     "name": "stdout",
     "output_type": "stream",
     "text": [
      "Processing graph for date: 2023-10-31\n"
     ]
    },
    {
     "data": {
      "application/vnd.jupyter.widget-view+json": {
       "model_id": "b4effc7838d6450eba7f3d22adb66553",
       "version_major": 2,
       "version_minor": 0
      },
      "text/plain": [
       "Computing transition probabilities:   0%|          | 0/222 [00:00<?, ?it/s]"
      ]
     },
     "metadata": {},
     "output_type": "display_data"
    },
    {
     "name": "stdout",
     "output_type": "stream",
     "text": [
      "Processing graph for date: 2023-11-30\n"
     ]
    },
    {
     "data": {
      "application/vnd.jupyter.widget-view+json": {
       "model_id": "bc799563d55b48448c6c4caff065395d",
       "version_major": 2,
       "version_minor": 0
      },
      "text/plain": [
       "Computing transition probabilities:   0%|          | 0/222 [00:00<?, ?it/s]"
      ]
     },
     "metadata": {},
     "output_type": "display_data"
    },
    {
     "name": "stdout",
     "output_type": "stream",
     "text": [
      "Processing graph for date: 2024-09-30\n"
     ]
    },
    {
     "data": {
      "application/vnd.jupyter.widget-view+json": {
       "model_id": "3283b37ab0784125a774854784287c3e",
       "version_major": 2,
       "version_minor": 0
      },
      "text/plain": [
       "Computing transition probabilities:   0%|          | 0/222 [00:00<?, ?it/s]"
      ]
     },
     "metadata": {},
     "output_type": "display_data"
    },
    {
     "name": "stdout",
     "output_type": "stream",
     "text": [
      "Processing graph for date: 2024-10-31\n"
     ]
    },
    {
     "data": {
      "application/vnd.jupyter.widget-view+json": {
       "model_id": "562dadfcded3430dbb0f4dfc1dbebc95",
       "version_major": 2,
       "version_minor": 0
      },
      "text/plain": [
       "Computing transition probabilities:   0%|          | 0/222 [00:00<?, ?it/s]"
      ]
     },
     "metadata": {},
     "output_type": "display_data"
    },
    {
     "name": "stdout",
     "output_type": "stream",
     "text": [
      "Processing graph for date: 2024-11-30\n"
     ]
    },
    {
     "data": {
      "application/vnd.jupyter.widget-view+json": {
       "model_id": "589d23c8c0094b53adea931dd9ee1f73",
       "version_major": 2,
       "version_minor": 0
      },
      "text/plain": [
       "Computing transition probabilities:   0%|          | 0/222 [00:00<?, ?it/s]"
      ]
     },
     "metadata": {},
     "output_type": "display_data"
    },
    {
     "name": "stdout",
     "output_type": "stream",
     "text": [
      "Processing graph for date: 2024-12-31\n"
     ]
    },
    {
     "data": {
      "application/vnd.jupyter.widget-view+json": {
       "model_id": "5e08213c824747d1b863a371e6d18618",
       "version_major": 2,
       "version_minor": 0
      },
      "text/plain": [
       "Computing transition probabilities:   0%|          | 0/222 [00:00<?, ?it/s]"
      ]
     },
     "metadata": {},
     "output_type": "display_data"
    },
    {
     "name": "stdout",
     "output_type": "stream",
     "text": [
      "Processing graph for date: 2025-01-31\n"
     ]
    }
   ],
   "source": [
    "graph_model_data = utils.create_train_test_objects(prefix='israel_palestine', num_walks=5, walk_length=5, dimensions=64)"
   ]
  },
  {
   "cell_type": "code",
   "execution_count": 16,
   "id": "732a1228",
   "metadata": {},
   "outputs": [
    {
     "data": {
      "text/plain": [
       "([[<node2vec.node2vec.Node2Vec at 0x1f3b5724880>,\n",
       "   <node2vec.node2vec.Node2Vec at 0x1f3b5bf2470>,\n",
       "   <node2vec.node2vec.Node2Vec at 0x1f3b42416f0>,\n",
       "   <node2vec.node2vec.Node2Vec at 0x1f3b5813fa0>],\n",
       "  [<node2vec.node2vec.Node2Vec at 0x1f3b4243ac0>,\n",
       "   <node2vec.node2vec.Node2Vec at 0x1f3b424e800>,\n",
       "   <node2vec.node2vec.Node2Vec at 0x1f3b570a260>,\n",
       "   <node2vec.node2vec.Node2Vec at 0x1f3b75820e0>]],\n",
       " [[<gensim.models.word2vec.Word2Vec at 0x1f3b5bf2740>,\n",
       "   <gensim.models.word2vec.Word2Vec at 0x1f3b570a740>,\n",
       "   <gensim.models.word2vec.Word2Vec at 0x1f3f8ddd2a0>,\n",
       "   <gensim.models.word2vec.Word2Vec at 0x1f3b41e67d0>],\n",
       "  [<gensim.models.word2vec.Word2Vec at 0x1f3b5709d80>,\n",
       "   <gensim.models.word2vec.Word2Vec at 0x1f3b5726bc0>,\n",
       "   <gensim.models.word2vec.Word2Vec at 0x1f3b7581f00>,\n",
       "   <gensim.models.word2vec.Word2Vec at 0x1f3b75bf4f0>]])"
      ]
     },
     "execution_count": 16,
     "metadata": {},
     "output_type": "execute_result"
    }
   ],
   "source": [
    "target_graphs = []\n",
    "target_graphs.append(graph_model_data['2023-11-30']['graph'])\n",
    "target_graphs.append(graph_model_data['2025-01-31']['graph'])\n",
    "len(target_graphs[1].edges)\n",
    "nv_models = []\n",
    "wv_models = []\n",
    "# Extract models from the first 4 months in graph_model_data\n",
    "keys = list(graph_model_data.keys())[:4]\n",
    "nv_models_list = []\n",
    "wv_models_list = []\n",
    "for key in keys:\n",
    "    nv_models_list.append(graph_model_data[key]['node2vec'])\n",
    "    wv_models_list.append(graph_model_data[key]['word2vec'])\n",
    "    \n",
    "nv_models.append(nv_models_list)\n",
    "wv_models.append(wv_models_list)\n",
    "\n",
    "keys = list(graph_model_data.keys())[5:9]\n",
    "nv_models_list = []\n",
    "wv_models_list = []\n",
    "for key in keys:\n",
    "    nv_models_list.append(graph_model_data[key]['node2vec'])\n",
    "    wv_models_list.append(graph_model_data[key]['word2vec'])\n",
    "nv_models.append(nv_models_list)\n",
    "wv_models.append(wv_models_list)\n",
    "nv_models, wv_models\n",
    "\n"
   ]
  },
  {
   "cell_type": "markdown",
   "id": "12f5d5ed",
   "metadata": {},
   "source": [
    "### function test"
   ]
  },
  {
   "cell_type": "code",
   "execution_count": 27,
   "id": "2c43948b",
   "metadata": {},
   "outputs": [
    {
     "name": "stdout",
     "output_type": "stream",
     "text": [
      "i= 0\n"
     ]
    },
    {
     "ename": "KeyError",
     "evalue": "1",
     "output_type": "error",
     "traceback": [
      "\u001b[1;31m---------------------------------------------------------------------------\u001b[0m",
      "\u001b[1;31mKeyError\u001b[0m                                  Traceback (most recent call last)",
      "Cell \u001b[1;32mIn[27], line 1\u001b[0m\n\u001b[1;32m----> 1\u001b[0m \u001b[43mutils\u001b[49m\u001b[38;5;241;43m.\u001b[39;49m\u001b[43msummary_evaluation_for_month_groups_ex_2\u001b[49m\u001b[43m(\u001b[49m\n\u001b[0;32m      2\u001b[0m \u001b[43m    \u001b[49m\u001b[43mmodel\u001b[49m\u001b[43m \u001b[49m\u001b[38;5;241;43m=\u001b[39;49m\u001b[43m \u001b[49m\u001b[43mmodel_lr\u001b[49m\u001b[43m,\u001b[49m\n\u001b[0;32m      3\u001b[0m \u001b[43m    \u001b[49m\u001b[43mtarget_graphs\u001b[49m\u001b[43m \u001b[49m\u001b[38;5;241;43m=\u001b[39;49m\u001b[43m \u001b[49m\u001b[43mtarget_graphs\u001b[49m\u001b[43m,\u001b[49m\n\u001b[0;32m      4\u001b[0m \u001b[43m    \u001b[49m\u001b[43mwv_models\u001b[49m\u001b[43m \u001b[49m\u001b[38;5;241;43m=\u001b[39;49m\u001b[43m \u001b[49m\u001b[43mwv_models\u001b[49m\u001b[43m,\u001b[49m\n\u001b[0;32m      5\u001b[0m \u001b[43m    \u001b[49m\u001b[43mn_vecs\u001b[49m\u001b[43m \u001b[49m\u001b[38;5;241;43m=\u001b[39;49m\u001b[43m \u001b[49m\u001b[43mnv_models\u001b[49m\n\u001b[0;32m      6\u001b[0m \u001b[43m)\u001b[49m\n",
      "File \u001b[1;32mz:\\Users\\onira\\Documents\\_FINKI\\VNP PROJECT\\xai-graphs\\mj\\utils.py:336\u001b[0m, in \u001b[0;36msummary_evaluation_for_month_groups_ex_2\u001b[1;34m(model, target_graphs, wv_models, n_vecs)\u001b[0m\n\u001b[0;32m    334\u001b[0m     prediction \u001b[38;5;241m=\u001b[39m \u001b[38;5;241m0\u001b[39m\n\u001b[0;32m    335\u001b[0m     \u001b[38;5;28;01mfor\u001b[39;00m month \u001b[38;5;129;01min\u001b[39;00m \u001b[38;5;28mrange\u001b[39m(\u001b[38;5;28mlen\u001b[39m(wv_models)):\n\u001b[1;32m--> 336\u001b[0m         prediction \u001b[38;5;241m+\u001b[39m\u001b[38;5;241m=\u001b[39m \u001b[43mdot_products_per_month_weighted\u001b[49m\u001b[43m[\u001b[49m\u001b[43mmonth\u001b[49m\u001b[43m]\u001b[49m[pair]\n\u001b[0;32m    337\u001b[0m     predictions[pair] \u001b[38;5;241m=\u001b[39m (prediction \u001b[38;5;241m/\u001b[39m \u001b[38;5;28mlen\u001b[39m(wv_models))\n\u001b[0;32m    339\u001b[0m nodes \u001b[38;5;241m=\u001b[39m target_graph\u001b[38;5;241m.\u001b[39mnodes\n",
      "\u001b[1;31mKeyError\u001b[0m: 1"
     ]
    }
   ],
   "source": [
    "utils.summary_evaluation_for_month_groups_ex_2(\n",
    "    model = model_lr,\n",
    "    target_graphs = target_graphs,\n",
    "    wv_models = wv_models,\n",
    "    n_vecs = nv_models\n",
    ")"
   ]
  },
  {
   "cell_type": "code",
   "execution_count": 36,
   "id": "321364d1",
   "metadata": {},
   "outputs": [
    {
     "name": "stdout",
     "output_type": "stream",
     "text": [
      "Majority class size: 22967,\n",
      "Minority class size: 1564\n",
      "Majority class size: 23141,\n",
      "Minority class size: 1390\n"
     ]
    },
    {
     "data": {
      "text/plain": [
       "{'mean_acc': 0.6166371506375463,\n",
       " 'mean_prec': 0.7643177058616595,\n",
       " 'mean_rec': 0.33766168650757145,\n",
       " 'mean_f1': 0.4680997003431572,\n",
       " 'all_metrics': [[0.6192455242966752, 0.6140287769784173],\n",
       "  [0.7558299039780522, 0.7728055077452668],\n",
       "  [0.3523017902813299, 0.32302158273381293],\n",
       "  [0.4805931094635848, 0.45560629122272955]]}"
      ]
     },
     "execution_count": 36,
     "metadata": {},
     "output_type": "execute_result"
    }
   ],
   "source": [
    "results = utils.summary_evaluation_for_month_groups_ex_2(\n",
    "    model = model_lr,\n",
    "    target_graphs = target_graphs,\n",
    "    wv_models = wv_models,\n",
    "    n_vecs = nv_models\n",
    ")\n",
    "results"
   ]
  },
  {
   "cell_type": "markdown",
   "id": "1910676a4697f64f",
   "metadata": {},
   "source": [
    "### Test1 with other months"
   ]
  },
  {
   "cell_type": "code",
   "execution_count": 233,
   "id": "814e08e344f92e26",
   "metadata": {
    "ExecuteTime": {
     "end_time": "2024-09-18T17:12:14.215051Z",
     "start_time": "2024-09-18T17:11:53.728601Z"
    }
   },
   "outputs": [
    {
     "data": {
      "application/vnd.jupyter.widget-view+json": {
       "model_id": "d758a06856d54b14802169201f488e0d",
       "version_major": 2,
       "version_minor": 0
      },
      "text/plain": [
       "Computing transition probabilities:   0%|          | 0/222 [00:00<?, ?it/s]"
      ]
     },
     "metadata": {},
     "output_type": "display_data"
    },
    {
     "name": "stderr",
     "output_type": "stream",
     "text": [
      "Generating walks (CPU: 1): 100%|██████████| 5/5 [00:00<00:00, 45.31it/s]\n"
     ]
    },
    {
     "data": {
      "application/vnd.jupyter.widget-view+json": {
       "model_id": "9445a2fa3ad8406ca9b655cdaf6d6f40",
       "version_major": 2,
       "version_minor": 0
      },
      "text/plain": [
       "Computing transition probabilities:   0%|          | 0/222 [00:00<?, ?it/s]"
      ]
     },
     "metadata": {},
     "output_type": "display_data"
    },
    {
     "name": "stderr",
     "output_type": "stream",
     "text": [
      "Generating walks (CPU: 1): 100%|██████████| 5/5 [00:00<00:00, 22.71it/s]\n"
     ]
    },
    {
     "data": {
      "application/vnd.jupyter.widget-view+json": {
       "model_id": "cdb05ddeec1c4538b5001870e949f61c",
       "version_major": 2,
       "version_minor": 0
      },
      "text/plain": [
       "Computing transition probabilities:   0%|          | 0/222 [00:00<?, ?it/s]"
      ]
     },
     "metadata": {},
     "output_type": "display_data"
    },
    {
     "name": "stderr",
     "output_type": "stream",
     "text": [
      "Generating walks (CPU: 1): 100%|██████████| 5/5 [00:00<00:00, 63.36it/s]\n"
     ]
    },
    {
     "data": {
      "application/vnd.jupyter.widget-view+json": {
       "model_id": "4495235893ec4d559e797f4610751b8a",
       "version_major": 2,
       "version_minor": 0
      },
      "text/plain": [
       "Computing transition probabilities:   0%|          | 0/222 [00:00<?, ?it/s]"
      ]
     },
     "metadata": {},
     "output_type": "display_data"
    },
    {
     "name": "stderr",
     "output_type": "stream",
     "text": [
      "Generating walks (CPU: 1): 100%|██████████| 5/5 [00:00<00:00, 80.49it/s]\n"
     ]
    }
   ],
   "source": [
    "months = ['2018-03-31', '2018-04-30', '2018-05-31', '2018-06-30']\n",
    "graphs = load_graphs(months)\n",
    "j_nv, f_nv, m_nv, a_nv, j_model, f_model, m_model, a_model = create_nv_models(graphs, 5, 5)\n",
    "n_vecs = [j_nv, f_nv, m_nv, a_nv]\n",
    "nv_models = [j_model, f_model, m_model, a_model]"
   ]
  },
  {
   "cell_type": "code",
   "execution_count": 234,
   "id": "a9f8006272ffa2e4",
   "metadata": {
    "ExecuteTime": {
     "end_time": "2024-09-18T17:12:20.169775Z",
     "start_time": "2024-09-18T17:12:17.712087Z"
    }
   },
   "outputs": [],
   "source": [
    "counts = count_occurences(n_vecs, nodes, nodes_enc)\n",
    "averaged_counts = average_counts(counts, nodes_enc)\n",
    "for node in nodes_enc:\n",
    "    month_lists = [month[nodes_enc[node]] for month in counts.values()]\n",
    "    averaged_counts[node] = np.mean(month_lists, axis=0)\n",
    "dot_products_per_month_weighted = dict()\n",
    "for i, model in enumerate(nv_models):\n",
    "    vectors = dict()\n",
    "    for node in nodes:\n",
    "        vectors[node] = model.wv[node]\n",
    "    dot_products = dict()\n",
    "    for node1 in vectors:\n",
    "        for node2 in vectors:\n",
    "            if node1 != node2:\n",
    "                vector1 = np.array(vectors[node1])\n",
    "                vector2 = np.array(vectors[node2])\n",
    "                n_sorted = sorted([node1, node2])\n",
    "                dot_products[f'{n_sorted[0]}-{n_sorted[1]}'] = (\n",
    "                            np.dot(vector1, vector2) * max(counts[i][nodes_enc[n_sorted[0]]][nodes_enc[n_sorted[1]]],\n",
    "                                                           counts[i][nodes_enc[n_sorted[1]]][nodes_enc[n_sorted[0]]])\n",
    "                            )\n",
    "    dot_products_per_month_weighted[i] = dot_products\n",
    "predictions = dict()\n",
    "for pair in dot_products_per_month_weighted[0]:\n",
    "    prediction = 0\n",
    "    for month in range(len(nv_models)):\n",
    "        prediction += dot_products_per_month_weighted[month][pair]\n",
    "    predictions[pair] = (prediction / len(nv_models))\n",
    "with open(f'../data/graphs/graph_2018-07-31.pkl', 'rb') as f:\n",
    "    target_graph = pickle.load(f)  # fifth month graph\n",
    "nodes = target_graph.nodes\n",
    "ds_dict = dict()  # dataset dictionary \n",
    "for node1 in nodes:\n",
    "    for node2 in nodes:\n",
    "        if node1 != node2:\n",
    "            n_sorted = sorted([node1, node2])\n",
    "            ds_dict[f'{n_sorted[0]}-{n_sorted[1]}'] = (0, predictions[f'{n_sorted[0]}-{n_sorted[1]}'])\n",
    "for el in target_graph.edges(data=True):\n",
    "    if el[2]['weight'] >= 0:\n",
    "        node1 = el[0]\n",
    "        node2 = el[1]\n",
    "        n_sorted = sorted([node1, node2])\n",
    "        ds_dict[f'{n_sorted[0]}-{n_sorted[1]}'] = (1, predictions[f'{n_sorted[0]}-{n_sorted[1]}'])"
   ]
  },
  {
   "cell_type": "code",
   "execution_count": 235,
   "id": "bc92ce831067b899",
   "metadata": {
    "ExecuteTime": {
     "end_time": "2024-09-18T17:12:24.966211Z",
     "start_time": "2024-09-18T17:12:24.866191Z"
    }
   },
   "outputs": [
    {
     "name": "stdout",
     "output_type": "stream",
     "text": [
      "Accuracy 0.7359773371104816\n",
      "Recall 0.771671388101983\n",
      "F1-score 0.7450765864332604\n",
      "Classification metrics:\n",
      "              precision    recall  f1-score   support\n",
      "\n",
      "           0       0.75      0.70      0.73      1765\n",
      "           1       0.72      0.77      0.75      1765\n",
      "\n",
      "    accuracy                           0.74      3530\n",
      "   macro avg       0.74      0.74      0.74      3530\n",
      "weighted avg       0.74      0.74      0.74      3530\n",
      "\n"
     ]
    }
   ],
   "source": [
    "X = [el[1] for el in ds_dict.values()]\n",
    "y = [el[0] for el in ds_dict.values()]\n",
    "data = pd.DataFrame({'X': X, 'y': y})\n",
    "\n",
    "majority_class = data[data['y'] == 0]\n",
    "minority_class = data[data['y'] == 1]\n",
    "\n",
    "majority_undersampled = resample(majority_class,\n",
    "                                 replace=False,\n",
    "                                 n_samples=len(minority_class),\n",
    "                                 random_state=42)\n",
    "\n",
    "balanced_data = pd.concat([majority_undersampled, minority_class])\n",
    "balanced_X = np.array(balanced_data['X'].tolist())\n",
    "balanced_y = np.array(balanced_data['y'])\n",
    "\n",
    "predictions = model_lr.predict(balanced_X.reshape(-1, 1))\n",
    "print('Accuracy', accuracy_score(balanced_y, predictions))\n",
    "print('Recall', recall_score(balanced_y, predictions))\n",
    "print('F1-score', f1_score(balanced_y, predictions))\n",
    "print(\"Classification metrics:\")\n",
    "print(classification_report(balanced_y, predictions))"
   ]
  },
  {
   "cell_type": "markdown",
   "id": "8ee4c423df95b42f",
   "metadata": {},
   "source": [
    "### Test2"
   ]
  },
  {
   "cell_type": "code",
   "execution_count": null,
   "id": "b9b02724106fb9a8",
   "metadata": {
    "ExecuteTime": {
     "end_time": "2024-09-18T17:13:19.982486Z",
     "start_time": "2024-09-18T17:12:55.942774Z"
    }
   },
   "outputs": [
    {
     "data": {
      "application/vnd.jupyter.widget-view+json": {
       "model_id": "fa34d2d40dad4070a911428a22ece16d",
       "version_major": 2,
       "version_minor": 0
      },
      "text/plain": [
       "Computing transition probabilities:   0%|          | 0/222 [00:00<?, ?it/s]"
      ]
     },
     "metadata": {},
     "output_type": "display_data"
    },
    {
     "name": "stderr",
     "output_type": "stream",
     "text": [
      "Generating walks (CPU: 1): 100%|██████████| 5/5 [00:00<00:00, 62.50it/s]\n"
     ]
    },
    {
     "data": {
      "application/vnd.jupyter.widget-view+json": {
       "model_id": "5a6061ae4c664124a88c2c2ddf7d9635",
       "version_major": 2,
       "version_minor": 0
      },
      "text/plain": [
       "Computing transition probabilities:   0%|          | 0/222 [00:00<?, ?it/s]"
      ]
     },
     "metadata": {},
     "output_type": "display_data"
    },
    {
     "name": "stderr",
     "output_type": "stream",
     "text": [
      "Generating walks (CPU: 1): 100%|██████████| 5/5 [00:00<00:00, 13.01it/s]\n"
     ]
    },
    {
     "data": {
      "application/vnd.jupyter.widget-view+json": {
       "model_id": "0d0c4ea13780485b97d0e2e4ff58adaa",
       "version_major": 2,
       "version_minor": 0
      },
      "text/plain": [
       "Computing transition probabilities:   0%|          | 0/222 [00:00<?, ?it/s]"
      ]
     },
     "metadata": {},
     "output_type": "display_data"
    },
    {
     "name": "stderr",
     "output_type": "stream",
     "text": [
      "Generating walks (CPU: 1): 100%|██████████| 5/5 [00:00<00:00, 27.32it/s]\n"
     ]
    },
    {
     "data": {
      "application/vnd.jupyter.widget-view+json": {
       "model_id": "cc35218e90ea42fb9fc1fe4893e76de2",
       "version_major": 2,
       "version_minor": 0
      },
      "text/plain": [
       "Computing transition probabilities:   0%|          | 0/222 [00:00<?, ?it/s]"
      ]
     },
     "metadata": {},
     "output_type": "display_data"
    },
    {
     "name": "stderr",
     "output_type": "stream",
     "text": [
      "Generating walks (CPU: 1): 100%|██████████| 5/5 [00:00<00:00, 30.55it/s]\n"
     ]
    },
    {
     "name": "stdout",
     "output_type": "stream",
     "text": [
      "Accuracy 0.731700288184438\n",
      "Recall 0.7798270893371758\n",
      "F1-score 0.7440197965356062\n",
      "Classification metrics:\n",
      "              precision    recall  f1-score   support\n",
      "\n",
      "           0       0.76      0.68      0.72      1735\n",
      "           1       0.71      0.78      0.74      1735\n",
      "\n",
      "    accuracy                           0.73      3470\n",
      "   macro avg       0.73      0.73      0.73      3470\n",
      "weighted avg       0.73      0.73      0.73      3470\n",
      "\n"
     ]
    }
   ],
   "source": [
    "months = ['2015-03-31', '2015-04-30', '2015-05-31', '2015-06-30']\n",
    "graphs = load_graphs(months)\n",
    "j_nv, f_nv, m_nv, a_nv, j_model, f_model, m_model, a_model = create_nv_models(graphs, 5, 5)\n",
    "n_vecs = [j_nv, f_nv, m_nv, a_nv]\n",
    "nv_models = [j_model, f_model, m_model, a_model]\n",
    "counts = count_occurences(n_vecs, nodes, nodes_enc)\n",
    "averaged_counts = average_counts(counts, nodes_enc)\n",
    "for node in nodes_enc:\n",
    "    month_lists = [month[nodes_enc[node]] for month in counts.values()]\n",
    "    averaged_counts[node] = np.mean(month_lists, axis=0)\n",
    "dot_products_per_month_weighted = dict()\n",
    "for i, model in enumerate(nv_models):\n",
    "    vectors = dict()\n",
    "    for node in nodes:\n",
    "        vectors[node] = model.wv[node]\n",
    "    dot_products = dict()\n",
    "    for node1 in vectors:\n",
    "        for node2 in vectors:\n",
    "            if node1 != node2:\n",
    "                vector1 = np.array(vectors[node1])\n",
    "                vector2 = np.array(vectors[node2])\n",
    "                n_sorted = sorted([node1, node2])\n",
    "                dot_products[f'{n_sorted[0]}-{n_sorted[1]}'] = (\n",
    "                        np.dot(vector1, vector2) * max(counts[i][nodes_enc[n_sorted[0]]][nodes_enc[n_sorted[1]]],\n",
    "                                                       counts[i][nodes_enc[n_sorted[1]]][nodes_enc[n_sorted[0]]])\n",
    "                )\n",
    "    dot_products_per_month_weighted[i] = dot_products\n",
    "predictions = dict()\n",
    "for pair in dot_products_per_month_weighted[0]:\n",
    "    prediction = 0\n",
    "    for month in range(len(nv_models)):\n",
    "        prediction += dot_products_per_month_weighted[month][pair]\n",
    "    predictions[pair] = (prediction / len(nv_models))\n",
    "with open(f'../data/graphs/graph_2015-07-31.pkl', 'rb') as f:\n",
    "    target_graph = pickle.load(f)  # fifth month graph\n",
    "nodes = target_graph.nodes\n",
    "ds_dict = dict()  # dataset dictionary \n",
    "for node1 in nodes:\n",
    "    for node2 in nodes:\n",
    "        if node1 != node2:\n",
    "            n_sorted = sorted([node1, node2])\n",
    "            ds_dict[f'{n_sorted[0]}-{n_sorted[1]}'] = (0, predictions[f'{n_sorted[0]}-{n_sorted[1]}'])\n",
    "for el in target_graph.edges(data=True):\n",
    "    if el[2]['weight'] >= 0:\n",
    "        node1 = el[0]\n",
    "        node2 = el[1]\n",
    "        n_sorted = sorted([node1, node2])\n",
    "        ds_dict[f'{n_sorted[0]}-{n_sorted[1]}'] = (1, predictions[f'{n_sorted[0]}-{n_sorted[1]}'])\n",
    "X = [el[1] for el in ds_dict.values()]\n",
    "y = [el[0] for el in ds_dict.values()]\n",
    "data = pd.DataFrame({'X': X, 'y': y})\n",
    "\n",
    "majority_class = data[data['y'] == 0]\n",
    "minority_class = data[data['y'] == 1]\n",
    "\n",
    "majority_undersampled = resample(majority_class,\n",
    "                                 replace=False,\n",
    "                                 n_samples=len(minority_class),\n",
    "                                 random_state=42)\n",
    "\n",
    "balanced_data = pd.concat([majority_undersampled, minority_class])\n",
    "balanced_X = np.array(balanced_data['X'].tolist())\n",
    "balanced_y = np.array(balanced_data['y'])\n",
    "\n",
    "predictions = model_lr.predict(balanced_X.reshape(-1, 1))\n",
    "print('Accuracy', accuracy_score(balanced_y, predictions))\n",
    "print('Recall', recall_score(balanced_y, predictions))\n",
    "print('F1-score', f1_score(balanced_y, predictions))\n",
    "print(\"Classification metrics:\")\n",
    "print(classification_report(balanced_y, predictions))"
   ]
  },
  {
   "cell_type": "markdown",
   "id": "2e0fa53aff02dc39",
   "metadata": {},
   "source": [
    "##### Conclusion for the second experiment: This approach works very well, and all the metrics are not chaning "
   ]
  },
  {
   "cell_type": "markdown",
   "id": "d12e5cc88996ec09",
   "metadata": {},
   "source": [
    "# Experiment 3: Multiply each node2vec vector by the occurrence rate of the other country in the random walks and then calculate dot product\n"
   ]
  },
  {
   "cell_type": "code",
   "execution_count": 7,
   "id": "bfd5fe964457a77f",
   "metadata": {
    "ExecuteTime": {
     "end_time": "2024-09-18T12:58:06.367814Z",
     "start_time": "2024-09-18T12:57:49.787631Z"
    }
   },
   "outputs": [
    {
     "data": {
      "application/vnd.jupyter.widget-view+json": {
       "model_id": "3b613f3d5c8045e2b6f0971096445cb4",
       "version_major": 2,
       "version_minor": 0
      },
      "text/plain": [
       "Computing transition probabilities:   0%|          | 0/222 [00:00<?, ?it/s]"
      ]
     },
     "metadata": {},
     "output_type": "display_data"
    },
    {
     "name": "stderr",
     "output_type": "stream",
     "text": [
      "Generating walks (CPU: 1): 100%|██████████| 20/20 [00:00<00:00, 754.07it/s]\n"
     ]
    },
    {
     "data": {
      "application/vnd.jupyter.widget-view+json": {
       "model_id": "40616e89b8684effa82c4fbbe4f2581d",
       "version_major": 2,
       "version_minor": 0
      },
      "text/plain": [
       "Computing transition probabilities:   0%|          | 0/222 [00:00<?, ?it/s]"
      ]
     },
     "metadata": {},
     "output_type": "display_data"
    },
    {
     "name": "stderr",
     "output_type": "stream",
     "text": [
      "Generating walks (CPU: 1): 100%|██████████| 20/20 [00:00<00:00, 338.99it/s]\n"
     ]
    },
    {
     "data": {
      "application/vnd.jupyter.widget-view+json": {
       "model_id": "6993009e452e4ad698cd7a9b2be9a17d",
       "version_major": 2,
       "version_minor": 0
      },
      "text/plain": [
       "Computing transition probabilities:   0%|          | 0/222 [00:00<?, ?it/s]"
      ]
     },
     "metadata": {},
     "output_type": "display_data"
    },
    {
     "name": "stderr",
     "output_type": "stream",
     "text": [
      "Generating walks (CPU: 1): 100%|██████████| 20/20 [00:00<00:00, 100.60it/s]\n"
     ]
    },
    {
     "data": {
      "application/vnd.jupyter.widget-view+json": {
       "model_id": "81e763fedd3e4b6b9931095f154f9f5f",
       "version_major": 2,
       "version_minor": 0
      },
      "text/plain": [
       "Computing transition probabilities:   0%|          | 0/222 [00:00<?, ?it/s]"
      ]
     },
     "metadata": {},
     "output_type": "display_data"
    },
    {
     "name": "stderr",
     "output_type": "stream",
     "text": [
      "Generating walks (CPU: 1): 100%|██████████| 20/20 [00:00<00:00, 221.39it/s]\n"
     ]
    }
   ],
   "source": [
    "months = ['graph_2015-01-31', 'graph_2015-02-28', 'graph_2015-03-31', 'graph_2015-04-30']\n",
    "graphs = load_graphs(months)\n",
    "j_nv, f_nv, m_nv, a_nv, j_model, f_model, m_model, a_model = create_nv_models(graphs, 5, 20)\n",
    "n_vecs = [j_nv, f_nv, m_nv, a_nv]\n",
    "nv_models = [j_model, f_model, m_model, a_model]"
   ]
  },
  {
   "cell_type": "code",
   "execution_count": 8,
   "id": "6a4f18465f804f92",
   "metadata": {
    "ExecuteTime": {
     "end_time": "2024-09-18T13:05:07.284133Z",
     "start_time": "2024-09-18T13:05:06.289526Z"
    }
   },
   "outputs": [],
   "source": [
    "nodes = graphs[0].nodes\n",
    "nodes_enc = {node: idx for idx, node in enumerate(nodes)}\n",
    "counts = utils.count_occurences(n_vecs, nodes, nodes_enc)\n",
    "averaged_counts = utils.average_counts(counts, nodes_enc)\n",
    "for node in nodes_enc:\n",
    "    month_lists = [month[nodes_enc[node]] for month in counts.values()]\n",
    "    averaged_counts[node] = np.mean(month_lists, axis=0)"
   ]
  },
  {
   "cell_type": "code",
   "execution_count": 9,
   "id": "1c90ccc9726eae84",
   "metadata": {
    "ExecuteTime": {
     "end_time": "2024-09-18T13:05:11.835895Z",
     "start_time": "2024-09-18T13:05:08.101408Z"
    }
   },
   "outputs": [],
   "source": [
    "dot_products_per_month_weighted = dict()\n",
    "for i, model in enumerate(nv_models):\n",
    "    vectors = dict()\n",
    "    for node in nodes:\n",
    "        vectors[node] = model.wv[node]\n",
    "    dot_products = dict()\n",
    "    for node1 in vectors:\n",
    "        for node2 in vectors:\n",
    "            if node1 != node2:\n",
    "                n_sorted = sorted([node1, node2])\n",
    "                vector1 = np.array(vectors[node1]) * counts[i][nodes_enc[n_sorted[0]]][nodes_enc[n_sorted[1]]]\n",
    "                vector2 = np.array(vectors[node2]) * counts[i][nodes_enc[n_sorted[1]]][nodes_enc[n_sorted[0]]]\n",
    "                dot_products[f'{n_sorted[0]}-{n_sorted[1]}'] = (np.dot(vector1, vector2))\n",
    "    dot_products_per_month_weighted[i] = dot_products"
   ]
  },
  {
   "cell_type": "code",
   "execution_count": 10,
   "id": "f732dd0ff0bf7a0e",
   "metadata": {
    "ExecuteTime": {
     "end_time": "2024-09-18T13:05:11.976514Z",
     "start_time": "2024-09-18T13:05:11.835895Z"
    }
   },
   "outputs": [],
   "source": [
    "predictions = dict()\n",
    "for pair in dot_products_per_month_weighted[0]:\n",
    "    prediction = 0\n",
    "    for month in range(len(nv_models)):\n",
    "        prediction += dot_products_per_month_weighted[month][pair]\n",
    "    predictions[pair] = (prediction / len(nv_models))"
   ]
  },
  {
   "cell_type": "code",
   "execution_count": 11,
   "id": "abd6aa15ef6c2d69",
   "metadata": {
    "ExecuteTime": {
     "end_time": "2024-09-18T13:05:13.045210Z",
     "start_time": "2024-09-18T13:05:12.951172Z"
    }
   },
   "outputs": [
    {
     "name": "stdout",
     "output_type": "stream",
     "text": [
      "1864 22667\n"
     ]
    }
   ],
   "source": [
    "with open(f'../../data/graphs/graph_2015-05-31.pkl', 'rb') as f:\n",
    "    target_graph = pickle.load(f)  # fifth month graph\n",
    "nodes = target_graph.nodes\n",
    "ds_dict = dict()  # dataset dictionary \n",
    "for node1 in nodes:\n",
    "    for node2 in nodes:\n",
    "        if node1 != node2:\n",
    "            n_sorted = sorted([node1, node2])\n",
    "            ds_dict[f'{n_sorted[0]}-{n_sorted[1]}'] = (0, predictions[f'{n_sorted[0]}-{n_sorted[1]}'])\n",
    "for el in target_graph.edges(data=True):\n",
    "    if el[2]['weight'] > 0:\n",
    "        node1 = el[0]\n",
    "        node2 = el[1]\n",
    "        n_sorted = sorted([node1, node2])\n",
    "        ds_dict[f'{n_sorted[0]}-{n_sorted[1]}'] = (1, predictions[f'{n_sorted[0]}-{n_sorted[1]}'])\n",
    "num_t = len([el for el in ds_dict.values() if el[0] == 1])\n",
    "num_f = len([el for el in ds_dict.values() if el[0] == 0])\n",
    "print(num_t, num_f)"
   ]
  },
  {
   "cell_type": "code",
   "execution_count": 12,
   "id": "8a2281e610435c27",
   "metadata": {
    "ExecuteTime": {
     "end_time": "2024-09-18T13:05:19.893921Z",
     "start_time": "2024-09-18T13:05:19.831415Z"
    }
   },
   "outputs": [
    {
     "name": "stdout",
     "output_type": "stream",
     "text": [
      "Accuracy 0.47542448614834676\n",
      "Recall 1.0\n",
      "F1-score 0.6444579043004239\n",
      "Classification metrics:\n",
      "              precision    recall  f1-score   support\n",
      "\n",
      "           0       0.00      0.00      0.00       587\n",
      "           1       0.48      1.00      0.64       532\n",
      "\n",
      "    accuracy                           0.48      1119\n",
      "   macro avg       0.24      0.50      0.32      1119\n",
      "weighted avg       0.23      0.48      0.31      1119\n",
      "\n"
     ]
    },
    {
     "name": "stderr",
     "output_type": "stream",
     "text": [
      "z:\\Users\\onira\\Documents\\_FINKI\\VNP PROJECT\\xai-graphs\\venv\\lib\\site-packages\\sklearn\\metrics\\_classification.py:1531: UndefinedMetricWarning: Precision is ill-defined and being set to 0.0 in labels with no predicted samples. Use `zero_division` parameter to control this behavior.\n",
      "  _warn_prf(average, modifier, f\"{metric.capitalize()} is\", len(result))\n",
      "z:\\Users\\onira\\Documents\\_FINKI\\VNP PROJECT\\xai-graphs\\venv\\lib\\site-packages\\sklearn\\metrics\\_classification.py:1531: UndefinedMetricWarning: Precision is ill-defined and being set to 0.0 in labels with no predicted samples. Use `zero_division` parameter to control this behavior.\n",
      "  _warn_prf(average, modifier, f\"{metric.capitalize()} is\", len(result))\n",
      "z:\\Users\\onira\\Documents\\_FINKI\\VNP PROJECT\\xai-graphs\\venv\\lib\\site-packages\\sklearn\\metrics\\_classification.py:1531: UndefinedMetricWarning: Precision is ill-defined and being set to 0.0 in labels with no predicted samples. Use `zero_division` parameter to control this behavior.\n",
      "  _warn_prf(average, modifier, f\"{metric.capitalize()} is\", len(result))\n"
     ]
    }
   ],
   "source": [
    "X = [el[1] for el in ds_dict.values()]\n",
    "y = [el[0] for el in ds_dict.values()]\n",
    "data = pd.DataFrame({'X': X, 'y': y})\n",
    "\n",
    "majority_class = data[data['y'] == 0]\n",
    "minority_class = data[data['y'] == 1]\n",
    "\n",
    "majority_undersampled = resample(majority_class,\n",
    "                                 replace=False,\n",
    "                                 n_samples=len(minority_class),\n",
    "                                 random_state=42)\n",
    "\n",
    "balanced_data = pd.concat([majority_undersampled, minority_class])\n",
    "balanced_X = np.array(balanced_data['X'].tolist())\n",
    "balanced_y = np.array(balanced_data['y'])\n",
    "X_train, X_test, y_train, y_test = train_test_split(balanced_X, balanced_y, test_size=0.3, random_state=42)\n",
    "model_lr = LogisticRegression()\n",
    "model_lr.fit(X_train.reshape(-1, 1), y_train)\n",
    "predictions = model_lr.predict(X_test.reshape(-1, 1))\n",
    "print('Accuracy', accuracy_score(y_test, predictions))\n",
    "print('Recall', recall_score(y_test, predictions))\n",
    "print('F1-score', f1_score(y_test, predictions))\n",
    "print(\"Classification metrics:\")\n",
    "print(classification_report(y_test, predictions))"
   ]
  },
  {
   "cell_type": "markdown",
   "id": "553258346f0a6df1",
   "metadata": {},
   "source": [
    "##### Conclusion for the third experiment: The results are not satisfactory. This approach is very limiting, since we multiply each value of the vector by some scaling factor, which can many times be zero"
   ]
  },
  {
   "cell_type": "code",
   "execution_count": 13,
   "id": "977aec88",
   "metadata": {},
   "outputs": [
    {
     "data": {
      "application/vnd.jupyter.widget-view+json": {
       "model_id": "7b4410f61e2c4c6e95bfeb5bb4a97006",
       "version_major": 2,
       "version_minor": 0
      },
      "text/plain": [
       "Computing transition probabilities:   0%|          | 0/222 [00:00<?, ?it/s]"
      ]
     },
     "metadata": {},
     "output_type": "display_data"
    },
    {
     "name": "stdout",
     "output_type": "stream",
     "text": [
      "Processing graph for date: 2023-07-31\n"
     ]
    },
    {
     "data": {
      "application/vnd.jupyter.widget-view+json": {
       "model_id": "9cfa096934784d389d906cfb0e36294a",
       "version_major": 2,
       "version_minor": 0
      },
      "text/plain": [
       "Computing transition probabilities:   0%|          | 0/222 [00:00<?, ?it/s]"
      ]
     },
     "metadata": {},
     "output_type": "display_data"
    },
    {
     "name": "stdout",
     "output_type": "stream",
     "text": [
      "Processing graph for date: 2023-08-31\n"
     ]
    },
    {
     "data": {
      "application/vnd.jupyter.widget-view+json": {
       "model_id": "041cc2f9a9ba4c058d46f5003e171c43",
       "version_major": 2,
       "version_minor": 0
      },
      "text/plain": [
       "Computing transition probabilities:   0%|          | 0/222 [00:00<?, ?it/s]"
      ]
     },
     "metadata": {},
     "output_type": "display_data"
    },
    {
     "name": "stdout",
     "output_type": "stream",
     "text": [
      "Processing graph for date: 2023-09-30\n"
     ]
    },
    {
     "data": {
      "application/vnd.jupyter.widget-view+json": {
       "model_id": "a519816f258043c88b243bbdee1cc47e",
       "version_major": 2,
       "version_minor": 0
      },
      "text/plain": [
       "Computing transition probabilities:   0%|          | 0/222 [00:00<?, ?it/s]"
      ]
     },
     "metadata": {},
     "output_type": "display_data"
    },
    {
     "name": "stdout",
     "output_type": "stream",
     "text": [
      "Processing graph for date: 2023-10-31\n"
     ]
    },
    {
     "data": {
      "application/vnd.jupyter.widget-view+json": {
       "model_id": "b1372a709b5a4cc2a3a53e3c021962b1",
       "version_major": 2,
       "version_minor": 0
      },
      "text/plain": [
       "Computing transition probabilities:   0%|          | 0/222 [00:00<?, ?it/s]"
      ]
     },
     "metadata": {},
     "output_type": "display_data"
    },
    {
     "name": "stdout",
     "output_type": "stream",
     "text": [
      "Processing graph for date: 2023-11-30\n"
     ]
    },
    {
     "data": {
      "application/vnd.jupyter.widget-view+json": {
       "model_id": "f3e29834665f422b85cf796e34f18f08",
       "version_major": 2,
       "version_minor": 0
      },
      "text/plain": [
       "Computing transition probabilities:   0%|          | 0/222 [00:00<?, ?it/s]"
      ]
     },
     "metadata": {},
     "output_type": "display_data"
    },
    {
     "name": "stdout",
     "output_type": "stream",
     "text": [
      "Processing graph for date: 2024-09-30\n"
     ]
    },
    {
     "data": {
      "application/vnd.jupyter.widget-view+json": {
       "model_id": "3062db041c1241e6870f59703fa19380",
       "version_major": 2,
       "version_minor": 0
      },
      "text/plain": [
       "Computing transition probabilities:   0%|          | 0/222 [00:00<?, ?it/s]"
      ]
     },
     "metadata": {},
     "output_type": "display_data"
    },
    {
     "name": "stdout",
     "output_type": "stream",
     "text": [
      "Processing graph for date: 2024-10-31\n"
     ]
    },
    {
     "data": {
      "application/vnd.jupyter.widget-view+json": {
       "model_id": "340c942ebba445a691abb7af6631ef41",
       "version_major": 2,
       "version_minor": 0
      },
      "text/plain": [
       "Computing transition probabilities:   0%|          | 0/222 [00:00<?, ?it/s]"
      ]
     },
     "metadata": {},
     "output_type": "display_data"
    },
    {
     "name": "stdout",
     "output_type": "stream",
     "text": [
      "Processing graph for date: 2024-11-30\n"
     ]
    },
    {
     "data": {
      "application/vnd.jupyter.widget-view+json": {
       "model_id": "6abb697660294fe69f93fc5e7aa800d7",
       "version_major": 2,
       "version_minor": 0
      },
      "text/plain": [
       "Computing transition probabilities:   0%|          | 0/222 [00:00<?, ?it/s]"
      ]
     },
     "metadata": {},
     "output_type": "display_data"
    },
    {
     "name": "stdout",
     "output_type": "stream",
     "text": [
      "Processing graph for date: 2024-12-31\n"
     ]
    },
    {
     "data": {
      "application/vnd.jupyter.widget-view+json": {
       "model_id": "ebed8e2cd943437eab9e22c5fc36754e",
       "version_major": 2,
       "version_minor": 0
      },
      "text/plain": [
       "Computing transition probabilities:   0%|          | 0/222 [00:00<?, ?it/s]"
      ]
     },
     "metadata": {},
     "output_type": "display_data"
    },
    {
     "name": "stdout",
     "output_type": "stream",
     "text": [
      "Processing graph for date: 2025-01-31\n"
     ]
    },
    {
     "data": {
      "text/plain": [
       "([[<node2vec.node2vec.Node2Vec at 0x241e2403790>,\n",
       "   <node2vec.node2vec.Node2Vec at 0x241f0600160>,\n",
       "   <node2vec.node2vec.Node2Vec at 0x241ed8a5480>,\n",
       "   <node2vec.node2vec.Node2Vec at 0x241e5ac38e0>],\n",
       "  [<node2vec.node2vec.Node2Vec at 0x241ed8a6a70>,\n",
       "   <node2vec.node2vec.Node2Vec at 0x241f05eb580>,\n",
       "   <node2vec.node2vec.Node2Vec at 0x241ed8fe3b0>,\n",
       "   <node2vec.node2vec.Node2Vec at 0x241f0601ea0>]],\n",
       " [[<gensim.models.word2vec.Word2Vec at 0x241eb5160b0>,\n",
       "   <gensim.models.word2vec.Word2Vec at 0x241eb55cd30>,\n",
       "   <gensim.models.word2vec.Word2Vec at 0x241e5ae90f0>,\n",
       "   <gensim.models.word2vec.Word2Vec at 0x241ed823f10>],\n",
       "  [<gensim.models.word2vec.Word2Vec at 0x241eb515ba0>,\n",
       "   <gensim.models.word2vec.Word2Vec at 0x241b289b3d0>,\n",
       "   <gensim.models.word2vec.Word2Vec at 0x241f0603eb0>,\n",
       "   <gensim.models.word2vec.Word2Vec at 0x241ed853d30>]])"
      ]
     },
     "execution_count": 13,
     "metadata": {},
     "output_type": "execute_result"
    }
   ],
   "source": [
    "graph_model_data = utils.create_train_test_objects(\n",
    "    prefix='israel_palestine',\n",
    "    num_walks=5,\n",
    "    walk_length=5,\n",
    "    dimensions=64\n",
    ")\n",
    "target_graphs = []\n",
    "target_graphs.append(graph_model_data['2023-11-30']['graph'])\n",
    "target_graphs.append(graph_model_data['2025-01-31']['graph'])\n",
    "len(target_graphs[1].edges)\n",
    "nv_models = []\n",
    "wv_models = []\n",
    "# Extract models from the first 4 months in graph_model_data\n",
    "keys = list(graph_model_data.keys())[:4]\n",
    "nv_models_list = []\n",
    "wv_models_list = []\n",
    "for key in keys:\n",
    "    nv_models_list.append(graph_model_data[key]['node2vec'])\n",
    "    wv_models_list.append(graph_model_data[key]['word2vec'])\n",
    "nv_models.append(nv_models_list)\n",
    "wv_models.append(wv_models_list)\n",
    "keys = list(graph_model_data.keys())[5:9]\n",
    "nv_models_list = []\n",
    "wv_models_list = []\n",
    "for key in keys:\n",
    "    nv_models_list.append(graph_model_data[key]['node2vec'])\n",
    "    wv_models_list.append(graph_model_data[key]['word2vec'])\n",
    "nv_models.append(nv_models_list)\n",
    "wv_models.append(wv_models_list)\n",
    "nv_models, wv_models"
   ]
  },
  {
   "cell_type": "code",
   "execution_count": 14,
   "id": "adbf34f7",
   "metadata": {},
   "outputs": [
    {
     "name": "stdout",
     "output_type": "stream",
     "text": [
      "Majority class size: 22967,\n",
      "Minority class size: 1564\n",
      "Majority class size: 23141,\n",
      "Minority class size: 1390\n"
     ]
    },
    {
     "data": {
      "text/plain": [
       "{'mean_acc': 0.5,\n",
       " 'mean_prec': 0.5,\n",
       " 'mean_rec': 1.0,\n",
       " 'mean_f1': 0.6666666666666666,\n",
       " 'all_metrics': [[0.5, 0.5],\n",
       "  [0.5, 0.5],\n",
       "  [1.0, 1.0],\n",
       "  [0.6666666666666666, 0.6666666666666666]]}"
      ]
     },
     "execution_count": 14,
     "metadata": {},
     "output_type": "execute_result"
    }
   ],
   "source": [
    "utils.summary_evaluation_for_month_groups_ex_2(\n",
    "    model=model_lr,\n",
    "    target_graphs=target_graphs,\n",
    "    wv_models=wv_models,\n",
    "    n_vecs=nv_models\n",
    ")"
   ]
  },
  {
   "cell_type": "markdown",
   "id": "76a2c1a1d3cbbb7c",
   "metadata": {},
   "source": [
    "# Experiment 4: Cosine similarity of the averaged vectors for 4 months"
   ]
  },
  {
   "cell_type": "code",
   "execution_count": 47,
   "id": "901e6d180a8d9417",
   "metadata": {
    "ExecuteTime": {
     "end_time": "2024-09-18T13:44:35.842658Z",
     "start_time": "2024-09-18T13:44:21.892697Z"
    }
   },
   "outputs": [
    {
     "data": {
      "application/vnd.jupyter.widget-view+json": {
       "model_id": "adae941c43f045ea928331c730dce869",
       "version_major": 2,
       "version_minor": 0
      },
      "text/plain": [
       "Computing transition probabilities:   0%|          | 0/222 [00:00<?, ?it/s]"
      ]
     },
     "metadata": {},
     "output_type": "display_data"
    },
    {
     "name": "stderr",
     "output_type": "stream",
     "text": [
      "Generating walks (CPU: 1): 100%|██████████| 20/20 [00:00<00:00, 689.70it/s]\n"
     ]
    },
    {
     "data": {
      "application/vnd.jupyter.widget-view+json": {
       "model_id": "fac42b55f98f40ca92b5a014c6097f36",
       "version_major": 2,
       "version_minor": 0
      },
      "text/plain": [
       "Computing transition probabilities:   0%|          | 0/222 [00:00<?, ?it/s]"
      ]
     },
     "metadata": {},
     "output_type": "display_data"
    },
    {
     "name": "stderr",
     "output_type": "stream",
     "text": [
      "Generating walks (CPU: 1): 100%|██████████| 20/20 [00:00<00:00, 325.66it/s]\n"
     ]
    },
    {
     "data": {
      "application/vnd.jupyter.widget-view+json": {
       "model_id": "a0d01a0d8f7349769ac539afbba9adf8",
       "version_major": 2,
       "version_minor": 0
      },
      "text/plain": [
       "Computing transition probabilities:   0%|          | 0/222 [00:00<?, ?it/s]"
      ]
     },
     "metadata": {},
     "output_type": "display_data"
    },
    {
     "name": "stderr",
     "output_type": "stream",
     "text": [
      "Generating walks (CPU: 1): 100%|██████████| 20/20 [00:00<00:00, 240.58it/s]\n"
     ]
    },
    {
     "data": {
      "application/vnd.jupyter.widget-view+json": {
       "model_id": "0c5b0a1f2e4143298fb61f46fbbecca4",
       "version_major": 2,
       "version_minor": 0
      },
      "text/plain": [
       "Computing transition probabilities:   0%|          | 0/222 [00:00<?, ?it/s]"
      ]
     },
     "metadata": {},
     "output_type": "display_data"
    },
    {
     "name": "stderr",
     "output_type": "stream",
     "text": [
      "Generating walks (CPU: 1): 100%|██████████| 20/20 [00:00<00:00, 245.22it/s]\n"
     ]
    }
   ],
   "source": [
    "months = ['graph_2015-01-31', 'graph_2015-02-28', 'graph_2015-03-31', 'graph_2015-04-30']\n",
    "graphs = load_graphs(months)\n",
    "j_nv, f_nv, m_nv, a_nv, j_model, f_model, m_model, a_model = create_nv_models(graphs, 5, 20)\n",
    "n_vecs = [j_nv, f_nv, m_nv, a_nv]\n",
    "nv_models = [j_model, f_model, m_model, a_model]\n",
    "avg_vectors = dict()\n",
    "for node in graphs[3].nodes:\n",
    "    avg_vector = []\n",
    "    for i in range(64):\n",
    "        avg_vector.append((j_model.wv[node][i] + f_model.wv[node][i] + m_model.wv[node][i] + a_model.wv[node][i]) / 4)\n",
    "    avg_vectors[node] = avg_vector"
   ]
  },
  {
   "cell_type": "code",
   "execution_count": 10,
   "id": "20d54445e6189e9a",
   "metadata": {
    "ExecuteTime": {
     "end_time": "2024-09-18T13:46:43.128514Z",
     "start_time": "2024-09-18T13:46:41.530911Z"
    }
   },
   "outputs": [],
   "source": [
    "cos_similarities = dict()\n",
    "for node1 in avg_vectors:\n",
    "    for node2 in avg_vectors:\n",
    "        if node1 != node2:\n",
    "            vector1 = np.array(avg_vectors[node1])\n",
    "            vector2 = np.array(avg_vectors[node2])\n",
    "            n_sorted = sorted([node1, node2])\n",
    "            cos_similarities[f'{n_sorted[0]}-{n_sorted[1]}'] = cosine_similarity(vector1, vector2)"
   ]
  },
  {
   "cell_type": "code",
   "execution_count": 11,
   "id": "72bbf86db814aac",
   "metadata": {
    "ExecuteTime": {
     "end_time": "2024-09-18T13:48:44.355193Z",
     "start_time": "2024-09-18T13:48:41.069580Z"
    }
   },
   "outputs": [
    {
     "data": {
      "text/plain": [
       "<seaborn.axisgrid.FacetGrid at 0x1558d7a7100>"
      ]
     },
     "execution_count": 11,
     "metadata": {},
     "output_type": "execute_result"
    },
    {
     "data": {
      "image/png": "[encoded data removed]",
      "text/plain": [
       "<Figure size 500x500 with 1 Axes>"
      ]
     },
     "metadata": {},
     "output_type": "display_data"
    }
   ],
   "source": [
    "sns.displot(list(cos_similarities.values()))"
   ]
  },
  {
   "cell_type": "code",
   "execution_count": 12,
   "id": "fad96deb38125220",
   "metadata": {
    "ExecuteTime": {
     "end_time": "2024-09-18T13:49:56.097647Z",
     "start_time": "2024-09-18T13:49:55.933381Z"
    }
   },
   "outputs": [
    {
     "name": "stdout",
     "output_type": "stream",
     "text": [
      "1864 22667\n"
     ]
    }
   ],
   "source": [
    "with open(f'../../data/graphs/graph_2015-05-31.pkl', 'rb') as f:\n",
    "    target_graph = pickle.load(f)\n",
    "nodes = target_graph.nodes\n",
    "ds_dict = dict()  # dataset dictionary \n",
    "for node1 in nodes:\n",
    "    for node2 in nodes:\n",
    "        if node1 != node2:\n",
    "            n_sorted = sorted([node1, node2])\n",
    "            ds_dict[f'{n_sorted[0]}-{n_sorted[1]}'] = (0, cos_similarities[f'{n_sorted[0]}-{n_sorted[1]}'])\n",
    "for el in target_graph.edges(data=True):\n",
    "    if el[2]['weight'] >= 0:\n",
    "        node1 = el[0]\n",
    "        node2 = el[1]\n",
    "        n_sorted = sorted([node1, node2])\n",
    "        ds_dict[f'{n_sorted[0]}-{n_sorted[1]}'] = (1, cos_similarities[f'{n_sorted[0]}-{n_sorted[1]}'])\n",
    "num_t = len([el for el in ds_dict.values() if el[0] == 1])\n",
    "num_f = len([el for el in ds_dict.values() if el[0] == 0])\n",
    "print(num_t, num_f)"
   ]
  },
  {
   "cell_type": "code",
   "execution_count": 13,
   "id": "b721fc4c5edd4c9",
   "metadata": {
    "ExecuteTime": {
     "end_time": "2024-09-18T13:50:49.759467Z",
     "start_time": "2024-09-18T13:50:49.616949Z"
    }
   },
   "outputs": [
    {
     "name": "stdout",
     "output_type": "stream",
     "text": [
      "Accuracy 0.5576407506702413\n",
      "Recall 0.9454887218045113\n",
      "F1-score 0.670219853431046\n",
      "Classification metrics:\n",
      "              precision    recall  f1-score   support\n",
      "\n",
      "           0       0.81      0.21      0.33       587\n",
      "           1       0.52      0.95      0.67       532\n",
      "\n",
      "    accuracy                           0.56      1119\n",
      "   macro avg       0.66      0.58      0.50      1119\n",
      "weighted avg       0.67      0.56      0.49      1119\n",
      "\n"
     ]
    }
   ],
   "source": [
    "X = [el[1] for el in ds_dict.values()]\n",
    "y = [el[0] for el in ds_dict.values()]\n",
    "data = pd.DataFrame({'X': X, 'y': y})\n",
    "\n",
    "majority_class = data[data['y'] == 0]\n",
    "minority_class = data[data['y'] == 1]\n",
    "\n",
    "majority_undersampled = resample(majority_class,\n",
    "                                 replace=False,\n",
    "                                 n_samples=len(minority_class),\n",
    "                                 random_state=42)\n",
    "\n",
    "balanced_data = pd.concat([majority_undersampled, minority_class])\n",
    "balanced_X = np.array(balanced_data['X'].tolist())\n",
    "balanced_y = np.array(balanced_data['y'])\n",
    "X_train, X_test, y_train, y_test = train_test_split(balanced_X, balanced_y, test_size=0.3, random_state=42)\n",
    "model_lr = LogisticRegression()\n",
    "model_lr.fit(X_train.reshape(-1, 1), y_train)\n",
    "predictions = model_lr.predict(X_test.reshape(-1, 1))\n",
    "print('Accuracy', accuracy_score(y_test, predictions))\n",
    "print('Recall', recall_score(y_test, predictions))\n",
    "print('F1-score', f1_score(y_test, predictions))\n",
    "print(\"Classification metrics:\")\n",
    "print(classification_report(y_test, predictions))"
   ]
  },
  {
   "cell_type": "markdown",
   "id": "fe7416f5e95f3b4a",
   "metadata": {},
   "source": [
    "### Test with other months"
   ]
  },
  {
   "cell_type": "code",
   "execution_count": null,
   "id": "dbfe533c684031bd",
   "metadata": {
    "ExecuteTime": {
     "end_time": "2024-09-18T14:16:18.567112Z",
     "start_time": "2024-09-18T14:15:56.636239Z"
    }
   },
   "outputs": [],
   "source": [
    "months = ['graph_2015-01-31', 'graph_2015-02-28', 'graph_2015-03-31', 'graph_2015-04-30']\n",
    "graphs = load_graphs(months)\n",
    "j_nv, f_nv, m_nv, a_nv, j_model, f_model, m_model, a_model = create_nv_models(graphs, 5, 20)\n",
    "n_vecs = [j_nv, f_nv, m_nv, a_nv]\n",
    "nv_models = [j_model, f_model, m_model, a_model]\n",
    "avg_vectors = dict()\n",
    "for node in graphs[3].nodes:\n",
    "    avg_vector = []\n",
    "    for i in range(64):\n",
    "        avg_vector.append((j_model.wv[node][i] + f_model.wv[node][i] + m_model.wv[node][i] + a_model.wv[node][i]) / 4)\n",
    "    avg_vectors[node] = avg_vector\n",
    "cos_similarities = dict()\n",
    "for node1 in avg_vectors:\n",
    "    for node2 in avg_vectors:\n",
    "        if node1 != node2:\n",
    "            vector1 = np.array(avg_vectors[node1])\n",
    "            vector2 = np.array(avg_vectors[node2])\n",
    "            n_sorted = sorted([node1, node2])\n",
    "            cos_similarities[f'{n_sorted[0]}-{n_sorted[1]}'] = cosine_similarity(vector1, vector2)\n",
    "sns.displot(list(cos_similarities.values()))\n",
    "with open(f'../../data/graphs/graph_2015-05-31.pkl', 'rb') as f:\n",
    "    target_graph = pickle.load(f)\n",
    "nodes = target_graph.nodes\n",
    "ds_dict = dict()  # dataset dictionary \n",
    "for node1 in nodes:\n",
    "    for node2 in nodes:\n",
    "        if node1 != node2:\n",
    "            n_sorted = sorted([node1, node2])\n",
    "            ds_dict[f'{n_sorted[0]}-{n_sorted[1]}'] = (0, cos_similarities[f'{n_sorted[0]}-{n_sorted[1]}'])\n",
    "for el in target_graph.edges(data=True):\n",
    "    if el[2]['weight'] >= 0:\n",
    "        node1 = el[0]\n",
    "        node2 = el[1]\n",
    "        n_sorted = sorted([node1, node2])\n",
    "        ds_dict[f'{n_sorted[0]}-{n_sorted[1]}'] = (1, cos_similarities[f'{n_sorted[0]}-{n_sorted[1]}'])\n",
    "\n",
    "X = [el[1] for el in ds_dict.values()]\n",
    "y = [el[0] for el in ds_dict.values()]\n",
    "data = pd.DataFrame({'X': X, 'y': y})\n",
    "\n",
    "majority_class = data[data['y'] == 0]\n",
    "minority_class = data[data['y'] == 1]\n",
    "\n",
    "majority_undersampled = resample(majority_class,\n",
    "                                 replace=False,\n",
    "                                 n_samples=len(minority_class),\n",
    "                                 random_state=42)\n",
    "\n",
    "balanced_data = pd.concat([majority_undersampled, minority_class])\n",
    "balanced_X = np.array(balanced_data['X'].tolist())\n",
    "balanced_y = np.array(balanced_data['y'])\n",
    "\n",
    "model_lr.fit(X_train.reshape(-1, 1), y_train)\n",
    "predictions = model_lr.predict(X_test.reshape(-1, 1))\n",
    "print('Accuracy', accuracy_score(y_test, predictions))\n",
    "print('Recall', recall_score(y_test, predictions))\n",
    "print('F1-score', f1_score(y_test, predictions))\n",
    "print(\"Classification metrics:\")\n",
    "print(classification_report(y_test, predictions))"
   ]
  },
  {
   "cell_type": "markdown",
   "id": "78baaf99cd83d246",
   "metadata": {},
   "source": [
    "##### Conclusion for this experiment: The metrics showed that this approach is not accurate enough."
   ]
  },
  {
   "cell_type": "code",
   "execution_count": 16,
   "id": "0822c7be",
   "metadata": {},
   "outputs": [
    {
     "data": {
      "application/vnd.jupyter.widget-view+json": {
       "model_id": "2813ddaed47940eeaa2fcdd1e5d905d5",
       "version_major": 2,
       "version_minor": 0
      },
      "text/plain": [
       "Computing transition probabilities:   0%|          | 0/222 [00:00<?, ?it/s]"
      ]
     },
     "metadata": {},
     "output_type": "display_data"
    },
    {
     "name": "stdout",
     "output_type": "stream",
     "text": [
      "Processing graph for date: 2023-07-31\n"
     ]
    },
    {
     "data": {
      "application/vnd.jupyter.widget-view+json": {
       "model_id": "8d1e66b5fb7041c3bef6d6421676114e",
       "version_major": 2,
       "version_minor": 0
      },
      "text/plain": [
       "Computing transition probabilities:   0%|          | 0/222 [00:00<?, ?it/s]"
      ]
     },
     "metadata": {},
     "output_type": "display_data"
    },
    {
     "name": "stdout",
     "output_type": "stream",
     "text": [
      "Processing graph for date: 2023-08-31\n"
     ]
    },
    {
     "data": {
      "application/vnd.jupyter.widget-view+json": {
       "model_id": "168e864d0c0a445d95b7c5622dc5d3ee",
       "version_major": 2,
       "version_minor": 0
      },
      "text/plain": [
       "Computing transition probabilities:   0%|          | 0/222 [00:00<?, ?it/s]"
      ]
     },
     "metadata": {},
     "output_type": "display_data"
    },
    {
     "name": "stdout",
     "output_type": "stream",
     "text": [
      "Processing graph for date: 2023-09-30\n"
     ]
    },
    {
     "data": {
      "application/vnd.jupyter.widget-view+json": {
       "model_id": "f0ae1e8bef404a8f82dcd4451aa952fc",
       "version_major": 2,
       "version_minor": 0
      },
      "text/plain": [
       "Computing transition probabilities:   0%|          | 0/222 [00:00<?, ?it/s]"
      ]
     },
     "metadata": {},
     "output_type": "display_data"
    },
    {
     "name": "stdout",
     "output_type": "stream",
     "text": [
      "Processing graph for date: 2023-10-31\n"
     ]
    },
    {
     "data": {
      "application/vnd.jupyter.widget-view+json": {
       "model_id": "e49944511997411486d75e06c13779f7",
       "version_major": 2,
       "version_minor": 0
      },
      "text/plain": [
       "Computing transition probabilities:   0%|          | 0/222 [00:00<?, ?it/s]"
      ]
     },
     "metadata": {},
     "output_type": "display_data"
    },
    {
     "name": "stdout",
     "output_type": "stream",
     "text": [
      "Processing graph for date: 2023-11-30\n"
     ]
    },
    {
     "data": {
      "application/vnd.jupyter.widget-view+json": {
       "model_id": "004b082c91c94d949d5db0afd121e914",
       "version_major": 2,
       "version_minor": 0
      },
      "text/plain": [
       "Computing transition probabilities:   0%|          | 0/222 [00:00<?, ?it/s]"
      ]
     },
     "metadata": {},
     "output_type": "display_data"
    },
    {
     "name": "stdout",
     "output_type": "stream",
     "text": [
      "Processing graph for date: 2024-09-30\n"
     ]
    },
    {
     "data": {
      "application/vnd.jupyter.widget-view+json": {
       "model_id": "502bc81a487a4260ac3012c081796cf6",
       "version_major": 2,
       "version_minor": 0
      },
      "text/plain": [
       "Computing transition probabilities:   0%|          | 0/222 [00:00<?, ?it/s]"
      ]
     },
     "metadata": {},
     "output_type": "display_data"
    },
    {
     "name": "stdout",
     "output_type": "stream",
     "text": [
      "Processing graph for date: 2024-10-31\n"
     ]
    },
    {
     "data": {
      "application/vnd.jupyter.widget-view+json": {
       "model_id": "dbc47e38fc2047a09bab6246dd371b70",
       "version_major": 2,
       "version_minor": 0
      },
      "text/plain": [
       "Computing transition probabilities:   0%|          | 0/222 [00:00<?, ?it/s]"
      ]
     },
     "metadata": {},
     "output_type": "display_data"
    },
    {
     "name": "stdout",
     "output_type": "stream",
     "text": [
      "Processing graph for date: 2024-11-30\n"
     ]
    },
    {
     "data": {
      "application/vnd.jupyter.widget-view+json": {
       "model_id": "ea49b82c29d6486ebf7e47e3c193bd4a",
       "version_major": 2,
       "version_minor": 0
      },
      "text/plain": [
       "Computing transition probabilities:   0%|          | 0/222 [00:00<?, ?it/s]"
      ]
     },
     "metadata": {},
     "output_type": "display_data"
    },
    {
     "name": "stdout",
     "output_type": "stream",
     "text": [
      "Processing graph for date: 2024-12-31\n"
     ]
    },
    {
     "data": {
      "application/vnd.jupyter.widget-view+json": {
       "model_id": "4567634ada0e47ae85e92309d2af4e13",
       "version_major": 2,
       "version_minor": 0
      },
      "text/plain": [
       "Computing transition probabilities:   0%|          | 0/222 [00:00<?, ?it/s]"
      ]
     },
     "metadata": {},
     "output_type": "display_data"
    },
    {
     "name": "stdout",
     "output_type": "stream",
     "text": [
      "Processing graph for date: 2025-01-31\n"
     ]
    },
    {
     "data": {
      "text/plain": [
       "([[<node2vec.node2vec.Node2Vec at 0x15598df6dd0>,\n",
       "   <node2vec.node2vec.Node2Vec at 0x1559f4eb400>,\n",
       "   <node2vec.node2vec.Node2Vec at 0x1559f536f80>,\n",
       "   <node2vec.node2vec.Node2Vec at 0x1559f501c30>],\n",
       "  [<node2vec.node2vec.Node2Vec at 0x1559a798520>,\n",
       "   <node2vec.node2vec.Node2Vec at 0x1559f52b730>,\n",
       "   <node2vec.node2vec.Node2Vec at 0x1559f556ec0>,\n",
       "   <node2vec.node2vec.Node2Vec at 0x1559f5036d0>]],\n",
       " [[<gensim.models.word2vec.Word2Vec at 0x1559f4eaf80>,\n",
       "   <gensim.models.word2vec.Word2Vec at 0x1559ae64a00>,\n",
       "   <gensim.models.word2vec.Word2Vec at 0x1559f501ba0>,\n",
       "   <gensim.models.word2vec.Word2Vec at 0x1559f4eb3d0>],\n",
       "  [<gensim.models.word2vec.Word2Vec at 0x1559f52b490>,\n",
       "   <gensim.models.word2vec.Word2Vec at 0x1559f556740>,\n",
       "   <gensim.models.word2vec.Word2Vec at 0x1559f503490>,\n",
       "   <gensim.models.word2vec.Word2Vec at 0x1559a7b6ce0>]])"
      ]
     },
     "execution_count": 16,
     "metadata": {},
     "output_type": "execute_result"
    }
   ],
   "source": [
    "graph_model_data = utils.create_train_test_objects(\n",
    "    prefix = 'israel_palestine',\n",
    "    num_walks = 5,\n",
    "    walk_length = 20,\n",
    "    dimensions = 64\n",
    ")\n",
    "\n",
    "target_graphs = []\n",
    "target_graphs.append(graph_model_data['2023-11-30']['graph'])\n",
    "target_graphs.append(graph_model_data['2025-01-31']['graph'])\n",
    "len(target_graphs[1].edges)\n",
    "nv_models = []\n",
    "wv_models = []\n",
    "# Extract models from the first 4 months in graph_model_data\n",
    "keys = list(graph_model_data.keys())[:4]\n",
    "nv_models_list = []\n",
    "wv_models_list = []\n",
    "for key in keys:\n",
    "    nv_models_list.append(graph_model_data[key]['node2vec'])\n",
    "    wv_models_list.append(graph_model_data[key]['word2vec'])\n",
    "    \n",
    "nv_models.append(nv_models_list)\n",
    "wv_models.append(wv_models_list)\n",
    "\n",
    "keys = list(graph_model_data.keys())[5:9]\n",
    "nv_models_list = []\n",
    "wv_models_list = []\n",
    "for key in keys:\n",
    "    nv_models_list.append(graph_model_data[key]['node2vec'])\n",
    "    wv_models_list.append(graph_model_data[key]['word2vec'])\n",
    "nv_models.append(nv_models_list)\n",
    "wv_models.append(wv_models_list)\n",
    "nv_models, wv_models\n",
    "\n"
   ]
  },
  {
   "cell_type": "code",
   "execution_count": 22,
   "id": "3f3e4f75",
   "metadata": {},
   "outputs": [
    {
     "name": "stdout",
     "output_type": "stream",
     "text": [
      "Majority class size: 22967,\n",
      "Minority class size: 1564\n",
      "Majority class size: 23141,\n",
      "Minority class size: 1390\n"
     ]
    }
   ],
   "source": [
    "results = utils.summary_evaluation_for_month_groups_ex_4(\n",
    "    model = model_lr,\n",
    "    target_graphs = target_graphs,\n",
    "    wv_models = wv_models\n",
    ")"
   ]
  },
  {
   "cell_type": "code",
   "execution_count": 23,
   "id": "35549560",
   "metadata": {},
   "outputs": [
    {
     "data": {
      "text/plain": [
       "{'mean_acc': 0.5975339932657455,\n",
       " 'mean_prec': 0.6115020609367241,\n",
       " 'mean_rec': 0.5380029991352187,\n",
       " 'mean_f1': 0.5710862143225091,\n",
       " 'all_metrics': [[0.5997442455242967, 0.5953237410071942],\n",
       "  [0.6033112582781457, 0.6196928635953026],\n",
       "  [0.5824808184143222, 0.4935251798561151],\n",
       "  [0.5927130774235524, 0.5494593512214657]]}"
      ]
     },
     "execution_count": 23,
     "metadata": {},
     "output_type": "execute_result"
    }
   ],
   "source": [
    "results"
   ]
  },
  {
   "cell_type": "markdown",
   "id": "4abb6f257bfa7ef1",
   "metadata": {},
   "source": [
    "# Experiment 5: Random Forest Classifier"
   ]
  },
  {
   "cell_type": "code",
   "execution_count": 10,
   "id": "a18af675db917840",
   "metadata": {
    "ExecuteTime": {
     "end_time": "2025-05-18T14:22:23.334600Z",
     "start_time": "2025-05-18T14:21:50.542502Z"
    }
   },
   "outputs": [
    {
     "data": {
      "application/vnd.jupyter.widget-view+json": {
       "model_id": "1260283a37ea42b7acbb711070a1518b",
       "version_major": 2,
       "version_minor": 0
      },
      "text/plain": [
       "Computing transition probabilities:   0%|          | 0/222 [00:00<?, ?it/s]"
      ]
     },
     "metadata": {},
     "output_type": "display_data"
    },
    {
     "name": "stderr",
     "output_type": "stream",
     "text": [
      "Generating walks (CPU: 1): 100%|██████████| 5/5 [00:00<00:00, 91.19it/s]\n"
     ]
    },
    {
     "data": {
      "application/vnd.jupyter.widget-view+json": {
       "model_id": "ad94edb8c3a2496db027618aa8308bf3",
       "version_major": 2,
       "version_minor": 0
      },
      "text/plain": [
       "Computing transition probabilities:   0%|          | 0/222 [00:00<?, ?it/s]"
      ]
     },
     "metadata": {},
     "output_type": "display_data"
    },
    {
     "name": "stderr",
     "output_type": "stream",
     "text": [
      "Generating walks (CPU: 1): 100%|██████████| 5/5 [00:00<00:00, 30.31it/s]\n"
     ]
    },
    {
     "data": {
      "application/vnd.jupyter.widget-view+json": {
       "model_id": "053b0902508b4b9baa8fad20af5ae271",
       "version_major": 2,
       "version_minor": 0
      },
      "text/plain": [
       "Computing transition probabilities:   0%|          | 0/222 [00:00<?, ?it/s]"
      ]
     },
     "metadata": {},
     "output_type": "display_data"
    },
    {
     "name": "stderr",
     "output_type": "stream",
     "text": [
      "Generating walks (CPU: 1): 100%|██████████| 5/5 [00:00<00:00, 13.51it/s]\n"
     ]
    },
    {
     "data": {
      "application/vnd.jupyter.widget-view+json": {
       "model_id": "9ed6b858e73b4352bdbc68cee77b28d1",
       "version_major": 2,
       "version_minor": 0
      },
      "text/plain": [
       "Computing transition probabilities:   0%|          | 0/222 [00:00<?, ?it/s]"
      ]
     },
     "metadata": {},
     "output_type": "display_data"
    },
    {
     "name": "stderr",
     "output_type": "stream",
     "text": [
      "Generating walks (CPU: 1): 100%|██████████| 5/5 [00:00<00:00, 30.29it/s]\n"
     ]
    }
   ],
   "source": [
    "months = ['graph_2015-01-31', 'graph_2015-02-28', 'graph_2015-03-31', 'graph_2015-04-30']\n",
    "graphs = load_graphs(months)\n",
    "j_nv, f_nv, m_nv, a_nv, j_model, f_model, m_model, a_model = create_nv_models(graphs, 5, 5)\n",
    "n_vecs = [j_nv, f_nv, m_nv, a_nv]\n",
    "nv_models = [j_model, f_model, m_model, a_model]"
   ]
  },
  {
   "cell_type": "code",
   "execution_count": 11,
   "id": "9b89d45d3967daaa",
   "metadata": {
    "ExecuteTime": {
     "end_time": "2025-05-18T14:22:33.593515Z",
     "start_time": "2025-05-18T14:22:33.192921Z"
    }
   },
   "outputs": [],
   "source": [
    "avg_vectors = dict()\n",
    "for node in graphs[3].nodes:\n",
    "    avg_vector = []\n",
    "    for i in range(64):\n",
    "        avg_vector.append((j_model.wv[node][i] + f_model.wv[node][i] + m_model.wv[node][i] + a_model.wv[node][i]) / 4)\n",
    "    avg_vectors[node] = avg_vector"
   ]
  },
  {
   "cell_type": "code",
   "execution_count": 12,
   "id": "f5a7e28cc26ed166",
   "metadata": {
    "ExecuteTime": {
     "end_time": "2025-05-18T14:22:44.219104Z",
     "start_time": "2025-05-18T14:22:42.357933Z"
    }
   },
   "outputs": [],
   "source": [
    "with open(f'../../data/graphs/graph_2015-05-31.pkl', 'rb') as f:\n",
    "    target_graph = pickle.load(f)\n",
    "nodes = target_graph.nodes\n",
    "ds_dict = dict()  # dataset dictionary \n",
    "for node1 in nodes:\n",
    "    for node2 in nodes:\n",
    "        if node1 != node2:\n",
    "            n_sorted = sorted([node1, node2])\n",
    "            ds_dict[f'{n_sorted[0]}-{n_sorted[1]}'] = (0, np.concatenate([avg_vectors[n_sorted[0]], avg_vectors[n_sorted[1]]]))\n",
    "for el in target_graph.edges(data=True):\n",
    "    if el[2]['weight'] >= 0:\n",
    "        node1 = el[0]\n",
    "        node2 = el[1]\n",
    "        n_sorted = sorted([node1, node2])\n",
    "        ds_dict[f'{n_sorted[0]}-{n_sorted[1]}'] = (1, np.concatenate([avg_vectors[n_sorted[0]], avg_vectors[n_sorted[1]]]))\n"
   ]
  },
  {
   "cell_type": "code",
   "execution_count": 13,
   "id": "4cc1b305e090ebee",
   "metadata": {
    "ExecuteTime": {
     "end_time": "2025-05-18T14:23:00.834761Z",
     "start_time": "2025-05-18T14:22:49.391813Z"
    }
   },
   "outputs": [
    {
     "name": "stdout",
     "output_type": "stream",
     "text": [
      "Accuracy 0.7765862377122431\n",
      "Recall 0.7650375939849624\n",
      "F1-score 0.7650375939849624\n",
      "Classification metrics:\n",
      "              precision    recall  f1-score   support\n",
      "\n",
      "           0       0.79      0.79      0.79       587\n",
      "           1       0.77      0.77      0.77       532\n",
      "\n",
      "    accuracy                           0.78      1119\n",
      "   macro avg       0.78      0.78      0.78      1119\n",
      "weighted avg       0.78      0.78      0.78      1119\n",
      "\n"
     ]
    }
   ],
   "source": [
    "X = [el[1] for el in ds_dict.values()]\n",
    "y = [el[0] for el in ds_dict.values()]\n",
    "data = pd.DataFrame({'X': X, 'y': y})\n",
    "\n",
    "majority_class = data[data['y'] == 0]\n",
    "minority_class = data[data['y'] == 1]\n",
    "\n",
    "majority_undersampled = resample(majority_class,\n",
    "                                 replace=False,\n",
    "                                 n_samples=len(minority_class),\n",
    "                                 random_state=42)\n",
    "\n",
    "balanced_data = pd.concat([majority_undersampled, minority_class])\n",
    "balanced_X = np.array(balanced_data['X'].tolist())\n",
    "balanced_y = np.array(balanced_data['y'])\n",
    "X_train, X_test, y_train, y_test = train_test_split(balanced_X, balanced_y, test_size=0.3, random_state=42)\n",
    "clf = RandomForestClassifier(n_estimators=100, random_state=42)\n",
    "clf.fit(X_train, y_train)\n",
    "predictions = clf.predict(X_test)\n",
    "print('Accuracy', accuracy_score(y_test, predictions))\n",
    "print('Recall', recall_score(y_test, predictions))\n",
    "print('F1-score', f1_score(y_test, predictions))\n",
    "print(\"Classification metrics:\")\n",
    "print(classification_report(y_test, predictions))"
   ]
  },
  {
   "cell_type": "markdown",
   "id": "e5535bc1c9af7398",
   "metadata": {},
   "source": [
    "## Average performance on newer months"
   ]
  },
  {
   "cell_type": "code",
   "execution_count": 8,
   "id": "c753f2b21c7661cb",
   "metadata": {
    "ExecuteTime": {
     "end_time": "2025-05-18T14:17:43.050493Z",
     "start_time": "2025-05-18T14:14:13.837097Z"
    }
   },
   "outputs": [
    {
     "data": {
      "application/vnd.jupyter.widget-view+json": {
       "model_id": "e21134da220c441a850c72ed6600b08f",
       "version_major": 2,
       "version_minor": 0
      },
      "text/plain": [
       "Computing transition probabilities:   0%|          | 0/222 [00:00<?, ?it/s]"
      ]
     },
     "metadata": {},
     "output_type": "display_data"
    },
    {
     "name": "stdout",
     "output_type": "stream",
     "text": [
      "Processing graph for date: 2023-07-31\n"
     ]
    },
    {
     "data": {
      "application/vnd.jupyter.widget-view+json": {
       "model_id": "3ca47926bc8a4ac1ab38e41ffb2306ea",
       "version_major": 2,
       "version_minor": 0
      },
      "text/plain": [
       "Computing transition probabilities:   0%|          | 0/222 [00:00<?, ?it/s]"
      ]
     },
     "metadata": {},
     "output_type": "display_data"
    },
    {
     "name": "stdout",
     "output_type": "stream",
     "text": [
      "Processing graph for date: 2023-08-31\n"
     ]
    },
    {
     "data": {
      "application/vnd.jupyter.widget-view+json": {
       "model_id": "a07d2d0b5bfb4ed590e9986c39d2c7a6",
       "version_major": 2,
       "version_minor": 0
      },
      "text/plain": [
       "Computing transition probabilities:   0%|          | 0/222 [00:00<?, ?it/s]"
      ]
     },
     "metadata": {},
     "output_type": "display_data"
    },
    {
     "name": "stdout",
     "output_type": "stream",
     "text": [
      "Processing graph for date: 2023-09-30\n"
     ]
    },
    {
     "data": {
      "application/vnd.jupyter.widget-view+json": {
       "model_id": "5bedb31a5b3149a3b21432f1b0ad6499",
       "version_major": 2,
       "version_minor": 0
      },
      "text/plain": [
       "Computing transition probabilities:   0%|          | 0/222 [00:00<?, ?it/s]"
      ]
     },
     "metadata": {},
     "output_type": "display_data"
    },
    {
     "name": "stdout",
     "output_type": "stream",
     "text": [
      "Processing graph for date: 2023-10-31\n"
     ]
    },
    {
     "data": {
      "application/vnd.jupyter.widget-view+json": {
       "model_id": "177b15de2a6a4eb1a4ad87230fd8d926",
       "version_major": 2,
       "version_minor": 0
      },
      "text/plain": [
       "Computing transition probabilities:   0%|          | 0/222 [00:00<?, ?it/s]"
      ]
     },
     "metadata": {},
     "output_type": "display_data"
    },
    {
     "name": "stdout",
     "output_type": "stream",
     "text": [
      "Processing graph for date: 2023-11-30\n"
     ]
    },
    {
     "data": {
      "application/vnd.jupyter.widget-view+json": {
       "model_id": "efef552995e24c2da154fea1c2a9ddd0",
       "version_major": 2,
       "version_minor": 0
      },
      "text/plain": [
       "Computing transition probabilities:   0%|          | 0/222 [00:00<?, ?it/s]"
      ]
     },
     "metadata": {},
     "output_type": "display_data"
    },
    {
     "name": "stdout",
     "output_type": "stream",
     "text": [
      "Processing graph for date: 2024-09-30\n"
     ]
    },
    {
     "data": {
      "application/vnd.jupyter.widget-view+json": {
       "model_id": "9a7ab06f413a4e358ad61f96c6930343",
       "version_major": 2,
       "version_minor": 0
      },
      "text/plain": [
       "Computing transition probabilities:   0%|          | 0/222 [00:00<?, ?it/s]"
      ]
     },
     "metadata": {},
     "output_type": "display_data"
    },
    {
     "name": "stdout",
     "output_type": "stream",
     "text": [
      "Processing graph for date: 2024-10-31\n"
     ]
    },
    {
     "data": {
      "application/vnd.jupyter.widget-view+json": {
       "model_id": "47d582a9defe4ca99f337dc82f651703",
       "version_major": 2,
       "version_minor": 0
      },
      "text/plain": [
       "Computing transition probabilities:   0%|          | 0/222 [00:00<?, ?it/s]"
      ]
     },
     "metadata": {},
     "output_type": "display_data"
    },
    {
     "name": "stdout",
     "output_type": "stream",
     "text": [
      "Processing graph for date: 2024-11-30\n"
     ]
    },
    {
     "data": {
      "application/vnd.jupyter.widget-view+json": {
       "model_id": "80c5a15d5499420092e5395c77ab1ac6",
       "version_major": 2,
       "version_minor": 0
      },
      "text/plain": [
       "Computing transition probabilities:   0%|          | 0/222 [00:00<?, ?it/s]"
      ]
     },
     "metadata": {},
     "output_type": "display_data"
    },
    {
     "name": "stdout",
     "output_type": "stream",
     "text": [
      "Processing graph for date: 2024-12-31\n"
     ]
    },
    {
     "data": {
      "application/vnd.jupyter.widget-view+json": {
       "model_id": "98b4cf56c6714510b5d6765130b89114",
       "version_major": 2,
       "version_minor": 0
      },
      "text/plain": [
       "Computing transition probabilities:   0%|          | 0/222 [00:00<?, ?it/s]"
      ]
     },
     "metadata": {},
     "output_type": "display_data"
    },
    {
     "name": "stdout",
     "output_type": "stream",
     "text": [
      "Processing graph for date: 2025-01-31\n"
     ]
    }
   ],
   "source": [
    "graph_model_data = utils.create_train_test_objects('israel_palestine', num_walks=30, walk_length=100, dimensions=64)"
   ]
  },
  {
   "cell_type": "code",
   "execution_count": 14,
   "id": "13baa398959799c6",
   "metadata": {
    "ExecuteTime": {
     "end_time": "2025-05-18T14:23:48.778612Z",
     "start_time": "2025-05-18T14:23:35.747686Z"
    }
   },
   "outputs": [
    {
     "data": {
      "text/plain": [
       "{'mean_acc': 0.542344155366244,\n",
       " 'mean_prec': 0.5240545270766404,\n",
       " 'mean_rec': 0.9290626322471435,\n",
       " 'mean_f1': 0.6700722876578087,\n",
       " 'all_metrics': [[0.524616368286445, 0.5600719424460432],\n",
       "  [0.5136476426799007, 0.5344614114733801],\n",
       "  [0.9264705882352942, 0.9316546762589928],\n",
       "  [0.6608893956670467, 0.6792551796485706]]}"
      ]
     },
     "execution_count": 14,
     "metadata": {},
     "output_type": "execute_result"
    }
   ],
   "source": [
    "target_graphs = []\n",
    "target_graphs.append(graph_model_data['2023-11-30']['graph'])\n",
    "target_graphs.append(graph_model_data['2025-01-31']['graph'])\n",
    "\n",
    "nv_models = []\n",
    "keys = list(graph_model_data.keys())[:4]\n",
    "models_list = []\n",
    "for key in keys:\n",
    "    models_list.append(graph_model_data[key]['word2vec'])\n",
    "nv_models.append(models_list)\n",
    "\n",
    "keys = list(graph_model_data.keys())[5:9]\n",
    "models_list = []\n",
    "for key in keys:\n",
    "    models_list.append(graph_model_data[key]['word2vec'])\n",
    "nv_models.append(models_list)\n",
    "\n",
    "utils.summary_evaluation_for_month_groups_ex_5(\n",
    "    model=clf,\n",
    "    target_graphs=target_graphs,\n",
    "    nv_models=nv_models\n",
    ")"
   ]
  },
  {
   "cell_type": "markdown",
   "id": "f10a92e31ffbc3bc",
   "metadata": {},
   "source": [
    "### Test1 with other months"
   ]
  },
  {
   "cell_type": "code",
   "execution_count": 15,
   "id": "85b415a7f478373c",
   "metadata": {
    "ExecuteTime": {
     "end_time": "2025-05-18T14:30:59.670948Z",
     "start_time": "2025-05-18T14:30:22.598805Z"
    }
   },
   "outputs": [
    {
     "data": {
      "application/vnd.jupyter.widget-view+json": {
       "model_id": "cbfe88ef669949598d986fb5c91ba2b7",
       "version_major": 2,
       "version_minor": 0
      },
      "text/plain": [
       "Computing transition probabilities:   0%|          | 0/222 [00:00<?, ?it/s]"
      ]
     },
     "metadata": {},
     "output_type": "display_data"
    },
    {
     "name": "stderr",
     "output_type": "stream",
     "text": [
      "Generating walks (CPU: 1): 100%|██████████| 5/5 [00:00<00:00, 56.67it/s]\n"
     ]
    },
    {
     "data": {
      "application/vnd.jupyter.widget-view+json": {
       "model_id": "b188e113e7ca4f96a5fbf306d323a945",
       "version_major": 2,
       "version_minor": 0
      },
      "text/plain": [
       "Computing transition probabilities:   0%|          | 0/222 [00:00<?, ?it/s]"
      ]
     },
     "metadata": {},
     "output_type": "display_data"
    },
    {
     "name": "stderr",
     "output_type": "stream",
     "text": [
      "Generating walks (CPU: 1): 100%|██████████| 5/5 [00:00<00:00, 41.73it/s]\n"
     ]
    },
    {
     "data": {
      "application/vnd.jupyter.widget-view+json": {
       "model_id": "ef0de73117574998b7c14c2e517de33a",
       "version_major": 2,
       "version_minor": 0
      },
      "text/plain": [
       "Computing transition probabilities:   0%|          | 0/222 [00:00<?, ?it/s]"
      ]
     },
     "metadata": {},
     "output_type": "display_data"
    },
    {
     "name": "stderr",
     "output_type": "stream",
     "text": [
      "Generating walks (CPU: 1): 100%|██████████| 5/5 [00:00<00:00, 40.25it/s]\n"
     ]
    },
    {
     "data": {
      "application/vnd.jupyter.widget-view+json": {
       "model_id": "108e4473273a4be5bb6516dbd685336c",
       "version_major": 2,
       "version_minor": 0
      },
      "text/plain": [
       "Computing transition probabilities:   0%|          | 0/222 [00:00<?, ?it/s]"
      ]
     },
     "metadata": {},
     "output_type": "display_data"
    },
    {
     "name": "stderr",
     "output_type": "stream",
     "text": [
      "Generating walks (CPU: 1): 100%|██████████| 5/5 [00:00<00:00, 81.08it/s]\n"
     ]
    },
    {
     "name": "stdout",
     "output_type": "stream",
     "text": [
      "Accuracy 0.7101983002832861\n",
      "Recall 0.9637393767705382\n",
      "F1-score 0.7688135593220339\n",
      "Classification metrics:\n",
      "              precision    recall  f1-score   support\n",
      "\n",
      "           0       0.93      0.46      0.61      1765\n",
      "           1       0.64      0.96      0.77      1765\n",
      "\n",
      "    accuracy                           0.71      3530\n",
      "   macro avg       0.78      0.71      0.69      3530\n",
      "weighted avg       0.78      0.71      0.69      3530\n",
      "\n"
     ]
    }
   ],
   "source": [
    "months = ['graph_2018-03-31', 'graph_2018-04-30', 'graph_2018-05-31', 'graph_2018-06-30']\n",
    "graphs = load_graphs(months)\n",
    "j_nv, f_nv, m_nv, a_nv, j_model, f_model, m_model, a_model = create_nv_models(graphs, 5, 5)\n",
    "n_vecs = [j_nv, f_nv, m_nv, a_nv]\n",
    "nv_models = [j_model, f_model, m_model, a_model]\n",
    "avg_vectors = dict()\n",
    "for node in graphs[3].nodes:\n",
    "    avg_vector = []\n",
    "    for i in range(64):\n",
    "        avg_vector.append((j_model.wv[node][i] + f_model.wv[node][i] + m_model.wv[node][i] + a_model.wv[node][i]) / 4)\n",
    "    avg_vectors[node] = avg_vector\n",
    "with open(f'../../data/graphs/graph_2018-07-31.pkl', 'rb') as f:\n",
    "    target_graph = pickle.load(f)\n",
    "nodes = target_graph.nodes\n",
    "ds_dict = dict()  # dataset dictionary \n",
    "for node1 in nodes:\n",
    "    for node2 in nodes:\n",
    "        if node1 != node2:\n",
    "            n_sorted = sorted([node1, node2])\n",
    "            ds_dict[f'{n_sorted[0]}-{n_sorted[1]}'] = (\n",
    "            0, np.concatenate([avg_vectors[n_sorted[0]], avg_vectors[n_sorted[1]]]))\n",
    "for el in target_graph.edges(data=True):\n",
    "    if el[2]['weight'] >= 0:\n",
    "        node1 = el[0]\n",
    "        node2 = el[1]\n",
    "        n_sorted = sorted([node1, node2])\n",
    "        ds_dict[f'{n_sorted[0]}-{n_sorted[1]}'] = (\n",
    "        1, np.concatenate([avg_vectors[n_sorted[0]], avg_vectors[n_sorted[1]]]))\n",
    "\n",
    "X = [el[1] for el in ds_dict.values()]\n",
    "y = [el[0] for el in ds_dict.values()]\n",
    "data = pd.DataFrame({'X': X, 'y': y})\n",
    "\n",
    "majority_class = data[data['y'] == 0]\n",
    "minority_class = data[data['y'] == 1]\n",
    "\n",
    "majority_undersampled = resample(majority_class,\n",
    "                                 replace=False,\n",
    "                                 n_samples=len(minority_class),\n",
    "                                 random_state=42)\n",
    "\n",
    "balanced_data = pd.concat([majority_undersampled, minority_class])\n",
    "balanced_X = np.array(balanced_data['X'].tolist())\n",
    "balanced_y = np.array(balanced_data['y'])\n",
    "\n",
    "\n",
    "predictions = clf.predict(balanced_X)\n",
    "print('Accuracy', accuracy_score(balanced_y, predictions))\n",
    "print('Recall', recall_score(balanced_y, predictions))\n",
    "print('F1-score', f1_score(balanced_y, predictions))\n",
    "print(\"Classification metrics:\")\n",
    "print(classification_report(balanced_y, predictions))"
   ]
  },
  {
   "cell_type": "markdown",
   "id": "b09bedaa4847f630",
   "metadata": {},
   "source": [
    "### Test2 with other months"
   ]
  },
  {
   "cell_type": "code",
   "execution_count": 243,
   "id": "762ab8639cac4fb4",
   "metadata": {
    "ExecuteTime": {
     "end_time": "2024-09-18T18:21:00.727286Z",
     "start_time": "2024-09-18T18:20:35.949558Z"
    }
   },
   "outputs": [
    {
     "data": {
      "application/vnd.jupyter.widget-view+json": {
       "model_id": "9df08f6a848b4f559746e426d70b8b37",
       "version_major": 2,
       "version_minor": 0
      },
      "text/plain": [
       "Computing transition probabilities:   0%|          | 0/222 [00:00<?, ?it/s]"
      ]
     },
     "metadata": {},
     "output_type": "display_data"
    },
    {
     "name": "stderr",
     "output_type": "stream",
     "text": [
      "Generating walks (CPU: 1): 100%|██████████| 5/5 [00:00<00:00, 45.05it/s]\n"
     ]
    },
    {
     "data": {
      "application/vnd.jupyter.widget-view+json": {
       "model_id": "f439f68db45644b2a8049e58e763e8c6",
       "version_major": 2,
       "version_minor": 0
      },
      "text/plain": [
       "Computing transition probabilities:   0%|          | 0/222 [00:00<?, ?it/s]"
      ]
     },
     "metadata": {},
     "output_type": "display_data"
    },
    {
     "name": "stderr",
     "output_type": "stream",
     "text": [
      "Generating walks (CPU: 1): 100%|██████████| 5/5 [00:00<00:00, 50.87it/s]\n"
     ]
    },
    {
     "data": {
      "application/vnd.jupyter.widget-view+json": {
       "model_id": "dffbab8ee2514658907d065e3fb2249d",
       "version_major": 2,
       "version_minor": 0
      },
      "text/plain": [
       "Computing transition probabilities:   0%|          | 0/222 [00:00<?, ?it/s]"
      ]
     },
     "metadata": {},
     "output_type": "display_data"
    },
    {
     "name": "stderr",
     "output_type": "stream",
     "text": [
      "Generating walks (CPU: 1): 100%|██████████| 5/5 [00:00<00:00, 48.08it/s]\n"
     ]
    },
    {
     "data": {
      "application/vnd.jupyter.widget-view+json": {
       "model_id": "604f8b8bb07845cfb84b12ee12c3ea95",
       "version_major": 2,
       "version_minor": 0
      },
      "text/plain": [
       "Computing transition probabilities:   0%|          | 0/222 [00:00<?, ?it/s]"
      ]
     },
     "metadata": {},
     "output_type": "display_data"
    },
    {
     "name": "stderr",
     "output_type": "stream",
     "text": [
      "Generating walks (CPU: 1): 100%|██████████| 5/5 [00:00<00:00, 31.45it/s]\n"
     ]
    },
    {
     "name": "stdout",
     "output_type": "stream",
     "text": [
      "Accuracy 0.646685878962536\n",
      "Recall 0.9855907780979827\n",
      "F1-score 0.7361170899698666\n",
      "Classification metrics:\n",
      "              precision    recall  f1-score   support\n",
      "\n",
      "           0       0.96      0.31      0.47      1735\n",
      "           1       0.59      0.99      0.74      1735\n",
      "\n",
      "    accuracy                           0.65      3470\n",
      "   macro avg       0.77      0.65      0.60      3470\n",
      "weighted avg       0.77      0.65      0.60      3470\n",
      "\n"
     ]
    }
   ],
   "source": [
    "months = ['2015-03-31', '2015-04-30', '2015-05-31', '2015-06-30']\n",
    "graphs = load_graphs(months)\n",
    "j_nv, f_nv, m_nv, a_nv, j_model, f_model, m_model, a_model = create_nv_models(graphs, 5, 5)\n",
    "n_vecs = [j_nv, f_nv, m_nv, a_nv]\n",
    "nv_models = [j_model, f_model, m_model, a_model]\n",
    "avg_vectors = dict()\n",
    "for node in graphs[3].nodes:\n",
    "    avg_vector = []\n",
    "    for i in range(64):\n",
    "        avg_vector.append((j_model.wv[node][i] + f_model.wv[node][i] + m_model.wv[node][i] + a_model.wv[node][i]) / 4)\n",
    "    avg_vectors[node] = avg_vector\n",
    "with open(f'../data/graphs/graph_2015-07-31.pkl', 'rb') as f:\n",
    "    target_graph = pickle.load(f)\n",
    "nodes = target_graph.nodes\n",
    "ds_dict = dict()  # dataset dictionary \n",
    "for node1 in nodes:\n",
    "    for node2 in nodes:\n",
    "        if node1 != node2:\n",
    "            n_sorted = sorted([node1, node2])\n",
    "            ds_dict[f'{n_sorted[0]}-{n_sorted[1]}'] = (\n",
    "            0, np.concatenate([avg_vectors[n_sorted[0]], avg_vectors[n_sorted[1]]]))\n",
    "for el in target_graph.edges(data=True):\n",
    "    if el[2]['weight'] >= 0:\n",
    "        node1 = el[0]\n",
    "        node2 = el[1]\n",
    "        n_sorted = sorted([node1, node2])\n",
    "        ds_dict[f'{n_sorted[0]}-{n_sorted[1]}'] = (\n",
    "        1, np.concatenate([avg_vectors[n_sorted[0]], avg_vectors[n_sorted[1]]]))\n",
    "\n",
    "X = [el[1] for el in ds_dict.values()]\n",
    "y = [el[0] for el in ds_dict.values()]\n",
    "data = pd.DataFrame({'X': X, 'y': y})\n",
    "\n",
    "majority_class = data[data['y'] == 0]\n",
    "minority_class = data[data['y'] == 1]\n",
    "\n",
    "majority_undersampled = resample(majority_class,\n",
    "                                 replace=False,\n",
    "                                 n_samples=len(minority_class),\n",
    "                                 random_state=42)\n",
    "\n",
    "balanced_data = pd.concat([majority_undersampled, minority_class])\n",
    "balanced_X = np.array(balanced_data['X'].tolist())\n",
    "balanced_y = np.array(balanced_data['y'])\n",
    "\n",
    "\n",
    "predictions = clf.predict(balanced_X)\n",
    "print('Accuracy', accuracy_score(balanced_y, predictions))\n",
    "print('Recall', recall_score(balanced_y, predictions))\n",
    "print('F1-score', f1_score(balanced_y, predictions))\n",
    "print(\"Classification metrics:\")\n",
    "print(classification_report(balanced_y, predictions))"
   ]
  },
  {
   "cell_type": "markdown",
   "id": "ad1a2f6e782bc61c",
   "metadata": {},
   "source": [
    "##### Conclusion for experiment 5: This method works well with the data of the months the model is trained on, but metrics can drastically drop for other sequences of months, and therefore, this model is not suitable  "
   ]
  },
  {
   "cell_type": "markdown",
   "id": "cd720fbb0a9db773",
   "metadata": {},
   "source": [
    "# Experiment 6: Building an image from the vectors from 4 months for the two countries that we are predicting using CNN"
   ]
  },
  {
   "cell_type": "markdown",
   "id": "7c8a88438d71e41",
   "metadata": {},
   "source": [
    "## Hyperparameter optimization 1"
   ]
  },
  {
   "cell_type": "code",
   "execution_count": 16,
   "id": "bfeec29a8ace48ca",
   "metadata": {
    "ExecuteTime": {
     "end_time": "2025-05-18T14:37:52.977073Z",
     "start_time": "2025-05-18T14:35:15.480741Z"
    }
   },
   "outputs": [
    {
     "data": {
      "application/vnd.jupyter.widget-view+json": {
       "model_id": "fe52eb9a16e54811b333e51aedc63775",
       "version_major": 2,
       "version_minor": 0
      },
      "text/plain": [
       "Computing transition probabilities:   0%|          | 0/222 [00:00<?, ?it/s]"
      ]
     },
     "metadata": {},
     "output_type": "display_data"
    },
    {
     "name": "stderr",
     "output_type": "stream",
     "text": [
      "Generating walks (CPU: 1): 100%|██████████| 5/5 [00:00<00:00, 108.65it/s]\n"
     ]
    },
    {
     "data": {
      "application/vnd.jupyter.widget-view+json": {
       "model_id": "5e530d0790d94bf684eb463b1cc80711",
       "version_major": 2,
       "version_minor": 0
      },
      "text/plain": [
       "Computing transition probabilities:   0%|          | 0/222 [00:00<?, ?it/s]"
      ]
     },
     "metadata": {},
     "output_type": "display_data"
    },
    {
     "name": "stderr",
     "output_type": "stream",
     "text": [
      "Generating walks (CPU: 1): 100%|██████████| 5/5 [00:00<00:00, 49.70it/s]\n"
     ]
    },
    {
     "data": {
      "application/vnd.jupyter.widget-view+json": {
       "model_id": "11f5ae96f69047629f2fa9f9f9088c5d",
       "version_major": 2,
       "version_minor": 0
      },
      "text/plain": [
       "Computing transition probabilities:   0%|          | 0/222 [00:00<?, ?it/s]"
      ]
     },
     "metadata": {},
     "output_type": "display_data"
    },
    {
     "name": "stderr",
     "output_type": "stream",
     "text": [
      "Generating walks (CPU: 1): 100%|██████████| 5/5 [00:00<00:00, 31.56it/s]\n"
     ]
    },
    {
     "data": {
      "application/vnd.jupyter.widget-view+json": {
       "model_id": "d9cc25df3792411bb0eed569d344d79c",
       "version_major": 2,
       "version_minor": 0
      },
      "text/plain": [
       "Computing transition probabilities:   0%|          | 0/222 [00:00<?, ?it/s]"
      ]
     },
     "metadata": {},
     "output_type": "display_data"
    },
    {
     "name": "stderr",
     "output_type": "stream",
     "text": [
      "Generating walks (CPU: 1): 100%|██████████| 5/5 [00:00<00:00, 40.11it/s]\n"
     ]
    },
    {
     "name": "stdout",
     "output_type": "stream",
     "text": [
      "True\n"
     ]
    },
    {
     "name": "stderr",
     "output_type": "stream",
     "text": [
      "C:\\Users\\User\\Desktop\\xai-graphs\\.venv\\lib\\site-packages\\keras\\src\\layers\\convolutional\\base_conv.py:107: UserWarning: Do not pass an `input_shape`/`input_dim` argument to a layer. When using Sequential models, prefer using an `Input(shape)` object as the first layer in the model instead.\n",
      "  super().__init__(activity_regularizer=activity_regularizer, **kwargs)\n"
     ]
    },
    {
     "name": "stdout",
     "output_type": "stream",
     "text": [
      "Epoch 1/20\n",
      "\u001b[1m164/164\u001b[0m \u001b[32m━━━━━━━━━━━━━━━━━━━━\u001b[0m\u001b[37m\u001b[0m \u001b[1m10s\u001b[0m 28ms/step - accuracy: 0.6266 - loss: 17.1148 - val_accuracy: 0.5728 - val_loss: 1.0827\n",
      "Epoch 2/20\n",
      "\u001b[1m164/164\u001b[0m \u001b[32m━━━━━━━━━━━━━━━━━━━━\u001b[0m\u001b[37m\u001b[0m \u001b[1m4s\u001b[0m 24ms/step - accuracy: 0.7358 - loss: 0.5513 - val_accuracy: 0.6944 - val_loss: 0.5967\n",
      "Epoch 3/20\n",
      "\u001b[1m164/164\u001b[0m \u001b[32m━━━━━━━━━━━━━━━━━━━━\u001b[0m\u001b[37m\u001b[0m \u001b[1m4s\u001b[0m 26ms/step - accuracy: 0.7564 - loss: 0.4965 - val_accuracy: 0.7587 - val_loss: 0.4664\n",
      "Epoch 4/20\n",
      "\u001b[1m164/164\u001b[0m \u001b[32m━━━━━━━━━━━━━━━━━━━━\u001b[0m\u001b[37m\u001b[0m \u001b[1m4s\u001b[0m 24ms/step - accuracy: 0.7725 - loss: 0.4896 - val_accuracy: 0.7668 - val_loss: 0.4643\n",
      "Epoch 5/20\n",
      "\u001b[1m164/164\u001b[0m \u001b[32m━━━━━━━━━━━━━━━━━━━━\u001b[0m\u001b[37m\u001b[0m \u001b[1m4s\u001b[0m 25ms/step - accuracy: 0.7591 - loss: 0.4795 - val_accuracy: 0.7417 - val_loss: 0.5594\n",
      "Epoch 6/20\n",
      "\u001b[1m164/164\u001b[0m \u001b[32m━━━━━━━━━━━━━━━━━━━━\u001b[0m\u001b[37m\u001b[0m \u001b[1m4s\u001b[0m 26ms/step - accuracy: 0.7600 - loss: 0.4905 - val_accuracy: 0.7587 - val_loss: 0.4746\n",
      "Epoch 7/20\n",
      "\u001b[1m164/164\u001b[0m \u001b[32m━━━━━━━━━━━━━━━━━━━━\u001b[0m\u001b[37m\u001b[0m \u001b[1m4s\u001b[0m 25ms/step - accuracy: 0.7665 - loss: 0.4884 - val_accuracy: 0.7721 - val_loss: 0.4655\n",
      "Epoch 8/20\n",
      "\u001b[1m164/164\u001b[0m \u001b[32m━━━━━━━━━━━━━━━━━━━━\u001b[0m\u001b[37m\u001b[0m \u001b[1m4s\u001b[0m 25ms/step - accuracy: 0.7851 - loss: 0.4579 - val_accuracy: 0.7551 - val_loss: 0.4750\n",
      "Epoch 9/20\n",
      "\u001b[1m164/164\u001b[0m \u001b[32m━━━━━━━━━━━━━━━━━━━━\u001b[0m\u001b[37m\u001b[0m \u001b[1m4s\u001b[0m 25ms/step - accuracy: 0.7784 - loss: 0.4613 - val_accuracy: 0.7623 - val_loss: 0.4709\n",
      "Epoch 10/20\n",
      "\u001b[1m164/164\u001b[0m \u001b[32m━━━━━━━━━━━━━━━━━━━━\u001b[0m\u001b[37m\u001b[0m \u001b[1m4s\u001b[0m 25ms/step - accuracy: 0.7816 - loss: 0.4750 - val_accuracy: 0.7685 - val_loss: 0.5034\n",
      "Epoch 11/20\n",
      "\u001b[1m164/164\u001b[0m \u001b[32m━━━━━━━━━━━━━━━━━━━━\u001b[0m\u001b[37m\u001b[0m \u001b[1m4s\u001b[0m 26ms/step - accuracy: 0.7690 - loss: 0.4673 - val_accuracy: 0.7587 - val_loss: 0.4876\n",
      "Epoch 12/20\n",
      "\u001b[1m164/164\u001b[0m \u001b[32m━━━━━━━━━━━━━━━━━━━━\u001b[0m\u001b[37m\u001b[0m \u001b[1m4s\u001b[0m 25ms/step - accuracy: 0.7718 - loss: 0.4681 - val_accuracy: 0.7569 - val_loss: 0.4747\n",
      "Epoch 13/20\n",
      "\u001b[1m164/164\u001b[0m \u001b[32m━━━━━━━━━━━━━━━━━━━━\u001b[0m\u001b[37m\u001b[0m \u001b[1m4s\u001b[0m 25ms/step - accuracy: 0.7803 - loss: 0.4617 - val_accuracy: 0.7292 - val_loss: 0.5093\n",
      "Epoch 14/20\n",
      "\u001b[1m164/164\u001b[0m \u001b[32m━━━━━━━━━━━━━━━━━━━━\u001b[0m\u001b[37m\u001b[0m \u001b[1m4s\u001b[0m 26ms/step - accuracy: 0.7945 - loss: 0.4374 - val_accuracy: 0.7793 - val_loss: 0.4891\n",
      "Epoch 15/20\n",
      "\u001b[1m164/164\u001b[0m \u001b[32m━━━━━━━━━━━━━━━━━━━━\u001b[0m\u001b[37m\u001b[0m \u001b[1m4s\u001b[0m 25ms/step - accuracy: 0.7590 - loss: 0.5018 - val_accuracy: 0.7703 - val_loss: 0.4655\n",
      "Epoch 16/20\n",
      "\u001b[1m164/164\u001b[0m \u001b[32m━━━━━━━━━━━━━━━━━━━━\u001b[0m\u001b[37m\u001b[0m \u001b[1m4s\u001b[0m 25ms/step - accuracy: 0.7943 - loss: 0.4394 - val_accuracy: 0.7516 - val_loss: 0.4798\n",
      "Epoch 17/20\n",
      "\u001b[1m164/164\u001b[0m \u001b[32m━━━━━━━━━━━━━━━━━━━━\u001b[0m\u001b[37m\u001b[0m \u001b[1m4s\u001b[0m 26ms/step - accuracy: 0.7582 - loss: 0.4903 - val_accuracy: 0.7730 - val_loss: 0.4886\n",
      "Epoch 18/20\n",
      "\u001b[1m164/164\u001b[0m \u001b[32m━━━━━━━━━━━━━━━━━━━━\u001b[0m\u001b[37m\u001b[0m \u001b[1m4s\u001b[0m 25ms/step - accuracy: 0.7734 - loss: 0.4751 - val_accuracy: 0.7694 - val_loss: 0.4754\n",
      "Epoch 19/20\n",
      "\u001b[1m164/164\u001b[0m \u001b[32m━━━━━━━━━━━━━━━━━━━━\u001b[0m\u001b[37m\u001b[0m \u001b[1m4s\u001b[0m 25ms/step - accuracy: 0.7809 - loss: 0.4480 - val_accuracy: 0.7659 - val_loss: 0.4690\n",
      "Epoch 20/20\n",
      "\u001b[1m164/164\u001b[0m \u001b[32m━━━━━━━━━━━━━━━━━━━━\u001b[0m\u001b[37m\u001b[0m \u001b[1m4s\u001b[0m 25ms/step - accuracy: 0.7878 - loss: 0.4492 - val_accuracy: 0.7569 - val_loss: 0.4880\n",
      "\u001b[1m117/117\u001b[0m \u001b[32m━━━━━━━━━━━━━━━━━━━━\u001b[0m\u001b[37m\u001b[0m \u001b[1m1s\u001b[0m 7ms/step - accuracy: 0.8338 - loss: 0.3616\n",
      "Test Accuracy: 77.15%\n",
      "\u001b[1m117/117\u001b[0m \u001b[32m━━━━━━━━━━━━━━━━━━━━\u001b[0m\u001b[37m\u001b[0m \u001b[1m1s\u001b[0m 8ms/step\n"
     ]
    },
    {
     "data": {
      "image/png": "[encoded data removed]",
      "text/plain": [
       "<Figure size 640x480 with 2 Axes>"
      ]
     },
     "metadata": {},
     "output_type": "display_data"
    },
    {
     "name": "stdout",
     "output_type": "stream",
     "text": [
      "Recall:  0.6791845493562232\n",
      "F1-score:  0.74822695035461\n",
      "Classification metrics:\n",
      "              precision    recall  f1-score   support\n",
      "\n",
      "           0       0.73      0.86      0.79      1864\n",
      "           1       0.83      0.68      0.75      1864\n",
      "\n",
      "    accuracy                           0.77      3728\n",
      "   macro avg       0.78      0.77      0.77      3728\n",
      "weighted avg       0.78      0.77      0.77      3728\n",
      "\n"
     ]
    }
   ],
   "source": [
    "months = ['graph_2015-01-31', 'graph_2015-02-28', 'graph_2015-03-31', 'graph_2015-04-30']\n",
    "graphs = load_graphs(months)\n",
    "j_nv, f_nv, m_nv, a_nv, j_model, f_model, m_model, a_model = create_nv_models(graphs, 5, 5, 16)\n",
    "n_vecs = [j_nv, f_nv, m_nv, a_nv]\n",
    "nv_models = [j_model, f_model, m_model, a_model]\n",
    "images = dict()\n",
    "for node1 in nodes:\n",
    "    for node2 in nodes:\n",
    "        if node1 != node2:\n",
    "            n_sorted = sorted([node1, node2])\n",
    "            key = f'{n_sorted[0]}-{n_sorted[1]}'\n",
    "            ds = pd.DataFrame()\n",
    "            vectors = []\n",
    "            for i in range(len(nv_models)):\n",
    "                vectors.append(nv_models[i].wv[node1])\n",
    "                vectors.append(nv_models[i].wv[node2])\n",
    "            img = np.stack(tuple(vectors), axis=0)\n",
    "            normalized_img = (img + 1) / 2\n",
    "            scaled_img = (normalized_img * 255).astype(np.uint8)\n",
    "            rgb_img = None\n",
    "            if scaled_img.ndim == 2:\n",
    "                rgb_img = np.stack([scaled_img] * 3, axis=-1)\n",
    "            else:\n",
    "                rgb_img = scaled_img\n",
    "            '''if scaled_img.ndim == 2:  # If the image is 2D (grayscale)\n",
    "                rgb_img = np.stack([scaled_img] * 3, axis=-1)  # Convert to RGB by duplicating the grayscale data\n",
    "            elif scaled_img.shape[-1] != 3:  # If the last dimension is not 3 (not already RGB)\n",
    "                rgb_img = np.stack([scaled_img[..., 0]] * 3, axis=-1)  # Expand the last dimension to 3 channels\n",
    "            else:\n",
    "                rgb_img = scaled_img'''\n",
    "            images[key] = rgb_img\n",
    "with open(f'../../data/graphs/graph_2015-05-31.pkl', 'rb') as f:\n",
    "    target_graph = pickle.load(f)\n",
    "nodes = target_graph.nodes\n",
    "ds_dict = dict()\n",
    "for node1 in nodes:\n",
    "    for node2 in nodes:\n",
    "        if node1 != node2:\n",
    "            n_sorted = sorted([node1, node2])\n",
    "            ds_dict[f'{n_sorted[0]}-{n_sorted[1]}'] = 0\n",
    "for el in target_graph.edges(data=True):\n",
    "    if el[2]['weight'] > 0:\n",
    "        node1 = el[0]\n",
    "        node2 = el[1]\n",
    "        n_sorted = sorted([node1, node2])\n",
    "        ds_dict[f'{n_sorted[0]}-{n_sorted[1]}'] = 1\n",
    "all_images = []\n",
    "all_labels = []\n",
    "for key in ds_dict.keys():\n",
    "    all_labels.append(ds_dict[key])\n",
    "    all_images.append(images[key])\n",
    "\n",
    "print(len(all_labels) == len(all_images))\n",
    "\n",
    "all_images = np.array(all_images)\n",
    "all_labels = np.array(all_labels)\n",
    "\n",
    "data = pd.DataFrame({'img': list(all_images), 'target': all_labels})\n",
    "\n",
    "majority_class = data[data['target'] == 0]\n",
    "minority_class = data[data['target'] == 1]\n",
    "\n",
    "majority_undersampled = resample(majority_class,\n",
    "                                 replace=False,\n",
    "                                 n_samples=len(minority_class),\n",
    "                                 random_state=42)\n",
    "\n",
    "balanced_data = pd.concat([majority_undersampled, minority_class])\n",
    "balanced_images = np.array(balanced_data['img'].tolist())\n",
    "balanced_labels = np.array(balanced_data['target'])\n",
    "\n",
    "X_train, X_test, y_train, y_test = train_test_split(balanced_images, balanced_labels, test_size=0.3, random_state=42)\n",
    "model = models.Sequential([\n",
    "    layers.Conv2D(32, (3, 3), padding='same', activation='relu', input_shape=(8, 16, 3)),\n",
    "    # layers.MaxPooling2D((2, 2)),\n",
    "    layers.Conv2D(64, (2, 2), activation='relu'),\n",
    "    # layers.MaxPooling2D((2, 2)),\n",
    "    layers.Conv2D(128, (1, 1), activation='relu'),\n",
    "    layers.Flatten(),\n",
    "    layers.Dense(64, activation='relu'),\n",
    "    # layers.Dropout(0.5),\n",
    "    layers.Dense(2, activation='softmax')\n",
    "])\n",
    "\n",
    "model.compile(optimizer='adam', loss='sparse_categorical_crossentropy', metrics=['accuracy'])\n",
    "history = model.fit(X_train, y_train, epochs=20, batch_size=16, validation_data=(X_test, y_test))\n",
    "\n",
    "test_loss, test_acc = model.evaluate(balanced_images, balanced_labels)\n",
    "\n",
    "print(f\"Test Accuracy: {test_acc * 100:.2f}%\")\n",
    "y_pred_probs = model.predict(balanced_images)\n",
    "y_pred = np.argmax(y_pred_probs, axis=1)\n",
    "\n",
    "cm = confusion_matrix(balanced_labels, y_pred)\n",
    "\n",
    "disp = ConfusionMatrixDisplay(confusion_matrix=cm, display_labels=np.unique(y_test))\n",
    "\n",
    "disp.plot(cmap=plt.cm.Blues)\n",
    "plt.title('Confusion Matrix')\n",
    "plt.show()\n",
    "print('Recall: ', recall_score(balanced_labels, y_pred))\n",
    "print('F1-score: ', f1_score(balanced_labels, y_pred))\n",
    "print(\"Classification metrics:\")\n",
    "print(classification_report(balanced_labels, y_pred))"
   ]
  },
  {
   "cell_type": "markdown",
   "id": "67e6ae0d6c615f91",
   "metadata": {},
   "source": [
    "## Average performance on newer month groups"
   ]
  },
  {
   "cell_type": "code",
   "execution_count": 17,
   "id": "2c4aacf391cd6880",
   "metadata": {
    "ExecuteTime": {
     "end_time": "2025-05-18T14:59:47.249357Z",
     "start_time": "2025-05-18T14:58:28.787240Z"
    }
   },
   "outputs": [
    {
     "data": {
      "application/vnd.jupyter.widget-view+json": {
       "model_id": "5bdb305581f94592884527b943768ecb",
       "version_major": 2,
       "version_minor": 0
      },
      "text/plain": [
       "Computing transition probabilities:   0%|          | 0/222 [00:00<?, ?it/s]"
      ]
     },
     "metadata": {},
     "output_type": "display_data"
    },
    {
     "name": "stdout",
     "output_type": "stream",
     "text": [
      "Processing graph for date: 2023-07-31\n"
     ]
    },
    {
     "data": {
      "application/vnd.jupyter.widget-view+json": {
       "model_id": "19f020ea6c6e445191004f01b1e0442d",
       "version_major": 2,
       "version_minor": 0
      },
      "text/plain": [
       "Computing transition probabilities:   0%|          | 0/222 [00:00<?, ?it/s]"
      ]
     },
     "metadata": {},
     "output_type": "display_data"
    },
    {
     "name": "stdout",
     "output_type": "stream",
     "text": [
      "Processing graph for date: 2023-08-31\n"
     ]
    },
    {
     "data": {
      "application/vnd.jupyter.widget-view+json": {
       "model_id": "43afa9a3c43a44f98e5c97347f6ec824",
       "version_major": 2,
       "version_minor": 0
      },
      "text/plain": [
       "Computing transition probabilities:   0%|          | 0/222 [00:00<?, ?it/s]"
      ]
     },
     "metadata": {},
     "output_type": "display_data"
    },
    {
     "name": "stdout",
     "output_type": "stream",
     "text": [
      "Processing graph for date: 2023-09-30\n"
     ]
    },
    {
     "data": {
      "application/vnd.jupyter.widget-view+json": {
       "model_id": "b5f862fecb2f49598e45592a684b3cb8",
       "version_major": 2,
       "version_minor": 0
      },
      "text/plain": [
       "Computing transition probabilities:   0%|          | 0/222 [00:00<?, ?it/s]"
      ]
     },
     "metadata": {},
     "output_type": "display_data"
    },
    {
     "name": "stdout",
     "output_type": "stream",
     "text": [
      "Processing graph for date: 2023-10-31\n"
     ]
    },
    {
     "data": {
      "application/vnd.jupyter.widget-view+json": {
       "model_id": "8f17bc185f2245558145af5582d899fd",
       "version_major": 2,
       "version_minor": 0
      },
      "text/plain": [
       "Computing transition probabilities:   0%|          | 0/222 [00:00<?, ?it/s]"
      ]
     },
     "metadata": {},
     "output_type": "display_data"
    },
    {
     "name": "stdout",
     "output_type": "stream",
     "text": [
      "Processing graph for date: 2023-11-30\n"
     ]
    },
    {
     "data": {
      "application/vnd.jupyter.widget-view+json": {
       "model_id": "d3c4cab2a1f949d68364733b872311bb",
       "version_major": 2,
       "version_minor": 0
      },
      "text/plain": [
       "Computing transition probabilities:   0%|          | 0/222 [00:00<?, ?it/s]"
      ]
     },
     "metadata": {},
     "output_type": "display_data"
    },
    {
     "name": "stdout",
     "output_type": "stream",
     "text": [
      "Processing graph for date: 2024-09-30\n"
     ]
    },
    {
     "data": {
      "application/vnd.jupyter.widget-view+json": {
       "model_id": "5011d53124cb488abaf2c0ba46bc2a19",
       "version_major": 2,
       "version_minor": 0
      },
      "text/plain": [
       "Computing transition probabilities:   0%|          | 0/222 [00:00<?, ?it/s]"
      ]
     },
     "metadata": {},
     "output_type": "display_data"
    },
    {
     "name": "stdout",
     "output_type": "stream",
     "text": [
      "Processing graph for date: 2024-10-31\n"
     ]
    },
    {
     "data": {
      "application/vnd.jupyter.widget-view+json": {
       "model_id": "0bd640d4f2ea4efca98779e82bc7eb0e",
       "version_major": 2,
       "version_minor": 0
      },
      "text/plain": [
       "Computing transition probabilities:   0%|          | 0/222 [00:00<?, ?it/s]"
      ]
     },
     "metadata": {},
     "output_type": "display_data"
    },
    {
     "name": "stdout",
     "output_type": "stream",
     "text": [
      "Processing graph for date: 2024-11-30\n"
     ]
    },
    {
     "data": {
      "application/vnd.jupyter.widget-view+json": {
       "model_id": "dbab8de6055f4e83aeb9072a37ca7a5f",
       "version_major": 2,
       "version_minor": 0
      },
      "text/plain": [
       "Computing transition probabilities:   0%|          | 0/222 [00:00<?, ?it/s]"
      ]
     },
     "metadata": {},
     "output_type": "display_data"
    },
    {
     "name": "stdout",
     "output_type": "stream",
     "text": [
      "Processing graph for date: 2024-12-31\n"
     ]
    },
    {
     "data": {
      "application/vnd.jupyter.widget-view+json": {
       "model_id": "64a3fc5b15174741a04ff90684c80952",
       "version_major": 2,
       "version_minor": 0
      },
      "text/plain": [
       "Computing transition probabilities:   0%|          | 0/222 [00:00<?, ?it/s]"
      ]
     },
     "metadata": {},
     "output_type": "display_data"
    },
    {
     "name": "stdout",
     "output_type": "stream",
     "text": [
      "Processing graph for date: 2025-01-31\n"
     ]
    }
   ],
   "source": [
    "graph_model_data = utils.create_train_test_objects('israel_palestine', num_walks=5, walk_length=5, dimensions=16)"
   ]
  },
  {
   "cell_type": "code",
   "execution_count": 27,
   "id": "c88617f42e1dcac3",
   "metadata": {
    "ExecuteTime": {
     "end_time": "2025-05-18T17:20:14.738217Z",
     "start_time": "2025-05-18T17:19:34.119219Z"
    }
   },
   "outputs": [
    {
     "name": "stdout",
     "output_type": "stream",
     "text": [
      "True\n",
      "(8, 16, 3)\n",
      "(3128, 8, 16, 3)\n",
      "\u001b[1m98/98\u001b[0m \u001b[32m━━━━━━━━━━━━━━━━━━━━\u001b[0m\u001b[37m\u001b[0m \u001b[1m1s\u001b[0m 6ms/step - accuracy: 0.8127 - loss: 0.4405\n",
      "Test Accuracy: 72.28%\n",
      "\u001b[1m98/98\u001b[0m \u001b[32m━━━━━━━━━━━━━━━━━━━━\u001b[0m\u001b[37m\u001b[0m \u001b[1m1s\u001b[0m 5ms/step\n",
      "True\n",
      "(8, 16, 3)\n",
      "(2780, 8, 16, 3)\n",
      "\u001b[1m87/87\u001b[0m \u001b[32m━━━━━━━━━━━━━━━━━━━━\u001b[0m\u001b[37m\u001b[0m \u001b[1m0s\u001b[0m 5ms/step - accuracy: 0.7500 - loss: 0.5134\n",
      "Test Accuracy: 70.65%\n",
      "\u001b[1m87/87\u001b[0m \u001b[32m━━━━━━━━━━━━━━━━━━━━\u001b[0m\u001b[37m\u001b[0m \u001b[1m0s\u001b[0m 5ms/step\n"
     ]
    },
    {
     "data": {
      "text/plain": [
       "{'mean_acc': 0.7146504535502033,\n",
       " 'mean_prec': 0.7624644866581249,\n",
       " 'mean_rec': 0.6273698688108337,\n",
       " 'mean_f1': 0.687284274357405,\n",
       " 'all_metrics': [[0.7228260869565217, 0.7064748201438849],\n",
       "  [0.7931034482758621, 0.7318255250403877],\n",
       "  [0.6029411764705882, 0.6517985611510791],\n",
       "  [0.6850708318198329, 0.6894977168949772]]}"
      ]
     },
     "execution_count": 27,
     "metadata": {},
     "output_type": "execute_result"
    }
   ],
   "source": [
    "target_graphs = []\n",
    "target_graphs.append(graph_model_data['2023-11-30']['graph'])\n",
    "target_graphs.append(graph_model_data['2025-01-31']['graph'])\n",
    "\n",
    "nv_models = []\n",
    "keys = list(graph_model_data.keys())[:4]\n",
    "models_list = []\n",
    "for key in keys:\n",
    "    models_list.append(graph_model_data[key]['word2vec'])\n",
    "nv_models.append(models_list)\n",
    "\n",
    "keys = list(graph_model_data.keys())[5:9]\n",
    "models_list = []\n",
    "for key in keys:\n",
    "    models_list.append(graph_model_data[key]['word2vec'])\n",
    "nv_models.append(models_list)\n",
    "\n",
    "utils.summary_evaluation_for_month_groups_ex_6(\n",
    "    model=model,\n",
    "    target_graphs=target_graphs,\n",
    "    nv_models=nv_models\n",
    ")"
   ]
  },
  {
   "cell_type": "code",
   "execution_count": 262,
   "id": "515049ae2f3716be",
   "metadata": {
    "ExecuteTime": {
     "end_time": "2024-09-18T18:59:28.130606Z",
     "start_time": "2024-09-18T18:58:49.938203Z"
    }
   },
   "outputs": [
    {
     "data": {
      "application/vnd.jupyter.widget-view+json": {
       "model_id": "2a431d9e160944f2a65edaf106adcacf",
       "version_major": 2,
       "version_minor": 0
      },
      "text/plain": [
       "Computing transition probabilities:   0%|          | 0/222 [00:00<?, ?it/s]"
      ]
     },
     "metadata": {},
     "output_type": "display_data"
    },
    {
     "name": "stderr",
     "output_type": "stream",
     "text": [
      "Generating walks (CPU: 1): 100%|██████████| 5/5 [00:00<00:00, 61.74it/s]\n"
     ]
    },
    {
     "data": {
      "application/vnd.jupyter.widget-view+json": {
       "model_id": "4e6ab9ae72204c3299e7836ab264b56a",
       "version_major": 2,
       "version_minor": 0
      },
      "text/plain": [
       "Computing transition probabilities:   0%|          | 0/222 [00:00<?, ?it/s]"
      ]
     },
     "metadata": {},
     "output_type": "display_data"
    },
    {
     "name": "stderr",
     "output_type": "stream",
     "text": [
      "Generating walks (CPU: 1): 100%|██████████| 5/5 [00:00<00:00, 83.33it/s]\n"
     ]
    },
    {
     "data": {
      "application/vnd.jupyter.widget-view+json": {
       "model_id": "2c617c89ce3040329b363927a54068ba",
       "version_major": 2,
       "version_minor": 0
      },
      "text/plain": [
       "Computing transition probabilities:   0%|          | 0/222 [00:00<?, ?it/s]"
      ]
     },
     "metadata": {},
     "output_type": "display_data"
    },
    {
     "name": "stderr",
     "output_type": "stream",
     "text": [
      "Generating walks (CPU: 1): 100%|██████████| 5/5 [00:00<00:00, 63.11it/s]\n"
     ]
    },
    {
     "data": {
      "application/vnd.jupyter.widget-view+json": {
       "model_id": "4626da84ca1e49858af30263f35e1e91",
       "version_major": 2,
       "version_minor": 0
      },
      "text/plain": [
       "Computing transition probabilities:   0%|          | 0/222 [00:00<?, ?it/s]"
      ]
     },
     "metadata": {},
     "output_type": "display_data"
    },
    {
     "name": "stderr",
     "output_type": "stream",
     "text": [
      "Generating walks (CPU: 1): 100%|██████████| 5/5 [00:00<00:00, 83.33it/s]\n"
     ]
    },
    {
     "name": "stdout",
     "output_type": "stream",
     "text": [
      "True\n",
      "\u001b[1m111/111\u001b[0m \u001b[32m━━━━━━━━━━━━━━━━━━━━\u001b[0m\u001b[37m\u001b[0m \u001b[1m0s\u001b[0m 4ms/step - accuracy: 0.6685 - loss: 0.5951\n",
      "Test Accuracy: 75.81%\n",
      "\u001b[1m111/111\u001b[0m \u001b[32m━━━━━━━━━━━━━━━━━━━━\u001b[0m\u001b[37m\u001b[0m \u001b[1m1s\u001b[0m 4ms/step\n"
     ]
    },
    {
     "data": {
      "image/png": "[encoded data removed]",
      "text/plain": [
       "<Figure size 640x480 with 2 Axes>"
      ]
     },
     "metadata": {},
     "output_type": "display_data"
    },
    {
     "name": "stdout",
     "output_type": "stream",
     "text": [
      "Recall:  0.886685552407932\n",
      "F1-score:  0.7856425702811245\n",
      "Classification metrics:\n",
      "              precision    recall  f1-score   support\n",
      "\n",
      "           0       0.85      0.63      0.72      1765\n",
      "           1       0.71      0.89      0.79      1765\n",
      "\n",
      "    accuracy                           0.76      3530\n",
      "   macro avg       0.78      0.76      0.75      3530\n",
      "weighted avg       0.78      0.76      0.75      3530\n",
      "\n"
     ]
    }
   ],
   "source": [
    "months = ['2018-03-31', '2018-04-30', '2018-05-31', '2018-06-30']\n",
    "graphs = load_graphs(months)\n",
    "j_nv, f_nv, m_nv, a_nv, j_model, f_model, m_model, a_model = create_nv_models(graphs, 5, 5, 16)\n",
    "n_vecs = [j_nv, f_nv, m_nv, a_nv]\n",
    "nv_models = [j_model, f_model, m_model, a_model]\n",
    "images = dict()\n",
    "for node1 in nodes:\n",
    "    for node2 in nodes:\n",
    "        if node1 != node2:\n",
    "            n_sorted = sorted([node1, node2])\n",
    "            key = f'{n_sorted[0]}-{n_sorted[1]}'\n",
    "            ds = pd.DataFrame()\n",
    "            vectors = []\n",
    "            for i in range(len(nv_models)):\n",
    "                vectors.append(nv_models[i].wv[node1])\n",
    "                vectors.append(nv_models[i].wv[node2])\n",
    "            img = np.stack(tuple(vectors), axis=0)\n",
    "            normalized_img = (img + 1) / 2\n",
    "            scaled_img = (normalized_img * 255).astype(np.uint8)\n",
    "            rgb_img = None\n",
    "            if scaled_img.ndim == 2:\n",
    "                rgb_img = np.stack([scaled_img] * 3, axis=-1)\n",
    "            else:\n",
    "                rgb_img = scaled_img\n",
    "            '''if scaled_img.ndim == 2:  # If the image is 2D (grayscale)\n",
    "                rgb_img = np.stack([scaled_img] * 3, axis=-1)  # Convert to RGB by duplicating the grayscale data\n",
    "            elif scaled_img.shape[-1] != 3:  # If the last dimension is not 3 (not already RGB)\n",
    "                rgb_img = np.stack([scaled_img[..., 0]] * 3, axis=-1)  # Expand the last dimension to 3 channels\n",
    "            else:\n",
    "                rgb_img = scaled_img'''\n",
    "            images[key] = rgb_img\n",
    "with open(f'../data/graphs/graph_2018-07-31.pkl', 'rb') as f:\n",
    "    target_graph = pickle.load(f)\n",
    "nodes = target_graph.nodes\n",
    "ds_dict = dict()\n",
    "for node1 in nodes:\n",
    "    for node2 in nodes:\n",
    "        if node1 != node2:\n",
    "            n_sorted = sorted([node1, node2])\n",
    "            ds_dict[f'{n_sorted[0]}-{n_sorted[1]}'] = 0\n",
    "for el in target_graph.edges(data=True):\n",
    "    if el[2]['weight'] > 0:\n",
    "        node1 = el[0]\n",
    "        node2 = el[1]\n",
    "        n_sorted = sorted([node1, node2])\n",
    "        ds_dict[f'{n_sorted[0]}-{n_sorted[1]}'] = 1\n",
    "all_images = []\n",
    "all_labels = []\n",
    "for key in ds_dict.keys():\n",
    "    all_labels.append(ds_dict[key])\n",
    "    all_images.append(images[key])\n",
    "\n",
    "print(len(all_labels) == len(all_images))\n",
    "\n",
    "all_images = np.array(all_images)\n",
    "all_labels = np.array(all_labels)\n",
    "\n",
    "data = pd.DataFrame({'img': list(all_images), 'target': all_labels})\n",
    "\n",
    "majority_class = data[data['target'] == 0]\n",
    "minority_class = data[data['target'] == 1]\n",
    "\n",
    "majority_undersampled = resample(majority_class,\n",
    "                                 replace=False,\n",
    "                                 n_samples=len(minority_class),\n",
    "                                 random_state=42)\n",
    "\n",
    "balanced_data = pd.concat([majority_undersampled, minority_class])\n",
    "balanced_images = np.array(balanced_data['img'].tolist())\n",
    "balanced_labels = np.array(balanced_data['target'])\n",
    "test_loss, test_acc = model.evaluate(balanced_images, balanced_labels)\n",
    "\n",
    "print(f\"Test Accuracy: {test_acc * 100:.2f}%\")\n",
    "y_pred_probs = model.predict(balanced_images)\n",
    "y_pred = np.argmax(y_pred_probs, axis=1)\n",
    "\n",
    "cm = confusion_matrix(balanced_labels, y_pred)\n",
    "\n",
    "disp = ConfusionMatrixDisplay(confusion_matrix=cm, display_labels=np.unique(y_test))\n",
    "\n",
    "disp.plot(cmap=plt.cm.Blues)\n",
    "plt.title('Confusion Matrix')\n",
    "plt.show()\n",
    "print('Recall: ', recall_score(balanced_labels, y_pred))\n",
    "print('F1-score: ', f1_score(balanced_labels, y_pred))\n",
    "print(\"Classification metrics:\")\n",
    "print(classification_report(balanced_labels, y_pred))"
   ]
  },
  {
   "cell_type": "code",
   "execution_count": 263,
   "id": "2a49a72cd0a4ea04",
   "metadata": {
    "ExecuteTime": {
     "end_time": "2024-09-18T19:01:35.673Z",
     "start_time": "2024-09-18T19:00:54.907679Z"
    }
   },
   "outputs": [
    {
     "data": {
      "application/vnd.jupyter.widget-view+json": {
       "model_id": "493c398e216b414ab9a59dfa87efa813",
       "version_major": 2,
       "version_minor": 0
      },
      "text/plain": [
       "Computing transition probabilities:   0%|          | 0/222 [00:00<?, ?it/s]"
      ]
     },
     "metadata": {},
     "output_type": "display_data"
    },
    {
     "name": "stderr",
     "output_type": "stream",
     "text": [
      "Generating walks (CPU: 1): 100%|██████████| 5/5 [00:00<00:00, 102.87it/s]\n"
     ]
    },
    {
     "data": {
      "application/vnd.jupyter.widget-view+json": {
       "model_id": "04db02ae08234d33b998802f544969ad",
       "version_major": 2,
       "version_minor": 0
      },
      "text/plain": [
       "Computing transition probabilities:   0%|          | 0/222 [00:00<?, ?it/s]"
      ]
     },
     "metadata": {},
     "output_type": "display_data"
    },
    {
     "name": "stderr",
     "output_type": "stream",
     "text": [
      "Generating walks (CPU: 1): 100%|██████████| 5/5 [00:00<00:00, 21.61it/s]\n"
     ]
    },
    {
     "data": {
      "application/vnd.jupyter.widget-view+json": {
       "model_id": "da735885d6e6472a836bf78ee5edbf02",
       "version_major": 2,
       "version_minor": 0
      },
      "text/plain": [
       "Computing transition probabilities:   0%|          | 0/222 [00:00<?, ?it/s]"
      ]
     },
     "metadata": {},
     "output_type": "display_data"
    },
    {
     "name": "stderr",
     "output_type": "stream",
     "text": [
      "Generating walks (CPU: 1): 100%|██████████| 5/5 [00:00<00:00, 30.87it/s]\n"
     ]
    },
    {
     "data": {
      "application/vnd.jupyter.widget-view+json": {
       "model_id": "e1af6d11e8094be485e7aa1a22510328",
       "version_major": 2,
       "version_minor": 0
      },
      "text/plain": [
       "Computing transition probabilities:   0%|          | 0/222 [00:00<?, ?it/s]"
      ]
     },
     "metadata": {},
     "output_type": "display_data"
    },
    {
     "name": "stderr",
     "output_type": "stream",
     "text": [
      "Generating walks (CPU: 1): 100%|██████████| 5/5 [00:00<00:00, 72.26it/s]\n"
     ]
    },
    {
     "name": "stdout",
     "output_type": "stream",
     "text": [
      "True\n",
      "\u001b[1m109/109\u001b[0m \u001b[32m━━━━━━━━━━━━━━━━━━━━\u001b[0m\u001b[37m\u001b[0m \u001b[1m0s\u001b[0m 4ms/step - accuracy: 0.6764 - loss: 0.6229\n",
      "Test Accuracy: 76.22%\n",
      "\u001b[1m109/109\u001b[0m \u001b[32m━━━━━━━━━━━━━━━━━━━━\u001b[0m\u001b[37m\u001b[0m \u001b[1m1s\u001b[0m 4ms/step\n"
     ]
    },
    {
     "data": {
      "image/png": "[encoded data removed]",
      "text/plain": [
       "<Figure size 640x480 with 2 Axes>"
      ]
     },
     "metadata": {},
     "output_type": "display_data"
    },
    {
     "name": "stdout",
     "output_type": "stream",
     "text": [
      "Recall:  0.8968299711815562\n",
      "F1-score:  0.7904495808991618\n",
      "Classification metrics:\n",
      "              precision    recall  f1-score   support\n",
      "\n",
      "           0       0.86      0.63      0.73      1735\n",
      "           1       0.71      0.90      0.79      1735\n",
      "\n",
      "    accuracy                           0.76      3470\n",
      "   macro avg       0.78      0.76      0.76      3470\n",
      "weighted avg       0.78      0.76      0.76      3470\n",
      "\n"
     ]
    }
   ],
   "source": [
    "months = ['2015-03-31', '2015-04-30', '2015-05-31', '2015-06-30']\n",
    "graphs = load_graphs(months)\n",
    "j_nv, f_nv, m_nv, a_nv, j_model, f_model, m_model, a_model = create_nv_models(graphs, 5, 5, 16)\n",
    "n_vecs = [j_nv, f_nv, m_nv, a_nv]\n",
    "nv_models = [j_model, f_model, m_model, a_model]\n",
    "images = dict()\n",
    "for node1 in nodes:\n",
    "    for node2 in nodes:\n",
    "        if node1 != node2:\n",
    "            n_sorted = sorted([node1, node2])\n",
    "            key = f'{n_sorted[0]}-{n_sorted[1]}'\n",
    "            ds = pd.DataFrame()\n",
    "            vectors = []\n",
    "            for i in range(len(nv_models)):\n",
    "                vectors.append(nv_models[i].wv[node1])\n",
    "                vectors.append(nv_models[i].wv[node2])\n",
    "            img = np.stack(tuple(vectors), axis=0)\n",
    "            normalized_img = (img + 1) / 2\n",
    "            scaled_img = (normalized_img * 255).astype(np.uint8)\n",
    "            rgb_img = None\n",
    "            if scaled_img.ndim == 2:\n",
    "                rgb_img = np.stack([scaled_img] * 3, axis=-1)\n",
    "            else:\n",
    "                rgb_img = scaled_img\n",
    "            '''if scaled_img.ndim == 2:  # If the image is 2D (grayscale)\n",
    "                rgb_img = np.stack([scaled_img] * 3, axis=-1)  # Convert to RGB by duplicating the grayscale data\n",
    "            elif scaled_img.shape[-1] != 3:  # If the last dimension is not 3 (not already RGB)\n",
    "                rgb_img = np.stack([scaled_img[..., 0]] * 3, axis=-1)  # Expand the last dimension to 3 channels\n",
    "            else:\n",
    "                rgb_img = scaled_img'''\n",
    "            images[key] = rgb_img\n",
    "with open(f'../data/graphs/graph_2015-07-31.pkl', 'rb') as f:\n",
    "    target_graph = pickle.load(f)\n",
    "nodes = target_graph.nodes\n",
    "ds_dict = dict()\n",
    "for node1 in nodes:\n",
    "    for node2 in nodes:\n",
    "        if node1 != node2:\n",
    "            n_sorted = sorted([node1, node2])\n",
    "            ds_dict[f'{n_sorted[0]}-{n_sorted[1]}'] = 0\n",
    "for el in target_graph.edges(data=True):\n",
    "    if el[2]['weight'] > 0:\n",
    "        node1 = el[0]\n",
    "        node2 = el[1]\n",
    "        n_sorted = sorted([node1, node2])\n",
    "        ds_dict[f'{n_sorted[0]}-{n_sorted[1]}'] = 1\n",
    "all_images = []\n",
    "all_labels = []\n",
    "for key in ds_dict.keys():\n",
    "    all_labels.append(ds_dict[key])\n",
    "    all_images.append(images[key])\n",
    "\n",
    "print(len(all_labels) == len(all_images))\n",
    "\n",
    "all_images = np.array(all_images)\n",
    "all_labels = np.array(all_labels)\n",
    "\n",
    "data = pd.DataFrame({'img': list(all_images), 'target': all_labels})\n",
    "\n",
    "majority_class = data[data['target'] == 0]\n",
    "minority_class = data[data['target'] == 1]\n",
    "\n",
    "majority_undersampled = resample(majority_class,\n",
    "                                 replace=False,\n",
    "                                 n_samples=len(minority_class),\n",
    "                                 random_state=42)\n",
    "\n",
    "balanced_data = pd.concat([majority_undersampled, minority_class])\n",
    "balanced_images = np.array(balanced_data['img'].tolist())\n",
    "balanced_labels = np.array(balanced_data['target'])\n",
    "test_loss, test_acc = model.evaluate(balanced_images, balanced_labels)\n",
    "\n",
    "print(f\"Test Accuracy: {test_acc * 100:.2f}%\")\n",
    "y_pred_probs = model.predict(balanced_images)\n",
    "y_pred = np.argmax(y_pred_probs, axis=1)\n",
    "\n",
    "cm = confusion_matrix(balanced_labels, y_pred)\n",
    "\n",
    "disp = ConfusionMatrixDisplay(confusion_matrix=cm, display_labels=np.unique(y_test))\n",
    "\n",
    "disp.plot(cmap=plt.cm.Blues)\n",
    "plt.title('Confusion Matrix')\n",
    "plt.show()\n",
    "print('Recall: ', recall_score(balanced_labels, y_pred))\n",
    "print('F1-score: ', f1_score(balanced_labels, y_pred))\n",
    "print(\"Classification metrics:\")\n",
    "print(classification_report(balanced_labels, y_pred))"
   ]
  },
  {
   "cell_type": "markdown",
   "id": "8e7e86a9fc3f9df3",
   "metadata": {},
   "source": [
    "## Optimization 2"
   ]
  },
  {
   "cell_type": "code",
   "execution_count": 269,
   "id": "6ca22b61ca83c208",
   "metadata": {
    "ExecuteTime": {
     "end_time": "2024-09-18T19:59:31.765455Z",
     "start_time": "2024-09-18T19:59:16.309055Z"
    }
   },
   "outputs": [
    {
     "data": {
      "application/vnd.jupyter.widget-view+json": {
       "model_id": "9690b15d92ae430eaca5cb9215676c9f",
       "version_major": 2,
       "version_minor": 0
      },
      "text/plain": [
       "Computing transition probabilities:   0%|          | 0/222 [00:00<?, ?it/s]"
      ]
     },
     "metadata": {},
     "output_type": "display_data"
    },
    {
     "name": "stderr",
     "output_type": "stream",
     "text": [
      "Generating walks (CPU: 1): 100%|██████████| 5/5 [00:00<00:00, 204.35it/s]\n"
     ]
    },
    {
     "data": {
      "application/vnd.jupyter.widget-view+json": {
       "model_id": "55682532e0cc466da5184544e2b26650",
       "version_major": 2,
       "version_minor": 0
      },
      "text/plain": [
       "Computing transition probabilities:   0%|          | 0/222 [00:00<?, ?it/s]"
      ]
     },
     "metadata": {},
     "output_type": "display_data"
    },
    {
     "name": "stderr",
     "output_type": "stream",
     "text": [
      "Generating walks (CPU: 1): 100%|██████████| 5/5 [00:00<00:00, 69.87it/s]\n"
     ]
    },
    {
     "data": {
      "application/vnd.jupyter.widget-view+json": {
       "model_id": "4ef19e25768146f997bb7804d6ed8f41",
       "version_major": 2,
       "version_minor": 0
      },
      "text/plain": [
       "Computing transition probabilities:   0%|          | 0/222 [00:00<?, ?it/s]"
      ]
     },
     "metadata": {},
     "output_type": "display_data"
    },
    {
     "name": "stderr",
     "output_type": "stream",
     "text": [
      "Generating walks (CPU: 1): 100%|██████████| 5/5 [00:00<00:00, 33.93it/s]\n"
     ]
    },
    {
     "data": {
      "application/vnd.jupyter.widget-view+json": {
       "model_id": "814f769bf3a842d68b6098172d3643b9",
       "version_major": 2,
       "version_minor": 0
      },
      "text/plain": [
       "Computing transition probabilities:   0%|          | 0/222 [00:00<?, ?it/s]"
      ]
     },
     "metadata": {},
     "output_type": "display_data"
    },
    {
     "name": "stderr",
     "output_type": "stream",
     "text": [
      "Generating walks (CPU: 1): 100%|██████████| 5/5 [00:00<00:00, 53.58it/s]\n"
     ]
    }
   ],
   "source": [
    "months = ['2015-01-31', '2015-02-28', '2015-03-31', '2015-04-30']\n",
    "graphs = load_graphs(months)\n",
    "j_nv, f_nv, m_nv, a_nv, j_model, f_model, m_model, a_model = create_nv_models(graphs, 5, 5, 20)\n",
    "n_vecs = [j_nv, f_nv, m_nv, a_nv]\n",
    "nv_models = [j_model, f_model, m_model, a_model]"
   ]
  },
  {
   "cell_type": "code",
   "execution_count": 271,
   "id": "75b8d1d1558e1030",
   "metadata": {
    "ExecuteTime": {
     "end_time": "2024-09-18T20:05:13.414127Z",
     "start_time": "2024-09-18T20:03:21.481274Z"
    }
   },
   "outputs": [
    {
     "name": "stdout",
     "output_type": "stream",
     "text": [
      "True\n",
      "Epoch 1/20\n"
     ]
    },
    {
     "name": "stderr",
     "output_type": "stream",
     "text": [
      "C:\\Users\\User\\Desktop\\xai-graphs\\.venv\\lib\\site-packages\\keras\\src\\layers\\convolutional\\base_conv.py:107: UserWarning: Do not pass an `input_shape`/`input_dim` argument to a layer. When using Sequential models, prefer using an `Input(shape)` object as the first layer in the model instead.\n",
      "  super().__init__(activity_regularizer=activity_regularizer, **kwargs)\n"
     ]
    },
    {
     "name": "stdout",
     "output_type": "stream",
     "text": [
      "\u001b[1m164/164\u001b[0m \u001b[32m━━━━━━━━━━━━━━━━━━━━\u001b[0m\u001b[37m\u001b[0m \u001b[1m5s\u001b[0m 23ms/step - accuracy: 0.6042 - loss: 16.3243 - val_accuracy: 0.7498 - val_loss: 0.5406\n",
      "Epoch 2/20\n",
      "\u001b[1m164/164\u001b[0m \u001b[32m━━━━━━━━━━━━━━━━━━━━\u001b[0m\u001b[37m\u001b[0m \u001b[1m4s\u001b[0m 21ms/step - accuracy: 0.7339 - loss: 0.5325 - val_accuracy: 0.7346 - val_loss: 0.5189\n",
      "Epoch 3/20\n",
      "\u001b[1m164/164\u001b[0m \u001b[32m━━━━━━━━━━━━━━━━━━━━\u001b[0m\u001b[37m\u001b[0m \u001b[1m4s\u001b[0m 21ms/step - accuracy: 0.7379 - loss: 0.5083 - val_accuracy: 0.7015 - val_loss: 0.6164\n",
      "Epoch 4/20\n",
      "\u001b[1m164/164\u001b[0m \u001b[32m━━━━━━━━━━━━━━━━━━━━\u001b[0m\u001b[37m\u001b[0m \u001b[1m4s\u001b[0m 22ms/step - accuracy: 0.7685 - loss: 0.4791 - val_accuracy: 0.7721 - val_loss: 0.4645\n",
      "Epoch 5/20\n",
      "\u001b[1m164/164\u001b[0m \u001b[32m━━━━━━━━━━━━━━━━━━━━\u001b[0m\u001b[37m\u001b[0m \u001b[1m4s\u001b[0m 23ms/step - accuracy: 0.7768 - loss: 0.4738 - val_accuracy: 0.6953 - val_loss: 0.7273\n",
      "Epoch 6/20\n",
      "\u001b[1m164/164\u001b[0m \u001b[32m━━━━━━━━━━━━━━━━━━━━\u001b[0m\u001b[37m\u001b[0m \u001b[1m4s\u001b[0m 22ms/step - accuracy: 0.7478 - loss: 0.5616 - val_accuracy: 0.7301 - val_loss: 0.5324\n",
      "Epoch 7/20\n",
      "\u001b[1m164/164\u001b[0m \u001b[32m━━━━━━━━━━━━━━━━━━━━\u001b[0m\u001b[37m\u001b[0m \u001b[1m4s\u001b[0m 21ms/step - accuracy: 0.7348 - loss: 0.5066 - val_accuracy: 0.7766 - val_loss: 0.4789\n",
      "Epoch 8/20\n",
      "\u001b[1m164/164\u001b[0m \u001b[32m━━━━━━━━━━━━━━━━━━━━\u001b[0m\u001b[37m\u001b[0m \u001b[1m4s\u001b[0m 22ms/step - accuracy: 0.7782 - loss: 0.4689 - val_accuracy: 0.7784 - val_loss: 0.4588\n",
      "Epoch 9/20\n",
      "\u001b[1m164/164\u001b[0m \u001b[32m━━━━━━━━━━━━━━━━━━━━\u001b[0m\u001b[37m\u001b[0m \u001b[1m4s\u001b[0m 21ms/step - accuracy: 0.7840 - loss: 0.4631 - val_accuracy: 0.7391 - val_loss: 0.5957\n",
      "Epoch 10/20\n",
      "\u001b[1m164/164\u001b[0m \u001b[32m━━━━━━━━━━━━━━━━━━━━\u001b[0m\u001b[37m\u001b[0m \u001b[1m4s\u001b[0m 22ms/step - accuracy: 0.7719 - loss: 0.4736 - val_accuracy: 0.7551 - val_loss: 0.4773\n",
      "Epoch 11/20\n",
      "\u001b[1m164/164\u001b[0m \u001b[32m━━━━━━━━━━━━━━━━━━━━\u001b[0m\u001b[37m\u001b[0m \u001b[1m4s\u001b[0m 22ms/step - accuracy: 0.7818 - loss: 0.4483 - val_accuracy: 0.7489 - val_loss: 0.4792\n",
      "Epoch 12/20\n",
      "\u001b[1m164/164\u001b[0m \u001b[32m━━━━━━━━━━━━━━━━━━━━\u001b[0m\u001b[37m\u001b[0m \u001b[1m4s\u001b[0m 23ms/step - accuracy: 0.7398 - loss: 0.5052 - val_accuracy: 0.7802 - val_loss: 0.4591\n",
      "Epoch 13/20\n",
      "\u001b[1m164/164\u001b[0m \u001b[32m━━━━━━━━━━━━━━━━━━━━\u001b[0m\u001b[37m\u001b[0m \u001b[1m4s\u001b[0m 23ms/step - accuracy: 0.7691 - loss: 0.4861 - val_accuracy: 0.6461 - val_loss: 0.7530\n",
      "Epoch 14/20\n",
      "\u001b[1m164/164\u001b[0m \u001b[32m━━━━━━━━━━━━━━━━━━━━\u001b[0m\u001b[37m\u001b[0m \u001b[1m4s\u001b[0m 22ms/step - accuracy: 0.7646 - loss: 0.4907 - val_accuracy: 0.7846 - val_loss: 0.4632\n",
      "Epoch 15/20\n",
      "\u001b[1m164/164\u001b[0m \u001b[32m━━━━━━━━━━━━━━━━━━━━\u001b[0m\u001b[37m\u001b[0m \u001b[1m4s\u001b[0m 21ms/step - accuracy: 0.7707 - loss: 0.4774 - val_accuracy: 0.7176 - val_loss: 0.5209\n",
      "Epoch 16/20\n",
      "\u001b[1m164/164\u001b[0m \u001b[32m━━━━━━━━━━━━━━━━━━━━\u001b[0m\u001b[37m\u001b[0m \u001b[1m4s\u001b[0m 23ms/step - accuracy: 0.7741 - loss: 0.4677 - val_accuracy: 0.7828 - val_loss: 0.4603\n",
      "Epoch 17/20\n",
      "\u001b[1m164/164\u001b[0m \u001b[32m━━━━━━━━━━━━━━━━━━━━\u001b[0m\u001b[37m\u001b[0m \u001b[1m4s\u001b[0m 27ms/step - accuracy: 0.7798 - loss: 0.4565 - val_accuracy: 0.7811 - val_loss: 0.4760\n",
      "Epoch 18/20\n",
      "\u001b[1m164/164\u001b[0m \u001b[32m━━━━━━━━━━━━━━━━━━━━\u001b[0m\u001b[37m\u001b[0m \u001b[1m4s\u001b[0m 22ms/step - accuracy: 0.7690 - loss: 0.4681 - val_accuracy: 0.7864 - val_loss: 0.4605\n",
      "Epoch 19/20\n",
      "\u001b[1m164/164\u001b[0m \u001b[32m━━━━━━━━━━━━━━━━━━━━\u001b[0m\u001b[37m\u001b[0m \u001b[1m3s\u001b[0m 21ms/step - accuracy: 0.7872 - loss: 0.4556 - val_accuracy: 0.7694 - val_loss: 0.5060\n",
      "Epoch 20/20\n",
      "\u001b[1m164/164\u001b[0m \u001b[32m━━━━━━━━━━━━━━━━━━━━\u001b[0m\u001b[37m\u001b[0m \u001b[1m4s\u001b[0m 22ms/step - accuracy: 0.7589 - loss: 0.4941 - val_accuracy: 0.7855 - val_loss: 0.4595\n",
      "\u001b[1m117/117\u001b[0m \u001b[32m━━━━━━━━━━━━━━━━━━━━\u001b[0m\u001b[37m\u001b[0m \u001b[1m1s\u001b[0m 5ms/step - accuracy: 0.7745 - loss: 0.4659\n",
      "Test Accuracy: 79.13%\n",
      "\u001b[1m117/117\u001b[0m \u001b[32m━━━━━━━━━━━━━━━━━━━━\u001b[0m\u001b[37m\u001b[0m \u001b[1m1s\u001b[0m 5ms/step\n"
     ]
    },
    {
     "data": {
      "image/png": "[encoded data removed]",
      "text/plain": [
       "<Figure size 640x480 with 2 Axes>"
      ]
     },
     "metadata": {},
     "output_type": "display_data"
    },
    {
     "name": "stdout",
     "output_type": "stream",
     "text": [
      "Recall:  0.8159871244635193\n",
      "F1-score:  0.7963350785340314\n",
      "Classification metrics:\n",
      "              precision    recall  f1-score   support\n",
      "\n",
      "           0       0.81      0.77      0.79      1864\n",
      "           1       0.78      0.82      0.80      1864\n",
      "\n",
      "    accuracy                           0.79      3728\n",
      "   macro avg       0.79      0.79      0.79      3728\n",
      "weighted avg       0.79      0.79      0.79      3728\n",
      "\n"
     ]
    }
   ],
   "source": [
    "images = dict()\n",
    "for node1 in nodes:\n",
    "    for node2 in nodes:\n",
    "        if node1 != node2:\n",
    "            n_sorted = sorted([node1, node2])\n",
    "            key = f'{n_sorted[0]}-{n_sorted[1]}'\n",
    "            ds = pd.DataFrame()\n",
    "            vectors = []\n",
    "            for i in range(len(nv_models)):\n",
    "                vectors.append(nv_models[i].wv[node1])\n",
    "                vectors.append(nv_models[i].wv[node2])\n",
    "            img = np.stack(tuple(vectors), axis=0)\n",
    "            normalized_img = (img + 1) / 2\n",
    "            scaled_img = (normalized_img * 255).astype(np.uint8)\n",
    "            rgb_img = None\n",
    "            if scaled_img.ndim == 2:\n",
    "                rgb_img = np.stack([scaled_img] * 3, axis=-1)\n",
    "            else:\n",
    "                rgb_img = scaled_img\n",
    "            '''if scaled_img.ndim == 2:  # If the image is 2D (grayscale)\n",
    "                rgb_img = np.stack([scaled_img] * 3, axis=-1)  # Convert to RGB by duplicating the grayscale data\n",
    "            elif scaled_img.shape[-1] != 3:  # If the last dimension is not 3 (not already RGB)\n",
    "                rgb_img = np.stack([scaled_img[..., 0]] * 3, axis=-1)  # Expand the last dimension to 3 channels\n",
    "            else:\n",
    "                rgb_img = scaled_img'''\n",
    "            images[key] = rgb_img\n",
    "with open(f'../data/graphs/graph_2015-05-31.pkl', 'rb') as f:\n",
    "    target_graph = pickle.load(f)\n",
    "nodes = target_graph.nodes\n",
    "ds_dict = dict()\n",
    "for node1 in nodes:\n",
    "    for node2 in nodes:\n",
    "        if node1 != node2:\n",
    "            n_sorted = sorted([node1, node2])\n",
    "            ds_dict[f'{n_sorted[0]}-{n_sorted[1]}'] = 0\n",
    "for el in target_graph.edges(data=True):\n",
    "    if el[2]['weight'] > 0:\n",
    "        node1 = el[0]\n",
    "        node2 = el[1]\n",
    "        n_sorted = sorted([node1, node2])\n",
    "        ds_dict[f'{n_sorted[0]}-{n_sorted[1]}'] = 1\n",
    "all_images = []\n",
    "all_labels = []\n",
    "for key in ds_dict.keys():\n",
    "    all_labels.append(ds_dict[key])\n",
    "    all_images.append(images[key])\n",
    "\n",
    "print(len(all_labels) == len(all_images))\n",
    "\n",
    "all_images = np.array(all_images)\n",
    "all_labels = np.array(all_labels)\n",
    "\n",
    "data = pd.DataFrame({'img': list(all_images), 'target': all_labels})\n",
    "\n",
    "majority_class = data[data['target'] == 0]\n",
    "minority_class = data[data['target'] == 1]\n",
    "\n",
    "majority_undersampled = resample(majority_class,\n",
    "                                 replace=False,\n",
    "                                 n_samples=len(minority_class),\n",
    "                                 random_state=42)\n",
    "\n",
    "balanced_data = pd.concat([majority_undersampled, minority_class])\n",
    "balanced_images = np.array(balanced_data['img'].tolist())\n",
    "balanced_labels = np.array(balanced_data['target'])\n",
    "\n",
    "X_train, X_test, y_train, y_test = train_test_split(balanced_images, balanced_labels, test_size=0.3, random_state=42)\n",
    "model = models.Sequential([\n",
    "    layers.Conv2D(32, (6, 2), padding='same', activation='relu', input_shape=(8, 20, 3)),\n",
    "    # layers.MaxPooling2D((2, 2)),\n",
    "    layers.Conv2D(64, (2, 2), activation='relu'),\n",
    "    # layers.MaxPooling2D((2, 2)),\n",
    "    layers.Conv2D(128, (1, 1), activation='relu'),\n",
    "    layers.Flatten(),\n",
    "    layers.Dense(64, activation='relu'),\n",
    "    # layers.Dropout(0.5),\n",
    "    layers.Dense(2, activation='softmax')\n",
    "])\n",
    "\n",
    "model.compile(optimizer='adam', loss='sparse_categorical_crossentropy', metrics=['accuracy'])\n",
    "history = model.fit(X_train, y_train, epochs=20, batch_size=16, validation_data=(X_test, y_test))\n",
    "\n",
    "test_loss, test_acc = model.evaluate(balanced_images, balanced_labels)\n",
    "\n",
    "print(f\"Test Accuracy: {test_acc * 100:.2f}%\")\n",
    "y_pred_probs = model.predict(balanced_images)\n",
    "y_pred = np.argmax(y_pred_probs, axis=1)\n",
    "\n",
    "cm = confusion_matrix(balanced_labels, y_pred)\n",
    "\n",
    "disp = ConfusionMatrixDisplay(confusion_matrix=cm, display_labels=np.unique(y_test))\n",
    "\n",
    "disp.plot(cmap=plt.cm.Blues)\n",
    "plt.title('Confusion Matrix')\n",
    "plt.show()\n",
    "print('Recall: ', recall_score(balanced_labels, y_pred))\n",
    "print('F1-score: ', f1_score(balanced_labels, y_pred))\n",
    "print(\"Classification metrics:\")\n",
    "print(classification_report(balanced_labels, y_pred))"
   ]
  },
  {
   "cell_type": "code",
   "execution_count": 272,
   "id": "88b907e4666384ed",
   "metadata": {
    "ExecuteTime": {
     "end_time": "2024-09-18T20:07:00.947693Z",
     "start_time": "2024-09-18T20:06:15.145437Z"
    }
   },
   "outputs": [
    {
     "data": {
      "application/vnd.jupyter.widget-view+json": {
       "model_id": "8bb179434b70430193d6bf71f4222110",
       "version_major": 2,
       "version_minor": 0
      },
      "text/plain": [
       "Computing transition probabilities:   0%|          | 0/222 [00:00<?, ?it/s]"
      ]
     },
     "metadata": {},
     "output_type": "display_data"
    },
    {
     "name": "stderr",
     "output_type": "stream",
     "text": [
      "Generating walks (CPU: 1): 100%|██████████| 5/5 [00:00<00:00, 37.31it/s]\n"
     ]
    },
    {
     "data": {
      "application/vnd.jupyter.widget-view+json": {
       "model_id": "ab9284b39e1042c3a1aa7414661d3bc4",
       "version_major": 2,
       "version_minor": 0
      },
      "text/plain": [
       "Computing transition probabilities:   0%|          | 0/222 [00:00<?, ?it/s]"
      ]
     },
     "metadata": {},
     "output_type": "display_data"
    },
    {
     "name": "stderr",
     "output_type": "stream",
     "text": [
      "Generating walks (CPU: 1): 100%|██████████| 5/5 [00:00<00:00,  8.88it/s]\n"
     ]
    },
    {
     "data": {
      "application/vnd.jupyter.widget-view+json": {
       "model_id": "e7424d6077134b2284d539a280f78171",
       "version_major": 2,
       "version_minor": 0
      },
      "text/plain": [
       "Computing transition probabilities:   0%|          | 0/222 [00:00<?, ?it/s]"
      ]
     },
     "metadata": {},
     "output_type": "display_data"
    },
    {
     "name": "stderr",
     "output_type": "stream",
     "text": [
      "Generating walks (CPU: 1): 100%|██████████| 5/5 [00:00<00:00, 35.65it/s]\n"
     ]
    },
    {
     "data": {
      "application/vnd.jupyter.widget-view+json": {
       "model_id": "fec80be46b994deba11e3c947781c17a",
       "version_major": 2,
       "version_minor": 0
      },
      "text/plain": [
       "Computing transition probabilities:   0%|          | 0/222 [00:00<?, ?it/s]"
      ]
     },
     "metadata": {},
     "output_type": "display_data"
    },
    {
     "name": "stderr",
     "output_type": "stream",
     "text": [
      "Generating walks (CPU: 1): 100%|██████████| 5/5 [00:00<00:00, 32.00it/s]\n"
     ]
    },
    {
     "name": "stdout",
     "output_type": "stream",
     "text": [
      "True\n",
      "\u001b[1m111/111\u001b[0m \u001b[32m━━━━━━━━━━━━━━━━━━━━\u001b[0m\u001b[37m\u001b[0m \u001b[1m1s\u001b[0m 5ms/step - accuracy: 0.7761 - loss: 0.4732\n",
      "Test Accuracy: 79.60%\n",
      "\u001b[1m111/111\u001b[0m \u001b[32m━━━━━━━━━━━━━━━━━━━━\u001b[0m\u001b[37m\u001b[0m \u001b[1m1s\u001b[0m 5ms/step\n"
     ]
    },
    {
     "data": {
      "image/png": "[encoded data removed]",
      "text/plain": [
       "<Figure size 640x480 with 2 Axes>"
      ]
     },
     "metadata": {},
     "output_type": "display_data"
    },
    {
     "name": "stdout",
     "output_type": "stream",
     "text": [
      "Recall:  0.8226628895184136\n",
      "F1-score:  0.8013245033112583\n",
      "Classification metrics:\n",
      "              precision    recall  f1-score   support\n",
      "\n",
      "           0       0.81      0.77      0.79      1765\n",
      "           1       0.78      0.82      0.80      1765\n",
      "\n",
      "    accuracy                           0.80      3530\n",
      "   macro avg       0.80      0.80      0.80      3530\n",
      "weighted avg       0.80      0.80      0.80      3530\n",
      "\n"
     ]
    }
   ],
   "source": [
    "months = ['2018-03-31', '2018-04-30', '2018-05-31', '2018-06-30']\n",
    "graphs = load_graphs(months)\n",
    "j_nv, f_nv, m_nv, a_nv, j_model, f_model, m_model, a_model = create_nv_models(graphs, 5, 5, 20)\n",
    "n_vecs = [j_nv, f_nv, m_nv, a_nv]\n",
    "nv_models = [j_model, f_model, m_model, a_model]\n",
    "images = dict()\n",
    "for node1 in nodes:\n",
    "    for node2 in nodes:\n",
    "        if node1 != node2:\n",
    "            n_sorted = sorted([node1, node2])\n",
    "            key = f'{n_sorted[0]}-{n_sorted[1]}'\n",
    "            ds = pd.DataFrame()\n",
    "            vectors = []\n",
    "            for i in range(len(nv_models)):\n",
    "                vectors.append(nv_models[i].wv[node1])\n",
    "                vectors.append(nv_models[i].wv[node2])\n",
    "            img = np.stack(tuple(vectors), axis=0)\n",
    "            normalized_img = (img + 1) / 2\n",
    "            scaled_img = (normalized_img * 255).astype(np.uint8)\n",
    "            rgb_img = None\n",
    "            if scaled_img.ndim == 2:\n",
    "                rgb_img = np.stack([scaled_img] * 3, axis=-1)\n",
    "            else:\n",
    "                rgb_img = scaled_img\n",
    "            '''if scaled_img.ndim == 2:  # If the image is 2D (grayscale)\n",
    "                rgb_img = np.stack([scaled_img] * 3, axis=-1)  # Convert to RGB by duplicating the grayscale data\n",
    "            elif scaled_img.shape[-1] != 3:  # If the last dimension is not 3 (not already RGB)\n",
    "                rgb_img = np.stack([scaled_img[..., 0]] * 3, axis=-1)  # Expand the last dimension to 3 channels\n",
    "            else:\n",
    "                rgb_img = scaled_img'''\n",
    "            images[key] = rgb_img\n",
    "with open(f'../data/graphs/graph_2018-07-31.pkl', 'rb') as f:\n",
    "    target_graph = pickle.load(f)\n",
    "nodes = target_graph.nodes\n",
    "ds_dict = dict()\n",
    "for node1 in nodes:\n",
    "    for node2 in nodes:\n",
    "        if node1 != node2:\n",
    "            n_sorted = sorted([node1, node2])\n",
    "            ds_dict[f'{n_sorted[0]}-{n_sorted[1]}'] = 0\n",
    "for el in target_graph.edges(data=True):\n",
    "    if el[2]['weight'] > 0:\n",
    "        node1 = el[0]\n",
    "        node2 = el[1]\n",
    "        n_sorted = sorted([node1, node2])\n",
    "        ds_dict[f'{n_sorted[0]}-{n_sorted[1]}'] = 1\n",
    "all_images = []\n",
    "all_labels = []\n",
    "for key in ds_dict.keys():\n",
    "    all_labels.append(ds_dict[key])\n",
    "    all_images.append(images[key])\n",
    "\n",
    "print(len(all_labels) == len(all_images))\n",
    "\n",
    "all_images = np.array(all_images)\n",
    "all_labels = np.array(all_labels)\n",
    "\n",
    "data = pd.DataFrame({'img': list(all_images), 'target': all_labels})\n",
    "\n",
    "majority_class = data[data['target'] == 0]\n",
    "minority_class = data[data['target'] == 1]\n",
    "\n",
    "majority_undersampled = resample(majority_class,\n",
    "                                 replace=False,\n",
    "                                 n_samples=len(minority_class),\n",
    "                                 random_state=42)\n",
    "\n",
    "balanced_data = pd.concat([majority_undersampled, minority_class])\n",
    "balanced_images = np.array(balanced_data['img'].tolist())\n",
    "balanced_labels = np.array(balanced_data['target'])\n",
    "test_loss, test_acc = model.evaluate(balanced_images, balanced_labels)\n",
    "\n",
    "print(f\"Test Accuracy: {test_acc * 100:.2f}%\")\n",
    "y_pred_probs = model.predict(balanced_images)\n",
    "y_pred = np.argmax(y_pred_probs, axis=1)\n",
    "\n",
    "cm = confusion_matrix(balanced_labels, y_pred)\n",
    "\n",
    "disp = ConfusionMatrixDisplay(confusion_matrix=cm, display_labels=np.unique(y_test))\n",
    "\n",
    "disp.plot(cmap=plt.cm.Blues)\n",
    "plt.title('Confusion Matrix')\n",
    "plt.show()\n",
    "print('Recall: ', recall_score(balanced_labels, y_pred))\n",
    "print('F1-score: ', f1_score(balanced_labels, y_pred))\n",
    "print(\"Classification metrics:\")\n",
    "print(classification_report(balanced_labels, y_pred))"
   ]
  },
  {
   "cell_type": "code",
   "execution_count": 273,
   "id": "3851bfdb8c72536b",
   "metadata": {
    "ExecuteTime": {
     "end_time": "2024-09-18T20:10:14.230786Z",
     "start_time": "2024-09-18T20:09:22.537725Z"
    }
   },
   "outputs": [
    {
     "data": {
      "application/vnd.jupyter.widget-view+json": {
       "model_id": "2f53416d031745ad8c9086f8665d9bb8",
       "version_major": 2,
       "version_minor": 0
      },
      "text/plain": [
       "Computing transition probabilities:   0%|          | 0/222 [00:00<?, ?it/s]"
      ]
     },
     "metadata": {},
     "output_type": "display_data"
    },
    {
     "name": "stderr",
     "output_type": "stream",
     "text": [
      "Generating walks (CPU: 1): 100%|██████████| 5/5 [00:00<00:00, 53.19it/s]\n"
     ]
    },
    {
     "data": {
      "application/vnd.jupyter.widget-view+json": {
       "model_id": "f78de9976e104bb2ac725ab3dd6edff6",
       "version_major": 2,
       "version_minor": 0
      },
      "text/plain": [
       "Computing transition probabilities:   0%|          | 0/222 [00:00<?, ?it/s]"
      ]
     },
     "metadata": {},
     "output_type": "display_data"
    },
    {
     "name": "stderr",
     "output_type": "stream",
     "text": [
      "Generating walks (CPU: 1): 100%|██████████| 5/5 [00:00<00:00, 49.82it/s]\n"
     ]
    },
    {
     "data": {
      "application/vnd.jupyter.widget-view+json": {
       "model_id": "bcd2985c1cec4d559f3567b0fe6e5925",
       "version_major": 2,
       "version_minor": 0
      },
      "text/plain": [
       "Computing transition probabilities:   0%|          | 0/222 [00:00<?, ?it/s]"
      ]
     },
     "metadata": {},
     "output_type": "display_data"
    },
    {
     "name": "stderr",
     "output_type": "stream",
     "text": [
      "Generating walks (CPU: 1): 100%|██████████| 5/5 [00:00<00:00, 35.36it/s]\n"
     ]
    },
    {
     "data": {
      "application/vnd.jupyter.widget-view+json": {
       "model_id": "a485ee346e534b36a5efbdad73b5f669",
       "version_major": 2,
       "version_minor": 0
      },
      "text/plain": [
       "Computing transition probabilities:   0%|          | 0/222 [00:00<?, ?it/s]"
      ]
     },
     "metadata": {},
     "output_type": "display_data"
    },
    {
     "name": "stderr",
     "output_type": "stream",
     "text": [
      "Generating walks (CPU: 1): 100%|██████████| 5/5 [00:00<00:00, 44.23it/s]\n"
     ]
    },
    {
     "name": "stdout",
     "output_type": "stream",
     "text": [
      "True\n",
      "\u001b[1m109/109\u001b[0m \u001b[32m━━━━━━━━━━━━━━━━━━━━\u001b[0m\u001b[37m\u001b[0m \u001b[1m1s\u001b[0m 6ms/step - accuracy: 0.6623 - loss: 0.6464\n",
      "Test Accuracy: 76.17%\n",
      "\u001b[1m109/109\u001b[0m \u001b[32m━━━━━━━━━━━━━━━━━━━━\u001b[0m\u001b[37m\u001b[0m \u001b[1m1s\u001b[0m 5ms/step\n"
     ]
    },
    {
     "data": {
      "image/png": "[encoded data removed]",
      "text/plain": [
       "<Figure size 640x480 with 2 Axes>"
      ]
     },
     "metadata": {},
     "output_type": "display_data"
    },
    {
     "name": "stdout",
     "output_type": "stream",
     "text": [
      "Recall:  0.9181556195965418\n",
      "F1-score:  0.7939197607774732\n",
      "Classification metrics:\n",
      "              precision    recall  f1-score   support\n",
      "\n",
      "           0       0.88      0.61      0.72      1735\n",
      "           1       0.70      0.92      0.79      1735\n",
      "\n",
      "    accuracy                           0.76      3470\n",
      "   macro avg       0.79      0.76      0.76      3470\n",
      "weighted avg       0.79      0.76      0.76      3470\n",
      "\n"
     ]
    }
   ],
   "source": [
    "months = ['2015-03-31', '2015-04-30', '2015-05-31', '2015-06-30']\n",
    "graphs = load_graphs(months)\n",
    "j_nv, f_nv, m_nv, a_nv, j_model, f_model, m_model, a_model = create_nv_models(graphs, 5, 5, 20)\n",
    "n_vecs = [j_nv, f_nv, m_nv, a_nv]\n",
    "nv_models = [j_model, f_model, m_model, a_model]\n",
    "images = dict()\n",
    "for node1 in nodes:\n",
    "    for node2 in nodes:\n",
    "        if node1 != node2:\n",
    "            n_sorted = sorted([node1, node2])\n",
    "            key = f'{n_sorted[0]}-{n_sorted[1]}'\n",
    "            ds = pd.DataFrame()\n",
    "            vectors = []\n",
    "            for i in range(len(nv_models)):\n",
    "                vectors.append(nv_models[i].wv[node1])\n",
    "                vectors.append(nv_models[i].wv[node2])\n",
    "            img = np.stack(tuple(vectors), axis=0)\n",
    "            normalized_img = (img + 1) / 2\n",
    "            scaled_img = (normalized_img * 255).astype(np.uint8)\n",
    "            rgb_img = None\n",
    "            if scaled_img.ndim == 2:\n",
    "                rgb_img = np.stack([scaled_img] * 3, axis=-1)\n",
    "            else:\n",
    "                rgb_img = scaled_img\n",
    "            '''if scaled_img.ndim == 2:  # If the image is 2D (grayscale)\n",
    "                rgb_img = np.stack([scaled_img] * 3, axis=-1)  # Convert to RGB by duplicating the grayscale data\n",
    "            elif scaled_img.shape[-1] != 3:  # If the last dimension is not 3 (not already RGB)\n",
    "                rgb_img = np.stack([scaled_img[..., 0]] * 3, axis=-1)  # Expand the last dimension to 3 channels\n",
    "            else:\n",
    "                rgb_img = scaled_img'''\n",
    "            images[key] = rgb_img\n",
    "with open(f'../data/graphs/graph_2015-07-31.pkl', 'rb') as f:\n",
    "    target_graph = pickle.load(f)\n",
    "nodes = target_graph.nodes\n",
    "ds_dict = dict()\n",
    "for node1 in nodes:\n",
    "    for node2 in nodes:\n",
    "        if node1 != node2:\n",
    "            n_sorted = sorted([node1, node2])\n",
    "            ds_dict[f'{n_sorted[0]}-{n_sorted[1]}'] = 0\n",
    "for el in target_graph.edges(data=True):\n",
    "    if el[2]['weight'] > 0:\n",
    "        node1 = el[0]\n",
    "        node2 = el[1]\n",
    "        n_sorted = sorted([node1, node2])\n",
    "        ds_dict[f'{n_sorted[0]}-{n_sorted[1]}'] = 1\n",
    "all_images = []\n",
    "all_labels = []\n",
    "for key in ds_dict.keys():\n",
    "    all_labels.append(ds_dict[key])\n",
    "    all_images.append(images[key])\n",
    "\n",
    "print(len(all_labels) == len(all_images))\n",
    "\n",
    "all_images = np.array(all_images)\n",
    "all_labels = np.array(all_labels)\n",
    "\n",
    "data = pd.DataFrame({'img': list(all_images), 'target': all_labels})\n",
    "\n",
    "majority_class = data[data['target'] == 0]\n",
    "minority_class = data[data['target'] == 1]\n",
    "\n",
    "majority_undersampled = resample(majority_class,\n",
    "                                 replace=False,\n",
    "                                 n_samples=len(minority_class),\n",
    "                                 random_state=42)\n",
    "\n",
    "balanced_data = pd.concat([majority_undersampled, minority_class])\n",
    "balanced_images = np.array(balanced_data['img'].tolist())\n",
    "balanced_labels = np.array(balanced_data['target'])\n",
    "test_loss, test_acc = model.evaluate(balanced_images, balanced_labels)\n",
    "\n",
    "print(f\"Test Accuracy: {test_acc * 100:.2f}%\")\n",
    "y_pred_probs = model.predict(balanced_images)\n",
    "y_pred = np.argmax(y_pred_probs, axis=1)\n",
    "\n",
    "cm = confusion_matrix(balanced_labels, y_pred)\n",
    "\n",
    "disp = ConfusionMatrixDisplay(confusion_matrix=cm, display_labels=np.unique(y_test))\n",
    "\n",
    "disp.plot(cmap=plt.cm.Blues)\n",
    "plt.title('Confusion Matrix')\n",
    "plt.show()\n",
    "print('Recall: ', recall_score(balanced_labels, y_pred))\n",
    "print('F1-score: ', f1_score(balanced_labels, y_pred))\n",
    "print(\"Classification metrics:\")\n",
    "print(classification_report(balanced_labels, y_pred))"
   ]
  },
  {
   "cell_type": "markdown",
   "id": "779f939e30397209",
   "metadata": {},
   "source": [
    "## Optimization 3"
   ]
  },
  {
   "cell_type": "code",
   "execution_count": 274,
   "id": "7879432329c88aa0",
   "metadata": {
    "ExecuteTime": {
     "end_time": "2024-09-18T20:25:02.801074Z",
     "start_time": "2024-09-18T20:24:21.210503Z"
    }
   },
   "outputs": [
    {
     "data": {
      "application/vnd.jupyter.widget-view+json": {
       "model_id": "28a1a9f0e09347f495f75f0d61c58fb2",
       "version_major": 2,
       "version_minor": 0
      },
      "text/plain": [
       "Computing transition probabilities:   0%|          | 0/222 [00:00<?, ?it/s]"
      ]
     },
     "metadata": {},
     "output_type": "display_data"
    },
    {
     "name": "stderr",
     "output_type": "stream",
     "text": [
      "Generating walks (CPU: 1): 100%|██████████| 5/5 [00:00<00:00, 184.25it/s]\n"
     ]
    },
    {
     "data": {
      "application/vnd.jupyter.widget-view+json": {
       "model_id": "aa3efbbcc3174abf89ed827b545d1ae4",
       "version_major": 2,
       "version_minor": 0
      },
      "text/plain": [
       "Computing transition probabilities:   0%|          | 0/222 [00:00<?, ?it/s]"
      ]
     },
     "metadata": {},
     "output_type": "display_data"
    },
    {
     "name": "stderr",
     "output_type": "stream",
     "text": [
      "Generating walks (CPU: 1): 100%|██████████| 5/5 [00:00<00:00, 36.77it/s]\n"
     ]
    },
    {
     "data": {
      "application/vnd.jupyter.widget-view+json": {
       "model_id": "7b6fd123d3b14490bce261f8810cf8dd",
       "version_major": 2,
       "version_minor": 0
      },
      "text/plain": [
       "Computing transition probabilities:   0%|          | 0/222 [00:00<?, ?it/s]"
      ]
     },
     "metadata": {},
     "output_type": "display_data"
    },
    {
     "name": "stderr",
     "output_type": "stream",
     "text": [
      "Generating walks (CPU: 1): 100%|██████████| 5/5 [00:00<00:00, 40.33it/s]\n"
     ]
    },
    {
     "data": {
      "application/vnd.jupyter.widget-view+json": {
       "model_id": "9cb5d30bd8e248e78dfb9e9acf59acdf",
       "version_major": 2,
       "version_minor": 0
      },
      "text/plain": [
       "Computing transition probabilities:   0%|          | 0/222 [00:00<?, ?it/s]"
      ]
     },
     "metadata": {},
     "output_type": "display_data"
    },
    {
     "name": "stderr",
     "output_type": "stream",
     "text": [
      "Generating walks (CPU: 1): 100%|██████████| 5/5 [00:00<00:00, 33.04it/s]\n"
     ]
    }
   ],
   "source": [
    "months = ['2015-01-31', '2015-02-28', '2015-03-31', '2015-04-30']\n",
    "graphs = load_graphs(months)\n",
    "j_nv, f_nv, m_nv, a_nv, j_model, f_model, m_model, a_model = create_nv_models(graphs, 5, 5, 20)\n",
    "n_vecs = [j_nv, f_nv, m_nv, a_nv]\n",
    "nv_models = [j_model, f_model, m_model, a_model]"
   ]
  },
  {
   "cell_type": "code",
   "execution_count": 280,
   "id": "6bf1aeb1ec92dd29",
   "metadata": {
    "ExecuteTime": {
     "end_time": "2024-09-18T20:47:05.515979Z",
     "start_time": "2024-09-18T20:44:19.199136Z"
    }
   },
   "outputs": [
    {
     "name": "stdout",
     "output_type": "stream",
     "text": [
      "True\n"
     ]
    },
    {
     "name": "stderr",
     "output_type": "stream",
     "text": [
      "C:\\Users\\User\\Desktop\\xai-graphs\\.venv\\lib\\site-packages\\keras\\src\\layers\\convolutional\\base_conv.py:107: UserWarning: Do not pass an `input_shape`/`input_dim` argument to a layer. When using Sequential models, prefer using an `Input(shape)` object as the first layer in the model instead.\n",
      "  super().__init__(activity_regularizer=activity_regularizer, **kwargs)\n"
     ]
    },
    {
     "name": "stdout",
     "output_type": "stream",
     "text": [
      "Epoch 1/20\n",
      "\u001b[1m164/164\u001b[0m \u001b[32m━━━━━━━━━━━━━━━━━━━━\u001b[0m\u001b[37m\u001b[0m \u001b[1m8s\u001b[0m 39ms/step - accuracy: 0.5933 - loss: 1.4072 - val_accuracy: 0.7614 - val_loss: 0.5129\n",
      "Epoch 2/20\n",
      "\u001b[1m164/164\u001b[0m \u001b[32m━━━━━━━━━━━━━━━━━━━━\u001b[0m\u001b[37m\u001b[0m \u001b[1m6s\u001b[0m 37ms/step - accuracy: 0.7312 - loss: 0.5227 - val_accuracy: 0.6434 - val_loss: 0.7125\n",
      "Epoch 3/20\n",
      "\u001b[1m164/164\u001b[0m \u001b[32m━━━━━━━━━━━━━━━━━━━━\u001b[0m\u001b[37m\u001b[0m \u001b[1m6s\u001b[0m 37ms/step - accuracy: 0.7016 - loss: 0.5786 - val_accuracy: 0.7721 - val_loss: 0.4587\n",
      "Epoch 4/20\n",
      "\u001b[1m164/164\u001b[0m \u001b[32m━━━━━━━━━━━━━━━━━━━━\u001b[0m\u001b[37m\u001b[0m \u001b[1m6s\u001b[0m 39ms/step - accuracy: 0.7514 - loss: 0.4927 - val_accuracy: 0.7694 - val_loss: 0.4640\n",
      "Epoch 5/20\n",
      "\u001b[1m164/164\u001b[0m \u001b[32m━━━━━━━━━━━━━━━━━━━━\u001b[0m\u001b[37m\u001b[0m \u001b[1m6s\u001b[0m 37ms/step - accuracy: 0.7715 - loss: 0.4710 - val_accuracy: 0.7802 - val_loss: 0.4671\n",
      "Epoch 6/20\n",
      "\u001b[1m164/164\u001b[0m \u001b[32m━━━━━━━━━━━━━━━━━━━━\u001b[0m\u001b[37m\u001b[0m \u001b[1m7s\u001b[0m 40ms/step - accuracy: 0.7772 - loss: 0.4731 - val_accuracy: 0.7864 - val_loss: 0.4571\n",
      "Epoch 7/20\n",
      "\u001b[1m164/164\u001b[0m \u001b[32m━━━━━━━━━━━━━━━━━━━━\u001b[0m\u001b[37m\u001b[0m \u001b[1m6s\u001b[0m 38ms/step - accuracy: 0.7722 - loss: 0.4778 - val_accuracy: 0.7739 - val_loss: 0.4876\n",
      "Epoch 8/20\n",
      "\u001b[1m164/164\u001b[0m \u001b[32m━━━━━━━━━━━━━━━━━━━━\u001b[0m\u001b[37m\u001b[0m \u001b[1m7s\u001b[0m 40ms/step - accuracy: 0.7639 - loss: 0.4822 - val_accuracy: 0.7739 - val_loss: 0.4908\n",
      "Epoch 9/20\n",
      "\u001b[1m164/164\u001b[0m \u001b[32m━━━━━━━━━━━━━━━━━━━━\u001b[0m\u001b[37m\u001b[0m \u001b[1m6s\u001b[0m 37ms/step - accuracy: 0.7536 - loss: 0.4934 - val_accuracy: 0.7855 - val_loss: 0.4632\n",
      "Epoch 10/20\n",
      "\u001b[1m164/164\u001b[0m \u001b[32m━━━━━━━━━━━━━━━━━━━━\u001b[0m\u001b[37m\u001b[0m \u001b[1m6s\u001b[0m 39ms/step - accuracy: 0.7811 - loss: 0.4637 - val_accuracy: 0.7766 - val_loss: 0.4578\n",
      "Epoch 11/20\n",
      "\u001b[1m164/164\u001b[0m \u001b[32m━━━━━━━━━━━━━━━━━━━━\u001b[0m\u001b[37m\u001b[0m \u001b[1m6s\u001b[0m 38ms/step - accuracy: 0.7873 - loss: 0.4636 - val_accuracy: 0.7721 - val_loss: 0.4594\n",
      "Epoch 12/20\n",
      "\u001b[1m164/164\u001b[0m \u001b[32m━━━━━━━━━━━━━━━━━━━━\u001b[0m\u001b[37m\u001b[0m \u001b[1m6s\u001b[0m 39ms/step - accuracy: 0.7909 - loss: 0.4676 - val_accuracy: 0.7811 - val_loss: 0.4663\n",
      "Epoch 13/20\n",
      "\u001b[1m164/164\u001b[0m \u001b[32m━━━━━━━━━━━━━━━━━━━━\u001b[0m\u001b[37m\u001b[0m \u001b[1m6s\u001b[0m 36ms/step - accuracy: 0.7813 - loss: 0.4681 - val_accuracy: 0.7784 - val_loss: 0.4589\n",
      "Epoch 14/20\n",
      "\u001b[1m164/164\u001b[0m \u001b[32m━━━━━━━━━━━━━━━━━━━━\u001b[0m\u001b[37m\u001b[0m \u001b[1m6s\u001b[0m 36ms/step - accuracy: 0.7648 - loss: 0.4679 - val_accuracy: 0.7819 - val_loss: 0.4686\n",
      "Epoch 15/20\n",
      "\u001b[1m164/164\u001b[0m \u001b[32m━━━━━━━━━━━━━━━━━━━━\u001b[0m\u001b[37m\u001b[0m \u001b[1m6s\u001b[0m 36ms/step - accuracy: 0.7749 - loss: 0.4621 - val_accuracy: 0.7802 - val_loss: 0.4567\n",
      "Epoch 16/20\n",
      "\u001b[1m164/164\u001b[0m \u001b[32m━━━━━━━━━━━━━━━━━━━━\u001b[0m\u001b[37m\u001b[0m \u001b[1m6s\u001b[0m 39ms/step - accuracy: 0.7776 - loss: 0.4737 - val_accuracy: 0.7569 - val_loss: 0.4666\n",
      "Epoch 17/20\n",
      "\u001b[1m164/164\u001b[0m \u001b[32m━━━━━━━━━━━━━━━━━━━━\u001b[0m\u001b[37m\u001b[0m \u001b[1m6s\u001b[0m 37ms/step - accuracy: 0.7734 - loss: 0.4703 - val_accuracy: 0.7784 - val_loss: 0.4587\n",
      "Epoch 18/20\n",
      "\u001b[1m164/164\u001b[0m \u001b[32m━━━━━━━━━━━━━━━━━━━━\u001b[0m\u001b[37m\u001b[0m \u001b[1m6s\u001b[0m 37ms/step - accuracy: 0.7910 - loss: 0.4497 - val_accuracy: 0.7784 - val_loss: 0.4646\n",
      "Epoch 19/20\n",
      "\u001b[1m164/164\u001b[0m \u001b[32m━━━━━━━━━━━━━━━━━━━━\u001b[0m\u001b[37m\u001b[0m \u001b[1m6s\u001b[0m 37ms/step - accuracy: 0.7791 - loss: 0.4555 - val_accuracy: 0.7730 - val_loss: 0.4612\n",
      "Epoch 20/20\n",
      "\u001b[1m164/164\u001b[0m \u001b[32m━━━━━━━━━━━━━━━━━━━━\u001b[0m\u001b[37m\u001b[0m \u001b[1m6s\u001b[0m 39ms/step - accuracy: 0.7654 - loss: 0.4828 - val_accuracy: 0.7712 - val_loss: 0.4635\n",
      "\u001b[1m117/117\u001b[0m \u001b[32m━━━━━━━━━━━━━━━━━━━━\u001b[0m\u001b[37m\u001b[0m \u001b[1m1s\u001b[0m 8ms/step - accuracy: 0.8110 - loss: 0.4145\n",
      "Test Accuracy: 78.14%\n",
      "\u001b[1m117/117\u001b[0m \u001b[32m━━━━━━━━━━━━━━━━━━━━\u001b[0m\u001b[37m\u001b[0m \u001b[1m1s\u001b[0m 7ms/step\n"
     ]
    },
    {
     "data": {
      "image/png": "[encoded data removed]",
      "text/plain": [
       "<Figure size 640x480 with 2 Axes>"
      ]
     },
     "metadata": {},
     "output_type": "display_data"
    },
    {
     "name": "stdout",
     "output_type": "stream",
     "text": [
      "Recall:  0.7435622317596566\n",
      "F1-score:  0.7727906328408141\n",
      "Classification metrics:\n",
      "              precision    recall  f1-score   support\n",
      "\n",
      "           0       0.76      0.82      0.79      1864\n",
      "           1       0.80      0.74      0.77      1864\n",
      "\n",
      "    accuracy                           0.78      3728\n",
      "   macro avg       0.78      0.78      0.78      3728\n",
      "weighted avg       0.78      0.78      0.78      3728\n",
      "\n"
     ]
    }
   ],
   "source": [
    "images = dict()\n",
    "for node1 in nodes:\n",
    "    for node2 in nodes:\n",
    "        if node1 != node2:\n",
    "            n_sorted = sorted([node1, node2])\n",
    "            key = f'{n_sorted[0]}-{n_sorted[1]}'\n",
    "            ds = pd.DataFrame()\n",
    "            vectors = []\n",
    "            for i in range(len(nv_models)):\n",
    "                vectors.append(nv_models[i].wv[node1])\n",
    "                vectors.append(nv_models[i].wv[node2])\n",
    "            img = np.stack(tuple(vectors), axis=0)\n",
    "            normalized_img = (img + 1) / 2\n",
    "            scaled_img = (normalized_img * 255).astype(np.uint8)\n",
    "            rgb_img = None\n",
    "            if scaled_img.ndim == 2:\n",
    "                rgb_img = np.stack([scaled_img] * 3, axis=-1)\n",
    "            else:\n",
    "                rgb_img = scaled_img\n",
    "            '''if scaled_img.ndim == 2:  # If the image is 2D (grayscale)\n",
    "                rgb_img = np.stack([scaled_img] * 3, axis=-1)  # Convert to RGB by duplicating the grayscale data\n",
    "            elif scaled_img.shape[-1] != 3:  # If the last dimension is not 3 (not already RGB)\n",
    "                rgb_img = np.stack([scaled_img[..., 0]] * 3, axis=-1)  # Expand the last dimension to 3 channels\n",
    "            else:\n",
    "                rgb_img = scaled_img'''\n",
    "            images[key] = rgb_img\n",
    "with open(f'../data/graphs/graph_2015-05-31.pkl', 'rb') as f:\n",
    "    target_graph = pickle.load(f)\n",
    "nodes = target_graph.nodes\n",
    "ds_dict = dict()\n",
    "for node1 in nodes:\n",
    "    for node2 in nodes:\n",
    "        if node1 != node2:\n",
    "            n_sorted = sorted([node1, node2])\n",
    "            ds_dict[f'{n_sorted[0]}-{n_sorted[1]}'] = 0\n",
    "for el in target_graph.edges(data=True):\n",
    "    if el[2]['weight'] > 0:\n",
    "        node1 = el[0]\n",
    "        node2 = el[1]\n",
    "        n_sorted = sorted([node1, node2])\n",
    "        ds_dict[f'{n_sorted[0]}-{n_sorted[1]}'] = 1\n",
    "all_images = []\n",
    "all_labels = []\n",
    "for key in ds_dict.keys():\n",
    "    all_labels.append(ds_dict[key])\n",
    "    all_images.append(images[key])\n",
    "\n",
    "print(len(all_labels) == len(all_images))\n",
    "\n",
    "all_images = np.array(all_images)\n",
    "all_labels = np.array(all_labels)\n",
    "\n",
    "data = pd.DataFrame({'img': list(all_images), 'target': all_labels})\n",
    "\n",
    "majority_class = data[data['target'] == 0]\n",
    "minority_class = data[data['target'] == 1]\n",
    "\n",
    "majority_undersampled = resample(majority_class,\n",
    "                                 replace=False,\n",
    "                                 n_samples=len(minority_class),\n",
    "                                 random_state=42)\n",
    "\n",
    "balanced_data = pd.concat([majority_undersampled, minority_class])\n",
    "balanced_images = np.array(balanced_data['img'].tolist())\n",
    "balanced_labels = np.array(balanced_data['target'])\n",
    "\n",
    "X_train, X_test, y_train, y_test = train_test_split(balanced_images, balanced_labels, test_size=0.3, random_state=42)\n",
    "\n",
    "model = models.Sequential([\n",
    "    layers.Conv2D(32, (3, 3), padding='same', activation='relu', input_shape=(8, 20, 3)),\n",
    "    layers.MaxPooling2D((2, 2)),\n",
    "    layers.Conv2D(64, (3, 3), padding='same', activation='relu'),\n",
    "    layers.MaxPooling2D((2, 2)),\n",
    "    layers.Conv2D(128, (6, 15), padding='same', activation='relu'),\n",
    "    layers.AveragePooling2D((2, 2)),\n",
    "    layers.Flatten(),\n",
    "    layers.Dense(128, activation='relu'),\n",
    "    # layers.Dropout(0.5),\n",
    "    layers.Dense(2, activation='softmax')\n",
    "])\n",
    "\n",
    "\n",
    "model.compile(optimizer='adam', loss='sparse_categorical_crossentropy', metrics=['accuracy'])\n",
    "history = model.fit(X_train, y_train, epochs=20, batch_size=16, validation_data=(X_test, y_test))\n",
    "\n",
    "test_loss, test_acc = model.evaluate(balanced_images, balanced_labels)\n",
    "\n",
    "print(f\"Test Accuracy: {test_acc * 100:.2f}%\")\n",
    "y_pred_probs = model.predict(balanced_images)\n",
    "y_pred = np.argmax(y_pred_probs, axis=1)\n",
    "\n",
    "cm = confusion_matrix(balanced_labels, y_pred)\n",
    "\n",
    "disp = ConfusionMatrixDisplay(confusion_matrix=cm, display_labels=np.unique(y_test))\n",
    "\n",
    "disp.plot(cmap=plt.cm.Blues)\n",
    "plt.title('Confusion Matrix')\n",
    "plt.show()\n",
    "print('Recall: ', recall_score(balanced_labels, y_pred))\n",
    "print('F1-score: ', f1_score(balanced_labels, y_pred))\n",
    "print(\"Classification metrics:\")\n",
    "print(classification_report(balanced_labels, y_pred))"
   ]
  },
  {
   "cell_type": "code",
   "execution_count": 281,
   "id": "c247e5f6f0fe7232",
   "metadata": {
    "ExecuteTime": {
     "end_time": "2024-09-18T20:48:48.797140Z",
     "start_time": "2024-09-18T20:47:48.133991Z"
    }
   },
   "outputs": [
    {
     "data": {
      "application/vnd.jupyter.widget-view+json": {
       "model_id": "f2a8b4615c9f4c8091350a83e7fa22db",
       "version_major": 2,
       "version_minor": 0
      },
      "text/plain": [
       "Computing transition probabilities:   0%|          | 0/222 [00:00<?, ?it/s]"
      ]
     },
     "metadata": {},
     "output_type": "display_data"
    },
    {
     "name": "stderr",
     "output_type": "stream",
     "text": [
      "Generating walks (CPU: 1): 100%|██████████| 5/5 [00:00<00:00, 78.72it/s]\n"
     ]
    },
    {
     "data": {
      "application/vnd.jupyter.widget-view+json": {
       "model_id": "d2707c1e6bbc470097ae7f14b96e1549",
       "version_major": 2,
       "version_minor": 0
      },
      "text/plain": [
       "Computing transition probabilities:   0%|          | 0/222 [00:00<?, ?it/s]"
      ]
     },
     "metadata": {},
     "output_type": "display_data"
    },
    {
     "name": "stderr",
     "output_type": "stream",
     "text": [
      "Generating walks (CPU: 1): 100%|██████████| 5/5 [00:00<00:00, 34.72it/s]\n"
     ]
    },
    {
     "data": {
      "application/vnd.jupyter.widget-view+json": {
       "model_id": "8886a85c173d44069d88a63519a84218",
       "version_major": 2,
       "version_minor": 0
      },
      "text/plain": [
       "Computing transition probabilities:   0%|          | 0/222 [00:00<?, ?it/s]"
      ]
     },
     "metadata": {},
     "output_type": "display_data"
    },
    {
     "name": "stderr",
     "output_type": "stream",
     "text": [
      "Generating walks (CPU: 1): 100%|██████████| 5/5 [00:00<00:00, 17.42it/s]\n"
     ]
    },
    {
     "data": {
      "application/vnd.jupyter.widget-view+json": {
       "model_id": "20fd3ac35b06423b84fb1ca68aa3e673",
       "version_major": 2,
       "version_minor": 0
      },
      "text/plain": [
       "Computing transition probabilities:   0%|          | 0/222 [00:00<?, ?it/s]"
      ]
     },
     "metadata": {},
     "output_type": "display_data"
    },
    {
     "name": "stderr",
     "output_type": "stream",
     "text": [
      "Generating walks (CPU: 1): 100%|██████████| 5/5 [00:00<00:00, 23.26it/s]\n"
     ]
    },
    {
     "name": "stdout",
     "output_type": "stream",
     "text": [
      "True\n",
      "\u001b[1m111/111\u001b[0m \u001b[32m━━━━━━━━━━━━━━━━━━━━\u001b[0m\u001b[37m\u001b[0m \u001b[1m1s\u001b[0m 7ms/step - accuracy: 0.8083 - loss: 0.4287\n",
      "Test Accuracy: 78.67%\n",
      "\u001b[1m111/111\u001b[0m \u001b[32m━━━━━━━━━━━━━━━━━━━━\u001b[0m\u001b[37m\u001b[0m \u001b[1m1s\u001b[0m 7ms/step\n"
     ]
    },
    {
     "data": {
      "image/png": "[encoded data removed]",
      "text/plain": [
       "<Figure size 640x480 with 2 Axes>"
      ]
     },
     "metadata": {},
     "output_type": "display_data"
    },
    {
     "name": "stdout",
     "output_type": "stream",
     "text": [
      "Recall:  0.7654390934844193\n",
      "F1-score:  0.78205499276411\n",
      "Classification metrics:\n",
      "              precision    recall  f1-score   support\n",
      "\n",
      "           0       0.78      0.81      0.79      1765\n",
      "           1       0.80      0.77      0.78      1765\n",
      "\n",
      "    accuracy                           0.79      3530\n",
      "   macro avg       0.79      0.79      0.79      3530\n",
      "weighted avg       0.79      0.79      0.79      3530\n",
      "\n"
     ]
    }
   ],
   "source": [
    "months = ['2018-03-31', '2018-04-30', '2018-05-31', '2018-06-30']\n",
    "graphs = load_graphs(months)\n",
    "j_nv, f_nv, m_nv, a_nv, j_model, f_model, m_model, a_model = create_nv_models(graphs, 5, 5, 20)\n",
    "n_vecs = [j_nv, f_nv, m_nv, a_nv]\n",
    "nv_models = [j_model, f_model, m_model, a_model]\n",
    "images = dict()\n",
    "for node1 in nodes:\n",
    "    for node2 in nodes:\n",
    "        if node1 != node2:\n",
    "            n_sorted = sorted([node1, node2])\n",
    "            key = f'{n_sorted[0]}-{n_sorted[1]}'\n",
    "            ds = pd.DataFrame()\n",
    "            vectors = []\n",
    "            for i in range(len(nv_models)):\n",
    "                vectors.append(nv_models[i].wv[node1])\n",
    "                vectors.append(nv_models[i].wv[node2])\n",
    "            img = np.stack(tuple(vectors), axis=0)\n",
    "            normalized_img = (img + 1) / 2\n",
    "            scaled_img = (normalized_img * 255).astype(np.uint8)\n",
    "            rgb_img = None\n",
    "            if scaled_img.ndim == 2:\n",
    "                rgb_img = np.stack([scaled_img] * 3, axis=-1)\n",
    "            else:\n",
    "                rgb_img = scaled_img\n",
    "            '''if scaled_img.ndim == 2:  # If the image is 2D (grayscale)\n",
    "                rgb_img = np.stack([scaled_img] * 3, axis=-1)  # Convert to RGB by duplicating the grayscale data\n",
    "            elif scaled_img.shape[-1] != 3:  # If the last dimension is not 3 (not already RGB)\n",
    "                rgb_img = np.stack([scaled_img[..., 0]] * 3, axis=-1)  # Expand the last dimension to 3 channels\n",
    "            else:\n",
    "                rgb_img = scaled_img'''\n",
    "            images[key] = rgb_img\n",
    "with open(f'../data/graphs/graph_2018-07-31.pkl', 'rb') as f:\n",
    "    target_graph = pickle.load(f)\n",
    "nodes = target_graph.nodes\n",
    "ds_dict = dict()\n",
    "for node1 in nodes:\n",
    "    for node2 in nodes:\n",
    "        if node1 != node2:\n",
    "            n_sorted = sorted([node1, node2])\n",
    "            ds_dict[f'{n_sorted[0]}-{n_sorted[1]}'] = 0\n",
    "for el in target_graph.edges(data=True):\n",
    "    if el[2]['weight'] > 0:\n",
    "        node1 = el[0]\n",
    "        node2 = el[1]\n",
    "        n_sorted = sorted([node1, node2])\n",
    "        ds_dict[f'{n_sorted[0]}-{n_sorted[1]}'] = 1\n",
    "all_images = []\n",
    "all_labels = []\n",
    "for key in ds_dict.keys():\n",
    "    all_labels.append(ds_dict[key])\n",
    "    all_images.append(images[key])\n",
    "\n",
    "print(len(all_labels) == len(all_images))\n",
    "\n",
    "all_images = np.array(all_images)\n",
    "all_labels = np.array(all_labels)\n",
    "\n",
    "data = pd.DataFrame({'img': list(all_images), 'target': all_labels})\n",
    "\n",
    "majority_class = data[data['target'] == 0]\n",
    "minority_class = data[data['target'] == 1]\n",
    "\n",
    "majority_undersampled = resample(majority_class,\n",
    "                                 replace=False,\n",
    "                                 n_samples=len(minority_class),\n",
    "                                 random_state=42)\n",
    "\n",
    "balanced_data = pd.concat([majority_undersampled, minority_class])\n",
    "balanced_images = np.array(balanced_data['img'].tolist())\n",
    "balanced_labels = np.array(balanced_data['target'])\n",
    "test_loss, test_acc = model.evaluate(balanced_images, balanced_labels)\n",
    "\n",
    "print(f\"Test Accuracy: {test_acc * 100:.2f}%\")\n",
    "y_pred_probs = model.predict(balanced_images)\n",
    "y_pred = np.argmax(y_pred_probs, axis=1)\n",
    "\n",
    "cm = confusion_matrix(balanced_labels, y_pred)\n",
    "\n",
    "disp = ConfusionMatrixDisplay(confusion_matrix=cm, display_labels=np.unique(y_test))\n",
    "\n",
    "disp.plot(cmap=plt.cm.Blues)\n",
    "plt.title('Confusion Matrix')\n",
    "plt.show()\n",
    "print('Recall: ', recall_score(balanced_labels, y_pred))\n",
    "print('F1-score: ', f1_score(balanced_labels, y_pred))\n",
    "print(\"Classification metrics:\")\n",
    "print(classification_report(balanced_labels, y_pred))"
   ]
  },
  {
   "cell_type": "code",
   "execution_count": 282,
   "id": "af487acc753f4333",
   "metadata": {
    "ExecuteTime": {
     "end_time": "2024-09-18T20:51:35.317949Z",
     "start_time": "2024-09-18T20:50:36.467153Z"
    }
   },
   "outputs": [
    {
     "data": {
      "application/vnd.jupyter.widget-view+json": {
       "model_id": "63ce6653b6fa4adcad98468b2aaab2f3",
       "version_major": 2,
       "version_minor": 0
      },
      "text/plain": [
       "Computing transition probabilities:   0%|          | 0/222 [00:00<?, ?it/s]"
      ]
     },
     "metadata": {},
     "output_type": "display_data"
    },
    {
     "name": "stderr",
     "output_type": "stream",
     "text": [
      "Generating walks (CPU: 1): 100%|██████████| 5/5 [00:00<00:00, 38.46it/s]\n"
     ]
    },
    {
     "data": {
      "application/vnd.jupyter.widget-view+json": {
       "model_id": "af3a0529b426431e88577cd3b0306af6",
       "version_major": 2,
       "version_minor": 0
      },
      "text/plain": [
       "Computing transition probabilities:   0%|          | 0/222 [00:00<?, ?it/s]"
      ]
     },
     "metadata": {},
     "output_type": "display_data"
    },
    {
     "name": "stderr",
     "output_type": "stream",
     "text": [
      "Generating walks (CPU: 1): 100%|██████████| 5/5 [00:00<00:00, 38.46it/s]\n"
     ]
    },
    {
     "data": {
      "application/vnd.jupyter.widget-view+json": {
       "model_id": "723822766c21448b96a89f11f20f63da",
       "version_major": 2,
       "version_minor": 0
      },
      "text/plain": [
       "Computing transition probabilities:   0%|          | 0/222 [00:00<?, ?it/s]"
      ]
     },
     "metadata": {},
     "output_type": "display_data"
    },
    {
     "name": "stderr",
     "output_type": "stream",
     "text": [
      "Generating walks (CPU: 1): 100%|██████████| 5/5 [00:00<00:00, 44.45it/s]\n"
     ]
    },
    {
     "data": {
      "application/vnd.jupyter.widget-view+json": {
       "model_id": "96399847438943f997e9bb1a712b40a7",
       "version_major": 2,
       "version_minor": 0
      },
      "text/plain": [
       "Computing transition probabilities:   0%|          | 0/222 [00:00<?, ?it/s]"
      ]
     },
     "metadata": {},
     "output_type": "display_data"
    },
    {
     "name": "stderr",
     "output_type": "stream",
     "text": [
      "Generating walks (CPU: 1): 100%|██████████| 5/5 [00:00<00:00, 11.59it/s]\n"
     ]
    },
    {
     "name": "stdout",
     "output_type": "stream",
     "text": [
      "True\n",
      "\u001b[1m109/109\u001b[0m \u001b[32m━━━━━━━━━━━━━━━━━━━━\u001b[0m\u001b[37m\u001b[0m \u001b[1m1s\u001b[0m 7ms/step - accuracy: 0.7866 - loss: 0.4521\n",
      "Test Accuracy: 78.24%\n",
      "\u001b[1m109/109\u001b[0m \u001b[32m━━━━━━━━━━━━━━━━━━━━\u001b[0m\u001b[37m\u001b[0m \u001b[1m1s\u001b[0m 7ms/step\n"
     ]
    },
    {
     "data": {
      "image/png": "[encoded data removed]",
      "text/plain": [
       "<Figure size 640x480 with 2 Axes>"
      ]
     },
     "metadata": {},
     "output_type": "display_data"
    },
    {
     "name": "stdout",
     "output_type": "stream",
     "text": [
      "Recall:  0.7913544668587896\n",
      "F1-score:  0.7843473293344758\n",
      "Classification metrics:\n",
      "              precision    recall  f1-score   support\n",
      "\n",
      "           0       0.79      0.77      0.78      1735\n",
      "           1       0.78      0.79      0.78      1735\n",
      "\n",
      "    accuracy                           0.78      3470\n",
      "   macro avg       0.78      0.78      0.78      3470\n",
      "weighted avg       0.78      0.78      0.78      3470\n",
      "\n"
     ]
    }
   ],
   "source": [
    "months = ['2015-03-31', '2015-04-30', '2015-05-31', '2015-06-30']\n",
    "graphs = load_graphs(months)\n",
    "j_nv, f_nv, m_nv, a_nv, j_model, f_model, m_model, a_model = create_nv_models(graphs, 5, 5, 20)\n",
    "n_vecs = [j_nv, f_nv, m_nv, a_nv]\n",
    "nv_models = [j_model, f_model, m_model, a_model]\n",
    "images = dict()\n",
    "for node1 in nodes:\n",
    "    for node2 in nodes:\n",
    "        if node1 != node2:\n",
    "            n_sorted = sorted([node1, node2])\n",
    "            key = f'{n_sorted[0]}-{n_sorted[1]}'\n",
    "            ds = pd.DataFrame()\n",
    "            vectors = []\n",
    "            for i in range(len(nv_models)):\n",
    "                vectors.append(nv_models[i].wv[node1])\n",
    "                vectors.append(nv_models[i].wv[node2])\n",
    "            img = np.stack(tuple(vectors), axis=0)\n",
    "            normalized_img = (img + 1) / 2\n",
    "            scaled_img = (normalized_img * 255).astype(np.uint8)\n",
    "            rgb_img = None\n",
    "            if scaled_img.ndim == 2:\n",
    "                rgb_img = np.stack([scaled_img] * 3, axis=-1)\n",
    "            else:\n",
    "                rgb_img = scaled_img\n",
    "            '''if scaled_img.ndim == 2:  # If the image is 2D (grayscale)\n",
    "                rgb_img = np.stack([scaled_img] * 3, axis=-1)  # Convert to RGB by duplicating the grayscale data\n",
    "            elif scaled_img.shape[-1] != 3:  # If the last dimension is not 3 (not already RGB)\n",
    "                rgb_img = np.stack([scaled_img[..., 0]] * 3, axis=-1)  # Expand the last dimension to 3 channels\n",
    "            else:\n",
    "                rgb_img = scaled_img'''\n",
    "            images[key] = rgb_img\n",
    "with open(f'../data/graphs/graph_2015-07-31.pkl', 'rb') as f:\n",
    "    target_graph = pickle.load(f)\n",
    "nodes = target_graph.nodes\n",
    "ds_dict = dict()\n",
    "for node1 in nodes:\n",
    "    for node2 in nodes:\n",
    "        if node1 != node2:\n",
    "            n_sorted = sorted([node1, node2])\n",
    "            ds_dict[f'{n_sorted[0]}-{n_sorted[1]}'] = 0\n",
    "for el in target_graph.edges(data=True):\n",
    "    if el[2]['weight'] > 0:\n",
    "        node1 = el[0]\n",
    "        node2 = el[1]\n",
    "        n_sorted = sorted([node1, node2])\n",
    "        ds_dict[f'{n_sorted[0]}-{n_sorted[1]}'] = 1\n",
    "all_images = []\n",
    "all_labels = []\n",
    "for key in ds_dict.keys():\n",
    "    all_labels.append(ds_dict[key])\n",
    "    all_images.append(images[key])\n",
    "\n",
    "print(len(all_labels) == len(all_images))\n",
    "\n",
    "all_images = np.array(all_images)\n",
    "all_labels = np.array(all_labels)\n",
    "\n",
    "data = pd.DataFrame({'img': list(all_images), 'target': all_labels})\n",
    "\n",
    "majority_class = data[data['target'] == 0]\n",
    "minority_class = data[data['target'] == 1]\n",
    "\n",
    "majority_undersampled = resample(majority_class,\n",
    "                                 replace=False,\n",
    "                                 n_samples=len(minority_class),\n",
    "                                 random_state=42)\n",
    "\n",
    "balanced_data = pd.concat([majority_undersampled, minority_class])\n",
    "balanced_images = np.array(balanced_data['img'].tolist())\n",
    "balanced_labels = np.array(balanced_data['target'])\n",
    "test_loss, test_acc = model.evaluate(balanced_images, balanced_labels)\n",
    "\n",
    "print(f\"Test Accuracy: {test_acc * 100:.2f}%\")\n",
    "y_pred_probs = model.predict(balanced_images)\n",
    "y_pred = np.argmax(y_pred_probs, axis=1)\n",
    "\n",
    "cm = confusion_matrix(balanced_labels, y_pred)\n",
    "\n",
    "disp = ConfusionMatrixDisplay(confusion_matrix=cm, display_labels=np.unique(y_test))\n",
    "\n",
    "disp.plot(cmap=plt.cm.Blues)\n",
    "plt.title('Confusion Matrix')\n",
    "plt.show()\n",
    "print('Recall: ', recall_score(balanced_labels, y_pred))\n",
    "print('F1-score: ', f1_score(balanced_labels, y_pred))\n",
    "print(\"Classification metrics:\")\n",
    "print(classification_report(balanced_labels, y_pred))"
   ]
  },
  {
   "cell_type": "code",
   "execution_count": null,
   "id": "d9ee0d08bbb36d6f",
   "metadata": {},
   "outputs": [],
   "source": []
  }
 ],
 "metadata": {
  "kernelspec": {
   "display_name": "venv",
   "language": "python",
   "name": "python3"
  },
  "language_info": {
   "codemirror_mode": {
    "name": "ipython",
    "version": 3
   },
   "file_extension": ".py",
   "mimetype": "text/x-python",
   "name": "python",
   "nbconvert_exporter": "python",
   "pygments_lexer": "ipython3",
   "version": "3.10.11"
  }
 },
 "nbformat": 4,
 "nbformat_minor": 5
}
